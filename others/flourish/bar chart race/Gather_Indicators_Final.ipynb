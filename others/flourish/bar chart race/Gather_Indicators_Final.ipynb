{
 "cells": [
  {
   "cell_type": "code",
   "execution_count": 1,
   "metadata": {},
   "outputs": [],
   "source": [
    "import pandas as pd\n",
    "import numpy as np\n",
    "import requests\n",
    "import os\n",
    "from pandas_datareader import wb"
   ]
  },
  {
   "cell_type": "code",
   "execution_count": 2,
   "metadata": {},
   "outputs": [],
   "source": [
    "countries = pd.read_csv('iso3_to_wb_name.csv',sep=',')\n",
    "names_to_iso = pd.read_excel('names_to_iso.xlsx')\n",
    "iso_to_wb = pd.read_csv('iso3_to_wb_name.csv')\n",
    "iso_to_wb = iso_to_wb.set_index('iso3')\n",
    "dict_map = {b:a for a,b in zip(names_to_iso.iso3,names_to_iso.country)}"
   ]
  },
  {
   "cell_type": "code",
   "execution_count": 3,
   "metadata": {},
   "outputs": [],
   "source": [
    "def get_latest_year(data):\n",
    "    \"\"\"Get latest year of data\"\"\"\n",
    "    df = pd.DataFrame()\n",
    "    for country in data['Country Name'].unique():\n",
    "        temp = data[data['Country Name']==country]\n",
    "        temp = temp[temp.Year==temp.Year.max()]\n",
    "        df = df.append(temp)\n",
    "    return df.reset_index(drop=True)\n",
    "\n",
    "def func(a,b):\n",
    "    return (a - b) / (np.log(a) - np.log(b))\n",
    "\n",
    "def map_country(x,dict_map):\n",
    "    if x in dict_map.keys():\n",
    "        return dict_map[x]\n",
    "    else:\n",
    "        return x"
   ]
  },
  {
   "cell_type": "code",
   "execution_count": 4,
   "metadata": {},
   "outputs": [],
   "source": [
    "regions = ['Arab World', 'Caribbean small states','Central Europe and the Baltics', 'Early-demographic dividend','East Asia & Pacific','East Asia & Pacific (excluding high income)','East Asia & Pacific (IDA & IBRD countries)', 'Euro area','Europe & Central Asia',\n",
    "'Europe & Central Asia (excluding high income)','Europe & Central Asia (IDA & IBRD countries)', 'European Union','Fragile and conflict affected situations',\n",
    "'Heavily indebted poor countries (HIPC)', 'High income','IBRD only', 'IDA & IBRD total', 'IDA blend', 'IDA only','IDA total', 'Late-demographic dividend','Latin America & Caribbean','Latin America & Caribbean (excluding high income)','Latin America & the Caribbean (IDA & IBRD countries)','Least developed countries: UN classification',\n",
    "'Low & middle income', 'Low income', 'Lower middle income','Middle East & North Africa','Middle East & North Africa (excluding high income)','Middle East & North Africa (IDA & IBRD countries)','Middle income', 'North America', 'OECD members',\n",
    "'Other small states', 'Pacific island small states','Post-demographic dividend', 'Pre-demographic dividend','Small states', 'South Asia', 'South Asia (IDA & IBRD)','Sub-Saharan Africa', 'Sub-Saharan Africa (excluding high income)',\n",
    "'Sub-Saharan Africa (IDA & IBRD countries)', 'Upper middle income','World','East Asia & Pacific (all income levels)',\n",
    "'Europe & Central Asia (all income levels)','Latin America & Caribbean (all income levels)','Middle East & North Africa (all income levels)',\n",
    "'South Asia (all income levels)','Sub-Saharan Africa (all income levels)',]"
   ]
  },
  {
   "cell_type": "markdown",
   "metadata": {},
   "source": [
    "## Emissions - CAIT - API"
   ]
  },
  {
   "cell_type": "code",
   "execution_count": 48,
   "metadata": {
    "collapsed": true,
    "jupyter": {
     "outputs_hidden": true
    }
   },
   "outputs": [
    {
     "ename": "KeyError",
     "evalue": "\"None of ['iso_code3'] are in the columns\"",
     "output_type": "error",
     "traceback": [
      "\u001b[1;31m---------------------------------------------------------------------------\u001b[0m",
      "\u001b[1;31mKeyError\u001b[0m                                  Traceback (most recent call last)",
      "\u001b[1;32m<ipython-input-48-6e4cc506697f>\u001b[0m in \u001b[0;36m<module>\u001b[1;34m\u001b[0m\n\u001b[0;32m     22\u001b[0m         \u001b[0mout\u001b[0m\u001b[1;33m.\u001b[0m\u001b[0mappend\u001b[0m\u001b[1;33m(\u001b[0m\u001b[0miso\u001b[0m\u001b[1;33m)\u001b[0m\u001b[1;33m\u001b[0m\u001b[1;33m\u001b[0m\u001b[0m\n\u001b[0;32m     23\u001b[0m \u001b[1;33m\u001b[0m\u001b[0m\n\u001b[1;32m---> 24\u001b[1;33m \u001b[0mdf_full\u001b[0m \u001b[1;33m=\u001b[0m \u001b[0mdf_full\u001b[0m\u001b[1;33m.\u001b[0m\u001b[0mset_index\u001b[0m\u001b[1;33m(\u001b[0m\u001b[1;34m'iso_code3'\u001b[0m\u001b[1;33m)\u001b[0m\u001b[1;33m\u001b[0m\u001b[1;33m\u001b[0m\u001b[0m\n\u001b[0m\u001b[0;32m     25\u001b[0m \u001b[0mdf_full\u001b[0m\u001b[1;33m[\u001b[0m\u001b[1;34m'country'\u001b[0m\u001b[1;33m]\u001b[0m \u001b[1;33m=\u001b[0m \u001b[0miso_to_wb\u001b[0m\u001b[1;33m[\u001b[0m\u001b[1;34m'country'\u001b[0m\u001b[1;33m]\u001b[0m\u001b[1;33m\u001b[0m\u001b[1;33m\u001b[0m\u001b[0m\n\u001b[0;32m     26\u001b[0m \u001b[1;32mif\u001b[0m \u001b[1;32mnot\u001b[0m \u001b[0mos\u001b[0m\u001b[1;33m.\u001b[0m\u001b[0mpath\u001b[0m\u001b[1;33m.\u001b[0m\u001b[0misdir\u001b[0m\u001b[1;33m(\u001b[0m\u001b[1;34m'Data/Emissions'\u001b[0m\u001b[1;33m)\u001b[0m\u001b[1;33m:\u001b[0m\u001b[1;33m\u001b[0m\u001b[1;33m\u001b[0m\u001b[0m\n",
      "\u001b[1;32m~\\Anaconda3\\lib\\site-packages\\pandas\\core\\frame.py\u001b[0m in \u001b[0;36mset_index\u001b[1;34m(self, keys, drop, append, inplace, verify_integrity)\u001b[0m\n\u001b[0;32m   4549\u001b[0m \u001b[1;33m\u001b[0m\u001b[0m\n\u001b[0;32m   4550\u001b[0m         \u001b[1;32mif\u001b[0m \u001b[0mmissing\u001b[0m\u001b[1;33m:\u001b[0m\u001b[1;33m\u001b[0m\u001b[1;33m\u001b[0m\u001b[0m\n\u001b[1;32m-> 4551\u001b[1;33m             \u001b[1;32mraise\u001b[0m \u001b[0mKeyError\u001b[0m\u001b[1;33m(\u001b[0m\u001b[1;34mf\"None of {missing} are in the columns\"\u001b[0m\u001b[1;33m)\u001b[0m\u001b[1;33m\u001b[0m\u001b[1;33m\u001b[0m\u001b[0m\n\u001b[0m\u001b[0;32m   4552\u001b[0m \u001b[1;33m\u001b[0m\u001b[0m\n\u001b[0;32m   4553\u001b[0m         \u001b[1;32mif\u001b[0m \u001b[0minplace\u001b[0m\u001b[1;33m:\u001b[0m\u001b[1;33m\u001b[0m\u001b[1;33m\u001b[0m\u001b[0m\n",
      "\u001b[1;31mKeyError\u001b[0m: \"None of ['iso_code3'] are in the columns\""
     ]
    }
   ],
   "source": [
    "df_full = pd.DataFrame()\n",
    "out = []\n",
    "for iso in countries.iso3.unique():\n",
    "    try:\n",
    "        df_country = pd.DataFrame()\n",
    "        r = requests.get('https://www.climatewatchdata.org/api/v1/data/historical_emissions?regions=%s'%iso)\n",
    "        x = r.json()\n",
    "        df = pd.DataFrame(x['data'])\n",
    "        df = df[df.data_source=='CAIT']\n",
    "\n",
    "        for i in df.index:\n",
    "            temp = df[i:i+1]\n",
    "            dict_em = temp['emissions'][i]\n",
    "            num = len(dict_em)\n",
    "            temp = temp.drop('emissions',axis=1)\n",
    "            newdf = pd.DataFrame(np.repeat(temp.values,num,axis=0))\n",
    "            newdf.columns = temp.columns\n",
    "            newdf[['year','value']] = pd.DataFrame(dict_em)\n",
    "            df_country = df_country.append(newdf)\n",
    "        df_full = df_full.append(df_country)\n",
    "    except:\n",
    "        out.append(iso)\n",
    "        \n",
    "df_full = df_full.set_index('iso_code3')\n",
    "df_full['country'] = iso_to_wb['country']\n",
    "df_full.reset_index().to_excel('Data/Emissions/Emissions_CAIT.xlsx')"
   ]
  },
  {
   "cell_type": "markdown",
   "metadata": {},
   "source": [
    "#### Contribution to total Growth"
   ]
  },
  {
   "cell_type": "code",
   "execution_count": null,
   "metadata": {},
   "outputs": [],
   "source": [
    "df = pd.read_excel('Data/Emissions/Emissions_CAIT.xlsx')\n",
    "df = df[df.gas=='All GHG']\n",
    "df = df[df.sector.isin(['Industrial Processes', 'Agriculture', 'Waste',\n",
    "       'Land-Use Change and Forestry', 'Electricity/Heat',\n",
    "       'Manufacturing/Construction', 'Transportation', 'Building',\n",
    "       'Other Fuel Combustion', 'Fugitive Emissions'])]\n",
    "\n",
    "df_group = df.groupby(['iso_code3','country','gas','year','unit']).sum()\n",
    "df_group = df_group.reset_index()\n",
    "\n",
    "df_group['sector'] = 'Total (excluding Bunker Fuels)'\n",
    "\n",
    "df = df.append(df_group)"
   ]
  },
  {
   "cell_type": "code",
   "execution_count": null,
   "metadata": {},
   "outputs": [],
   "source": [
    "df_ = df[df.year.isin([2012,2018])]\n",
    "\n",
    "df_2018 = df_[df_.year==2018]\n",
    "df_2012 = df_[df_.year==2012]\n",
    "\n",
    "df_2018 = df_2018.set_index(['country','sector'])\n",
    "df_2012 = df_2012.set_index(['country','sector'])\n",
    "\n",
    "df_2018['Sectoral Growth'] = (df_2018['value'] - df_2012['value'])/ df_2012['value']\n",
    "df_2018['Sectoral diff'] = df_2018['value'] - df_2012['value']\n",
    "\n",
    "df_2018 = df_2018.reset_index()\n",
    "\n",
    "df_tot = pd.DataFrame()\n",
    "for count in df_2018.country.unique():\n",
    "    df_country = df_2018[df_2018.country==count]    \n",
    "    diff_tot = df_country.loc[df_country.sector=='Total (excluding Bunker Fuels)', 'Sectoral diff'].values[0] \n",
    "    growth_tot = df_country.loc[df_country.sector=='Total (excluding Bunker Fuels)', 'Sectoral Growth'].values[0]\n",
    "    df_country['Contribution_Total_Growth'] = growth_tot * df_country['Sectoral diff'] / diff_tot\n",
    "    \n",
    "    df_country.loc[df_country.sector=='Total (excluding Bunker Fuels)','Contribution_Total_Growth'] = -100\n",
    "    df_country = df_country.sort_values('Contribution_Total_Growth',ascending=False)\n",
    "    df_country['Ranking'] = range(1,len(df_country)+1)\n",
    "    df_country.loc[df_country.sector=='Total (excluding Bunker Fuels)','Contribution_Total_Growth'] = 0\n",
    "    \n",
    "    df_tot = df_tot.append(df_country)\n",
    "\n",
    "df_tot.to_excel('Data/Emissions/Contribution_Total_Growth.xlsx')"
   ]
  },
  {
   "cell_type": "markdown",
   "metadata": {},
   "source": [
    "#### Contribution total growth (GDP, Pop)"
   ]
  },
  {
   "cell_type": "code",
   "execution_count": 103,
   "metadata": {},
   "outputs": [],
   "source": [
    "df = pd.read_excel('Data/Emissions/Emissions_CAIT.xlsx')\n",
    "df = df[df.gas=='All GHG']\n",
    "df = df[df.sector.isin(['Industrial Processes', 'Agriculture', 'Waste','Land-Use Change and Forestry', 'Electricity/Heat',\n",
    "       'Manufacturing/Construction', 'Transportation', 'Building','Other Fuel Combustion', 'Fugitive Emissions'])]\n",
    "\n",
    "\n",
    "df_ = df[df.year.isin([2012,2018])]\n",
    "\n",
    "df_2018 = df_[df_.year==2018]\n",
    "df_2012 = df_[df_.year==2012]\n",
    "\n",
    "df_2018 = df_2018.set_index(['country','sector'])\n",
    "df_2012 = df_2012.set_index(['country','sector'])\n",
    "\n",
    "df_tot = df_2018.append(df_2012)\n",
    "df_tot = df_tot.reset_index()\n",
    "df_tot = df_tot.set_index(['country','year'])\n",
    "\n",
    "gdp = wb.download(indicator='NY.GDP.MKTP.CD',country='all',start=1990,end=2020)\n",
    "gdp = gdp.reset_index().dropna()\n",
    "gdp.columns = ['Country Name','Year','GDP']\n",
    "gdp = gdp[~gdp['Country Name'].isin(regions)]\n",
    "gdp['Year'] = gdp['Year'].astype(int)\n",
    "\n",
    "gdp = gdp.set_index(['Country Name','Year'])\n",
    "df_tot['GDP'] = gdp['GDP']\n",
    "\n",
    "pop = wb.download(indicator='SP.POP.TOTL',country='all',start=1980,end=2020)\n",
    "pop = pop.reset_index().dropna()\n",
    "pop.columns = ['Country Name','Year','Population']\n",
    "pop = pop[~pop['Country Name'].isin(regions)]\n",
    "pop['Year'] = pop['Year'].astype(int)\n",
    "\n",
    "pop = pop.set_index(['Country Name','Year'])\n",
    "\n",
    "df_tot['Population'] = pop['Population']\n",
    "\n",
    "df_tot = df_tot.reset_index()\n",
    "df_tot['GDP_cap'] = df_tot['GDP'] / df_tot['Population']\n",
    "df_tot['GHG_GDP'] = df_tot['value'] / df_tot['GDP']"
   ]
  },
  {
   "cell_type": "code",
   "execution_count": 104,
   "metadata": {
    "collapsed": true,
    "jupyter": {
     "outputs_hidden": true
    }
   },
   "outputs": [
    {
     "name": "stderr",
     "output_type": "stream",
     "text": [
      "C:\\Users\\WB526885\\Anaconda3\\lib\\site-packages\\pandas\\core\\series.py:726: RuntimeWarning: divide by zero encountered in log\n",
      "  result = getattr(ufunc, method)(*inputs, **kwargs)\n",
      "C:\\Users\\WB526885\\Anaconda3\\lib\\site-packages\\pandas\\core\\series.py:726: RuntimeWarning: divide by zero encountered in log\n",
      "  result = getattr(ufunc, method)(*inputs, **kwargs)\n",
      "C:\\Users\\WB526885\\Anaconda3\\lib\\site-packages\\pandas\\core\\series.py:726: RuntimeWarning: divide by zero encountered in log\n",
      "  result = getattr(ufunc, method)(*inputs, **kwargs)\n",
      "C:\\Users\\WB526885\\Anaconda3\\lib\\site-packages\\pandas\\core\\series.py:726: RuntimeWarning: divide by zero encountered in log\n",
      "  result = getattr(ufunc, method)(*inputs, **kwargs)\n",
      "C:\\Users\\WB526885\\Anaconda3\\lib\\site-packages\\pandas\\core\\series.py:726: RuntimeWarning: divide by zero encountered in log\n",
      "  result = getattr(ufunc, method)(*inputs, **kwargs)\n",
      "C:\\Users\\WB526885\\Anaconda3\\lib\\site-packages\\pandas\\core\\series.py:726: RuntimeWarning: divide by zero encountered in log\n",
      "  result = getattr(ufunc, method)(*inputs, **kwargs)\n",
      "C:\\Users\\WB526885\\Anaconda3\\lib\\site-packages\\pandas\\core\\series.py:726: RuntimeWarning: divide by zero encountered in log\n",
      "  result = getattr(ufunc, method)(*inputs, **kwargs)\n",
      "C:\\Users\\WB526885\\Anaconda3\\lib\\site-packages\\pandas\\core\\series.py:726: RuntimeWarning: divide by zero encountered in log\n",
      "  result = getattr(ufunc, method)(*inputs, **kwargs)\n",
      "C:\\Users\\WB526885\\Anaconda3\\lib\\site-packages\\pandas\\core\\series.py:726: RuntimeWarning: divide by zero encountered in log\n",
      "  result = getattr(ufunc, method)(*inputs, **kwargs)\n",
      "C:\\Users\\WB526885\\Anaconda3\\lib\\site-packages\\pandas\\core\\series.py:726: RuntimeWarning: divide by zero encountered in log\n",
      "  result = getattr(ufunc, method)(*inputs, **kwargs)\n",
      "C:\\Users\\WB526885\\Anaconda3\\lib\\site-packages\\pandas\\core\\series.py:726: RuntimeWarning: divide by zero encountered in log\n",
      "  result = getattr(ufunc, method)(*inputs, **kwargs)\n",
      "C:\\Users\\WB526885\\Anaconda3\\lib\\site-packages\\pandas\\core\\series.py:726: RuntimeWarning: divide by zero encountered in log\n",
      "  result = getattr(ufunc, method)(*inputs, **kwargs)\n",
      "C:\\Users\\WB526885\\Anaconda3\\lib\\site-packages\\pandas\\core\\series.py:726: RuntimeWarning: divide by zero encountered in log\n",
      "  result = getattr(ufunc, method)(*inputs, **kwargs)\n",
      "C:\\Users\\WB526885\\Anaconda3\\lib\\site-packages\\pandas\\core\\series.py:726: RuntimeWarning: divide by zero encountered in log\n",
      "  result = getattr(ufunc, method)(*inputs, **kwargs)\n",
      "C:\\Users\\WB526885\\Anaconda3\\lib\\site-packages\\pandas\\core\\series.py:726: RuntimeWarning: divide by zero encountered in log\n",
      "  result = getattr(ufunc, method)(*inputs, **kwargs)\n",
      "C:\\Users\\WB526885\\Anaconda3\\lib\\site-packages\\pandas\\core\\series.py:726: RuntimeWarning: divide by zero encountered in log\n",
      "  result = getattr(ufunc, method)(*inputs, **kwargs)\n",
      "C:\\Users\\WB526885\\Anaconda3\\lib\\site-packages\\pandas\\core\\series.py:726: RuntimeWarning: divide by zero encountered in log\n",
      "  result = getattr(ufunc, method)(*inputs, **kwargs)\n",
      "C:\\Users\\WB526885\\Anaconda3\\lib\\site-packages\\pandas\\core\\series.py:726: RuntimeWarning: divide by zero encountered in log\n",
      "  result = getattr(ufunc, method)(*inputs, **kwargs)\n",
      "C:\\Users\\WB526885\\Anaconda3\\lib\\site-packages\\pandas\\core\\series.py:726: RuntimeWarning: divide by zero encountered in log\n",
      "  result = getattr(ufunc, method)(*inputs, **kwargs)\n",
      "C:\\Users\\WB526885\\Anaconda3\\lib\\site-packages\\pandas\\core\\series.py:726: RuntimeWarning: divide by zero encountered in log\n",
      "  result = getattr(ufunc, method)(*inputs, **kwargs)\n",
      "C:\\Users\\WB526885\\Anaconda3\\lib\\site-packages\\pandas\\core\\series.py:726: RuntimeWarning: divide by zero encountered in log\n",
      "  result = getattr(ufunc, method)(*inputs, **kwargs)\n",
      "C:\\Users\\WB526885\\Anaconda3\\lib\\site-packages\\pandas\\core\\series.py:726: RuntimeWarning: divide by zero encountered in log\n",
      "  result = getattr(ufunc, method)(*inputs, **kwargs)\n",
      "C:\\Users\\WB526885\\Anaconda3\\lib\\site-packages\\pandas\\core\\series.py:726: RuntimeWarning: divide by zero encountered in log\n",
      "  result = getattr(ufunc, method)(*inputs, **kwargs)\n",
      "C:\\Users\\WB526885\\Anaconda3\\lib\\site-packages\\pandas\\core\\series.py:726: RuntimeWarning: divide by zero encountered in log\n",
      "  result = getattr(ufunc, method)(*inputs, **kwargs)\n",
      "C:\\Users\\WB526885\\Anaconda3\\lib\\site-packages\\pandas\\core\\series.py:726: RuntimeWarning: divide by zero encountered in log\n",
      "  result = getattr(ufunc, method)(*inputs, **kwargs)\n",
      "C:\\Users\\WB526885\\Anaconda3\\lib\\site-packages\\pandas\\core\\series.py:726: RuntimeWarning: divide by zero encountered in log\n",
      "  result = getattr(ufunc, method)(*inputs, **kwargs)\n",
      "C:\\Users\\WB526885\\Anaconda3\\lib\\site-packages\\pandas\\core\\series.py:726: RuntimeWarning: divide by zero encountered in log\n",
      "  result = getattr(ufunc, method)(*inputs, **kwargs)\n",
      "C:\\Users\\WB526885\\Anaconda3\\lib\\site-packages\\pandas\\core\\series.py:726: RuntimeWarning: divide by zero encountered in log\n",
      "  result = getattr(ufunc, method)(*inputs, **kwargs)\n",
      "C:\\Users\\WB526885\\Anaconda3\\lib\\site-packages\\pandas\\core\\series.py:726: RuntimeWarning: divide by zero encountered in log\n",
      "  result = getattr(ufunc, method)(*inputs, **kwargs)\n",
      "C:\\Users\\WB526885\\Anaconda3\\lib\\site-packages\\pandas\\core\\series.py:726: RuntimeWarning: divide by zero encountered in log\n",
      "  result = getattr(ufunc, method)(*inputs, **kwargs)\n",
      "C:\\Users\\WB526885\\Anaconda3\\lib\\site-packages\\pandas\\core\\series.py:726: RuntimeWarning: divide by zero encountered in log\n",
      "  result = getattr(ufunc, method)(*inputs, **kwargs)\n",
      "C:\\Users\\WB526885\\Anaconda3\\lib\\site-packages\\pandas\\core\\series.py:726: RuntimeWarning: divide by zero encountered in log\n",
      "  result = getattr(ufunc, method)(*inputs, **kwargs)\n",
      "C:\\Users\\WB526885\\Anaconda3\\lib\\site-packages\\pandas\\core\\series.py:726: RuntimeWarning: divide by zero encountered in log\n",
      "  result = getattr(ufunc, method)(*inputs, **kwargs)\n",
      "C:\\Users\\WB526885\\Anaconda3\\lib\\site-packages\\pandas\\core\\series.py:726: RuntimeWarning: divide by zero encountered in log\n",
      "  result = getattr(ufunc, method)(*inputs, **kwargs)\n",
      "C:\\Users\\WB526885\\Anaconda3\\lib\\site-packages\\pandas\\core\\series.py:726: RuntimeWarning: divide by zero encountered in log\n",
      "  result = getattr(ufunc, method)(*inputs, **kwargs)\n",
      "C:\\Users\\WB526885\\Anaconda3\\lib\\site-packages\\pandas\\core\\series.py:726: RuntimeWarning: divide by zero encountered in log\n",
      "  result = getattr(ufunc, method)(*inputs, **kwargs)\n",
      "C:\\Users\\WB526885\\Anaconda3\\lib\\site-packages\\pandas\\core\\series.py:726: RuntimeWarning: divide by zero encountered in log\n",
      "  result = getattr(ufunc, method)(*inputs, **kwargs)\n",
      "C:\\Users\\WB526885\\Anaconda3\\lib\\site-packages\\pandas\\core\\series.py:726: RuntimeWarning: divide by zero encountered in log\n",
      "  result = getattr(ufunc, method)(*inputs, **kwargs)\n",
      "C:\\Users\\WB526885\\Anaconda3\\lib\\site-packages\\pandas\\core\\series.py:726: RuntimeWarning: divide by zero encountered in log\n",
      "  result = getattr(ufunc, method)(*inputs, **kwargs)\n",
      "C:\\Users\\WB526885\\Anaconda3\\lib\\site-packages\\pandas\\core\\series.py:726: RuntimeWarning: divide by zero encountered in log\n",
      "  result = getattr(ufunc, method)(*inputs, **kwargs)\n",
      "C:\\Users\\WB526885\\Anaconda3\\lib\\site-packages\\pandas\\core\\series.py:726: RuntimeWarning: divide by zero encountered in log\n",
      "  result = getattr(ufunc, method)(*inputs, **kwargs)\n",
      "C:\\Users\\WB526885\\Anaconda3\\lib\\site-packages\\pandas\\core\\series.py:726: RuntimeWarning: divide by zero encountered in log\n",
      "  result = getattr(ufunc, method)(*inputs, **kwargs)\n",
      "<ipython-input-79-f8183ef8d086>:2: RuntimeWarning: invalid value encountered in double_scalars\n",
      "  return (a - b) / (np.log(a) - np.log(b))\n",
      "C:\\Users\\WB526885\\Anaconda3\\lib\\site-packages\\pandas\\core\\series.py:726: RuntimeWarning: divide by zero encountered in log\n",
      "  result = getattr(ufunc, method)(*inputs, **kwargs)\n",
      "C:\\Users\\WB526885\\Anaconda3\\lib\\site-packages\\pandas\\core\\series.py:726: RuntimeWarning: divide by zero encountered in log\n",
      "  result = getattr(ufunc, method)(*inputs, **kwargs)\n",
      "C:\\Users\\WB526885\\Anaconda3\\lib\\site-packages\\pandas\\core\\series.py:726: RuntimeWarning: divide by zero encountered in log\n",
      "  result = getattr(ufunc, method)(*inputs, **kwargs)\n",
      "C:\\Users\\WB526885\\Anaconda3\\lib\\site-packages\\pandas\\core\\series.py:726: RuntimeWarning: divide by zero encountered in log\n",
      "  result = getattr(ufunc, method)(*inputs, **kwargs)\n",
      "C:\\Users\\WB526885\\Anaconda3\\lib\\site-packages\\pandas\\core\\series.py:726: RuntimeWarning: divide by zero encountered in log\n",
      "  result = getattr(ufunc, method)(*inputs, **kwargs)\n",
      "C:\\Users\\WB526885\\Anaconda3\\lib\\site-packages\\pandas\\core\\series.py:726: RuntimeWarning: divide by zero encountered in log\n",
      "  result = getattr(ufunc, method)(*inputs, **kwargs)\n",
      "C:\\Users\\WB526885\\Anaconda3\\lib\\site-packages\\pandas\\core\\series.py:726: RuntimeWarning: divide by zero encountered in log\n",
      "  result = getattr(ufunc, method)(*inputs, **kwargs)\n",
      "C:\\Users\\WB526885\\Anaconda3\\lib\\site-packages\\pandas\\core\\series.py:726: RuntimeWarning: divide by zero encountered in log\n",
      "  result = getattr(ufunc, method)(*inputs, **kwargs)\n",
      "C:\\Users\\WB526885\\Anaconda3\\lib\\site-packages\\pandas\\core\\series.py:726: RuntimeWarning: divide by zero encountered in log\n",
      "  result = getattr(ufunc, method)(*inputs, **kwargs)\n",
      "C:\\Users\\WB526885\\Anaconda3\\lib\\site-packages\\pandas\\core\\series.py:726: RuntimeWarning: divide by zero encountered in log\n",
      "  result = getattr(ufunc, method)(*inputs, **kwargs)\n",
      "C:\\Users\\WB526885\\Anaconda3\\lib\\site-packages\\pandas\\core\\series.py:726: RuntimeWarning: divide by zero encountered in log\n",
      "  result = getattr(ufunc, method)(*inputs, **kwargs)\n",
      "C:\\Users\\WB526885\\Anaconda3\\lib\\site-packages\\pandas\\core\\series.py:726: RuntimeWarning: divide by zero encountered in log\n",
      "  result = getattr(ufunc, method)(*inputs, **kwargs)\n",
      "<ipython-input-79-f8183ef8d086>:2: RuntimeWarning: divide by zero encountered in log\n",
      "  return (a - b) / (np.log(a) - np.log(b))\n",
      "<ipython-input-79-f8183ef8d086>:2: RuntimeWarning: invalid value encountered in double_scalars\n",
      "  return (a - b) / (np.log(a) - np.log(b))\n",
      "C:\\Users\\WB526885\\Anaconda3\\lib\\site-packages\\pandas\\core\\series.py:726: RuntimeWarning: divide by zero encountered in log\n",
      "  result = getattr(ufunc, method)(*inputs, **kwargs)\n",
      "<ipython-input-104-9271f2e5d483>:23: RuntimeWarning: invalid value encountered in true_divide\n",
      "  df_out['Value'] = [Diff_GDP,Diff_Pop,Diff_GHG] / ghg_tot_2012\n",
      "C:\\Users\\WB526885\\Anaconda3\\lib\\site-packages\\pandas\\core\\series.py:726: RuntimeWarning: divide by zero encountered in log\n",
      "  result = getattr(ufunc, method)(*inputs, **kwargs)\n",
      "C:\\Users\\WB526885\\Anaconda3\\lib\\site-packages\\pandas\\core\\series.py:726: RuntimeWarning: divide by zero encountered in log\n",
      "  result = getattr(ufunc, method)(*inputs, **kwargs)\n",
      "C:\\Users\\WB526885\\Anaconda3\\lib\\site-packages\\pandas\\core\\series.py:726: RuntimeWarning: divide by zero encountered in log\n",
      "  result = getattr(ufunc, method)(*inputs, **kwargs)\n",
      "C:\\Users\\WB526885\\Anaconda3\\lib\\site-packages\\pandas\\core\\series.py:726: RuntimeWarning: divide by zero encountered in log\n",
      "  result = getattr(ufunc, method)(*inputs, **kwargs)\n",
      "C:\\Users\\WB526885\\Anaconda3\\lib\\site-packages\\pandas\\core\\series.py:726: RuntimeWarning: divide by zero encountered in log\n",
      "  result = getattr(ufunc, method)(*inputs, **kwargs)\n",
      "C:\\Users\\WB526885\\Anaconda3\\lib\\site-packages\\pandas\\core\\series.py:726: RuntimeWarning: divide by zero encountered in log\n",
      "  result = getattr(ufunc, method)(*inputs, **kwargs)\n",
      "C:\\Users\\WB526885\\Anaconda3\\lib\\site-packages\\pandas\\core\\series.py:726: RuntimeWarning: divide by zero encountered in log\n",
      "  result = getattr(ufunc, method)(*inputs, **kwargs)\n",
      "C:\\Users\\WB526885\\Anaconda3\\lib\\site-packages\\pandas\\core\\series.py:726: RuntimeWarning: divide by zero encountered in log\n",
      "  result = getattr(ufunc, method)(*inputs, **kwargs)\n",
      "C:\\Users\\WB526885\\Anaconda3\\lib\\site-packages\\pandas\\core\\series.py:726: RuntimeWarning: divide by zero encountered in log\n",
      "  result = getattr(ufunc, method)(*inputs, **kwargs)\n",
      "C:\\Users\\WB526885\\Anaconda3\\lib\\site-packages\\pandas\\core\\series.py:726: RuntimeWarning: divide by zero encountered in log\n",
      "  result = getattr(ufunc, method)(*inputs, **kwargs)\n",
      "C:\\Users\\WB526885\\Anaconda3\\lib\\site-packages\\pandas\\core\\series.py:726: RuntimeWarning: divide by zero encountered in log\n",
      "  result = getattr(ufunc, method)(*inputs, **kwargs)\n",
      "C:\\Users\\WB526885\\Anaconda3\\lib\\site-packages\\pandas\\core\\series.py:726: RuntimeWarning: divide by zero encountered in log\n",
      "  result = getattr(ufunc, method)(*inputs, **kwargs)\n",
      "C:\\Users\\WB526885\\Anaconda3\\lib\\site-packages\\pandas\\core\\series.py:726: RuntimeWarning: divide by zero encountered in log\n",
      "  result = getattr(ufunc, method)(*inputs, **kwargs)\n",
      "C:\\Users\\WB526885\\Anaconda3\\lib\\site-packages\\pandas\\core\\series.py:726: RuntimeWarning: divide by zero encountered in log\n",
      "  result = getattr(ufunc, method)(*inputs, **kwargs)\n",
      "C:\\Users\\WB526885\\Anaconda3\\lib\\site-packages\\pandas\\core\\series.py:726: RuntimeWarning: divide by zero encountered in log\n",
      "  result = getattr(ufunc, method)(*inputs, **kwargs)\n",
      "C:\\Users\\WB526885\\Anaconda3\\lib\\site-packages\\pandas\\core\\series.py:726: RuntimeWarning: divide by zero encountered in log\n",
      "  result = getattr(ufunc, method)(*inputs, **kwargs)\n",
      "C:\\Users\\WB526885\\Anaconda3\\lib\\site-packages\\pandas\\core\\series.py:726: RuntimeWarning: divide by zero encountered in log\n",
      "  result = getattr(ufunc, method)(*inputs, **kwargs)\n",
      "C:\\Users\\WB526885\\Anaconda3\\lib\\site-packages\\pandas\\core\\series.py:726: RuntimeWarning: divide by zero encountered in log\n",
      "  result = getattr(ufunc, method)(*inputs, **kwargs)\n",
      "C:\\Users\\WB526885\\Anaconda3\\lib\\site-packages\\pandas\\core\\series.py:726: RuntimeWarning: divide by zero encountered in log\n",
      "  result = getattr(ufunc, method)(*inputs, **kwargs)\n",
      "C:\\Users\\WB526885\\Anaconda3\\lib\\site-packages\\pandas\\core\\series.py:726: RuntimeWarning: divide by zero encountered in log\n",
      "  result = getattr(ufunc, method)(*inputs, **kwargs)\n",
      "C:\\Users\\WB526885\\Anaconda3\\lib\\site-packages\\pandas\\core\\series.py:726: RuntimeWarning: divide by zero encountered in log\n",
      "  result = getattr(ufunc, method)(*inputs, **kwargs)\n",
      "C:\\Users\\WB526885\\Anaconda3\\lib\\site-packages\\pandas\\core\\series.py:726: RuntimeWarning: divide by zero encountered in log\n",
      "  result = getattr(ufunc, method)(*inputs, **kwargs)\n",
      "C:\\Users\\WB526885\\Anaconda3\\lib\\site-packages\\pandas\\core\\series.py:726: RuntimeWarning: divide by zero encountered in log\n",
      "  result = getattr(ufunc, method)(*inputs, **kwargs)\n",
      "C:\\Users\\WB526885\\Anaconda3\\lib\\site-packages\\pandas\\core\\series.py:726: RuntimeWarning: divide by zero encountered in log\n",
      "  result = getattr(ufunc, method)(*inputs, **kwargs)\n",
      "C:\\Users\\WB526885\\Anaconda3\\lib\\site-packages\\pandas\\core\\series.py:726: RuntimeWarning: divide by zero encountered in log\n",
      "  result = getattr(ufunc, method)(*inputs, **kwargs)\n",
      "C:\\Users\\WB526885\\Anaconda3\\lib\\site-packages\\pandas\\core\\series.py:726: RuntimeWarning: divide by zero encountered in log\n",
      "  result = getattr(ufunc, method)(*inputs, **kwargs)\n",
      "C:\\Users\\WB526885\\Anaconda3\\lib\\site-packages\\pandas\\core\\series.py:726: RuntimeWarning: divide by zero encountered in log\n",
      "  result = getattr(ufunc, method)(*inputs, **kwargs)\n",
      "C:\\Users\\WB526885\\Anaconda3\\lib\\site-packages\\pandas\\core\\series.py:726: RuntimeWarning: divide by zero encountered in log\n",
      "  result = getattr(ufunc, method)(*inputs, **kwargs)\n"
     ]
    }
   ],
   "source": [
    "df_out_total = pd.DataFrame()\n",
    "for count in df_tot.country.unique():\n",
    "    df_out = pd.DataFrame()\n",
    "    df_country = df_tot[df_tot.country==count]\n",
    "    a = np.where(df_country['value']<0)\n",
    "    if len(a[0])>0:\n",
    "        df_country = df_country[df_country.sector!='Land-Use Change and Forestry']\n",
    "    ghg_tot_2018 = df_country.groupby('year').sum().loc[2018,'value']\n",
    "    ghg_tot_2012 = df_country.groupby('year').sum().loc[2012,'value']\n",
    "    L_GHG_tot = func(ghg_tot_2018,ghg_tot_2012)\n",
    "    df_country_2018 = df_country[df_country.year==2018].set_index('sector')\n",
    "    df_country_2012 = df_country[df_country.year==2012].set_index('sector')\n",
    "    vect = (df_country_2018['value'] - df_country_2012['value']) / (np.log(df_country_2018['value']) - np.log(df_country_2012['value']))\n",
    "#     D_Pop = np.exp(np.sum(vect.values) * np.log(df_country_2018.loc['Agriculture','Population']/df_country_2012.loc['Agriculture','Population'])/L_GHG_tot)\n",
    "#     D_GDP = np.exp(np.sum(vect.values) * np.log(df_country_2018.loc['Agriculture','GDP_cap']/df_country_2012.loc['Agriculture','GDP_cap'])/L_GHG_tot)\n",
    "#     D_GHG = np.exp(np.sum(vect * np.log(df_country_2018.loc[:,'GHG_GDP']/df_country_2012.loc[:,'GHG_GDP']))/L_GHG_tot)\n",
    "    \n",
    "    Diff_Pop = np.nansum(vect.values) * np.log(df_country_2018.loc['Agriculture','Population']/df_country_2012.loc['Agriculture','Population'])\n",
    "    Diff_GDP = np.nansum(vect.values) * np.log(df_country_2018.loc['Agriculture','GDP_cap']/df_country_2012.loc['Agriculture','GDP_cap'])\n",
    "    Diff_GHG = np.nansum(vect * np.log(df_country_2018.loc[:,'GHG_GDP']/df_country_2012.loc[:,'GHG_GDP']))\n",
    "    \n",
    "    df_out['Indicator'] = ['GDP_cap','Pop','GHG_GDP'] \n",
    "    df_out['Value'] = [Diff_GDP,Diff_Pop,Diff_GHG] / ghg_tot_2012\n",
    "    df_out['Country Name'] = count\n",
    "    \n",
    "    df_out_total = df_out_total.append(df_out)\n",
    "\n",
    "df_out_total_gr = df_out_total.groupby('Country Name').sum()\n",
    "df_out_total_gr = df_out_total_gr.reset_index()\n",
    "df_out_total_gr['Indicator'] = 'Total'\n",
    "\n",
    "df_out_total = df_out_total.append(df_out_total_gr)\n",
    "\n",
    "df_out_total_gr = df_out_total_gr.set_index(['Country Name'])\n",
    "for count in df_tot.country.unique():\n",
    "    df_country = df_tot[df_tot.country==count]\n",
    "    a = np.where(df_country['value']<0)\n",
    "    if len(a[0])>0:\n",
    "        df_country = df_country[df_country.sector!='Land-Use Change and Forestry']\n",
    "    ghg_tot_2018 = df_country.groupby('year').sum().loc[2018,'value']\n",
    "    ghg_tot_2012 = df_country.groupby('year').sum().loc[2012,'value']\n",
    "    df_out_total_gr.loc[count,'Value 2'] = (ghg_tot_2018 - ghg_tot_2012)/ghg_tot_2012\n",
    "    \n",
    "\n",
    "df_out_total_gr['Diff'] = df_out_total_gr['Value'] - df_out_total_gr['Value 2']\n",
    "index_out = df_out_total_gr[np.abs(df_out_total_gr['Diff'])>0.001].index\n",
    "df_out_total = df_out_total[~df_out_total['Country Name'].isin(index_out)]\n",
    "\n",
    "data_out = pd.DataFrame()\n",
    "for count in df_out_total['Country Name'].unique():\n",
    "    data_temp = df_out_total[df_out_total['Country Name']==count]\n",
    "    tot = data_temp.loc[data_temp.Indicator=='Total','Value'].values[0]\n",
    "    data_temp.loc[data_temp.Indicator=='Total','Value'] = - 100\n",
    "    data_temp = data_temp.sort_values('Value',ascending=False)\n",
    "    data_temp['Ranking'] = range(1,len(data_temp)+1)\n",
    "    data_temp.loc[data_temp.Indicator=='Total','Value'] = 0\n",
    "    data_temp['Total Increase'] = tot\n",
    "    data_out = data_out.append(data_temp)\n",
    "\n",
    "data_out.to_excel('Data/Emissions/GHG_Growth_GDP_Pop.xlsx')"
   ]
  },
  {
   "cell_type": "markdown",
   "metadata": {},
   "source": [
    "#### [ThinkHazard](https://gfdrr.github.io/thinkhazardmethods/#list-of-hazard-types-and-levels-for-a-division) + [list of countries](https://github.com/GFDRR/thinkhazardmethods/blob/master/source/download/ADM0_TH.csv)"
   ]
  },
  {
   "cell_type": "code",
   "execution_count": 85,
   "metadata": {},
   "outputs": [],
   "source": [
    "list_countries = pd.read_excel('Data/ThinkHazard_List.xlsx')\n",
    "df_full = pd.DataFrame()\n",
    "for code,iso in zip(list_countries.ADM0_CODE,list_countries.ISO3166_a3):\n",
    "    r = requests.get(' http://thinkhazard.org/en/report/%s.json'%code)\n",
    "    x = r.json()\n",
    "    df_country = pd.DataFrame([(x[i]['hazardtype']['hazardtype'],x[i]['hazardlevel']['title']) for i in range(len(x))],columns=['Hazard','Ranking'])\n",
    "    df_country['Country Code'] = iso\n",
    "    df_full = df_full.append(df_country)\n",
    "    \n",
    "df_full_t = df_full.copy()\n",
    "df_full_t = df_full_t[df_full_t.Ranking!='No Data']\n",
    "df_full_t = df_full_t[~df_full_t['Hazard'].isin(['Volcano','Water scarcity'])]\n",
    "df_full_t = df_full_t.set_index(['Hazard','Ranking'])\n",
    "\n",
    "dict_haz = {'EQ':'Earthquake','VO':'Vocalno','TS':'Tsunami','CY':'Cyclone','FL':'River flood', 'UF':'Urban flood', \n",
    " 'CF':'Coastal flood', 'LS':'Landslide','EH':'Extreme heat', 'WF':'Wildfire','DR':'Drought'}\n",
    "dict_haz_flip = {v: k for k, v in dict_haz.items()}\n",
    "dict_rank = {'LOW':'Low','VLO':'Very low', 'MED': 'Medium','HIG':'High'}\n",
    "dict_rank_flip = {v: k for k, v in dict_rank.items()}\n",
    "\n",
    "for haz,rank in df_full_t.index.unique():\n",
    "    r = requests.get('https://thinkhazard.org/en/hazardcategory/%s/%s.json'%(dict_haz_flip[haz],dict_rank_flip[rank]))\n",
    "    x = r.json()\n",
    "    df_full_t.loc[(haz,rank),'Description'] = x['hazard_category']['general_recommendation'].split('.')[1]\n",
    "\n",
    "df_full_t = df_full_t.reset_index().set_index('Country Code')\n",
    "df_full_t['Country Name'] = iso_to_wb['country']\n",
    "df_full_t = df_full_t.reset_index()\n",
    "df_full_t.to_excel('Data/ThinkHazard.xlsx')\n"
   ]
  },
  {
   "cell_type": "markdown",
   "metadata": {},
   "source": [
    "### [Global Climate Risk ](https://germanwatch.org/en/cri)"
   ]
  },
  {
   "cell_type": "code",
   "execution_count": 166,
   "metadata": {},
   "outputs": [],
   "source": [
    "cri = pd.read_excel('Data/Global Climate Risk 99-18.xlsx')\n",
    "cri = cri[cri.Country!='Serbia & Montenegro & Kosovo']\n",
    "cri['ISO'] = cri['Country'].apply(lambda x: dict_map[x])\n",
    "cri = cri.set_index('ISO')\n",
    "cri['Country'] = iso_to_wb['country']\n",
    "cri.reset_index().to_excel('Data/Climate Risk Index.xlsx')"
   ]
  },
  {
   "cell_type": "markdown",
   "metadata": {},
   "source": [
    "#### World Road Statistics (WRS) Data - Ask Librarians to send data"
   ]
  },
  {
   "cell_type": "code",
   "execution_count": 22,
   "metadata": {},
   "outputs": [],
   "source": [
    "wrs = pd.read_excel('Data/WRS_Country profiles.xlsx')\n",
    "wrs = wrs.set_index('Country Code')\n",
    "wrs['Country Name'] = iso_to_wb['country']\n",
    "wrs = wrs.reset_index()\n",
    "\n",
    "wrs.columns = [a + ' ' + str(b) for a,b in zip(wrs.columns,wrs.loc[0,:].values)]\n",
    "wrs = wrs[1:]\n",
    "wrs.to_excel('Data/WRS_Country_Profiles.xlsx')"
   ]
  },
  {
   "cell_type": "markdown",
   "metadata": {},
   "source": [
    "### Floods"
   ]
  },
  {
   "cell_type": "markdown",
   "metadata": {},
   "source": [
    "#### Flooding Costs without Adaptation - Future flood losses in major coastal cities Hallegatte et al. 2013"
   ]
  },
  {
   "cell_type": "code",
   "execution_count": 188,
   "metadata": {},
   "outputs": [],
   "source": [
    "floods_cities = pd.read_excel('Data/Flooding_Costs_Cities.xlsx')\n",
    "floods_cities['ISO'] = floods_cities.Country.apply(lambda x: dict_map[x])\n",
    "floods_cities = floods_cities.set_index('ISO')\n",
    "floods_cities['Country'] = iso_to_wb['country']\n",
    "floods_cities.reset_index().to_excel('Data/Flooding_Costs_Cities_Hallegatte.xlsx')"
   ]
  },
  {
   "cell_type": "markdown",
   "metadata": {},
   "source": [
    "#### Coastal Flood Protection - Beyond the Gap"
   ]
  },
  {
   "cell_type": "code",
   "execution_count": 198,
   "metadata": {},
   "outputs": [],
   "source": [
    "cost_floods = pd.read_excel('Data/coastalflood_protection_country_level_results_over_GDP_preferred.xlsx')\n",
    "cost_floods = cost_floods.set_index('Country Code')\n",
    "cost_floods['Country Name'] = iso_to_wb['country']\n",
    "cost_floods.reset_index().to_excel('Data/coastalflood_protection_levels.xlsx')"
   ]
  },
  {
   "cell_type": "markdown",
   "metadata": {},
   "source": [
    "#### EMDAT"
   ]
  },
  {
   "cell_type": "code",
   "execution_count": 271,
   "metadata": {},
   "outputs": [],
   "source": [
    "emdat = pd.read_csv('Data/EM-DAT.csv')\n",
    "emdat = emdat[~emdat['Country Name'].isin(['Azores Islands','Saint Helena, Ascension and Tristan da Cunha','Cayman Islands (the)'\n",
    "                            ,'Turks and Caicos Islands (the)','Saint Martin (French Part)','Sint Maarten (Dutch part)'\n",
    "                            ,'Virgin Island (British)','Saint Barthélemy','Virgin Island (U.S.)','Canary Is',\n",
    "                            'Northern Mariana Islands (the)','Cook Islands (the)'])]\n",
    "emdat['ISO'] = emdat['Country Name'].apply(lambda x:dict_map[x])\n",
    "\n",
    "emdat = emdat.set_index('ISO')\n",
    "emdat['Country Name'] = iso_to_wb['country']\n",
    "emdat.reset_index().to_excel('Data/EM-DAT.xlsx')"
   ]
  },
  {
   "cell_type": "markdown",
   "metadata": {},
   "source": [
    "## US Energy Information Administration (EIA) - API "
   ]
  },
  {
   "cell_type": "markdown",
   "metadata": {},
   "source": [
    "### Total petroleum and other liquids (i.e. crude oil, NGPL, and other liquids - refinery processing gain) - Consumption"
   ]
  },
  {
   "cell_type": "code",
   "execution_count": 61,
   "metadata": {},
   "outputs": [],
   "source": [
    "full_df = pd.DataFrame()\n",
    "for country in countries.iso3:\n",
    "    try:\n",
    "        r = requests.get('http://api.eia.gov/series/?api_key=d640095c7a4e827101a6e192666d094b&series_id=INTL.5-2-%s-TBPD.A'%country)\n",
    "        x = r.json()\n",
    "        df = pd.DataFrame(x['series'][0]['data'])\n",
    "        df.columns = ['Year','Value']\n",
    "        df['Country Code'] = country\n",
    "        full_df = full_df.append(df)\n",
    "    except:\n",
    "        pass\n",
    "\n",
    "full_df = full_df.set_index('Country Code')\n",
    "full_df['Country Name'] = iso_to_wb['country']\n",
    "full_df = full_df.reset_index()\n",
    "\n",
    "full_df = full_df[full_df.Value!='--']\n",
    "\n",
    "pop = wb.download(indicator='SP.POP.TOTL',country='all',start=1980,end=2020)\n",
    "pop = pop.reset_index().dropna()\n",
    "pop.columns = ['Country Name','Year','Population']\n",
    "pop = pop[~pop['Country Name'].isin(regions)]\n",
    "pop = pop.set_index(['Country Name','Year'])\n",
    "\n",
    "full_df = full_df.set_index(['Country Name','Year'])\n",
    "full_df['Value_per_cap'] = full_df['Value'] / pop['Population']\n",
    "\n",
    "full_df.reset_index().to_excel('Data/Fuel shift and efficiency in use sectors/Oil_Consumption.xlsx')"
   ]
  },
  {
   "cell_type": "markdown",
   "metadata": {},
   "source": [
    "### Coke and coal production"
   ]
  },
  {
   "cell_type": "code",
   "execution_count": 80,
   "metadata": {},
   "outputs": [],
   "source": [
    "full_df = pd.DataFrame()\n",
    "for country in countries.iso3:\n",
    "    try:\n",
    "        r = requests.get('http://api.eia.gov/series/?api_key=d640095c7a4e827101a6e192666d094b&series_id=INTL.7-1-%s-TST.A'%country)\n",
    "        x = r.json()\n",
    "        df = pd.DataFrame(x['series'][0]['data'])\n",
    "        df.columns = ['Year','Value']\n",
    "        df['Country Code'] = country\n",
    "        full_df = full_df.append(df)\n",
    "    except:\n",
    "        pass\n",
    "\n",
    "full_df = full_df.set_index('Country Code')\n",
    "full_df['Country Name'] = iso_to_wb['country']\n",
    "full_df = full_df.reset_index()\n",
    "\n",
    "full_df = full_df[full_df.Value!='--']\n",
    "\n",
    "pop = wb.download(indicator='SP.POP.TOTL',country='all',start=1980,end=2020)\n",
    "pop = pop.reset_index().dropna()\n",
    "pop.columns = ['Country Name','Year','Population']\n",
    "pop = pop[~pop['Country Name'].isin(regions)]\n",
    "pop = pop.set_index(['Country Name','Year'])\n",
    "\n",
    "full_df = full_df.set_index(['Country Name','Year'])\n",
    "full_df['Value_per_cap'] = full_df['Value'] / pop['Population']\n",
    "\n",
    "full_df.reset_index().to_excel('Data/Fuel shift and efficiency in use sectors/Coke_Coal_Consumption.xlsx')"
   ]
  },
  {
   "cell_type": "markdown",
   "metadata": {},
   "source": [
    "### Dry Natural Gas Consumption"
   ]
  },
  {
   "cell_type": "code",
   "execution_count": 82,
   "metadata": {},
   "outputs": [],
   "source": [
    "full_df = pd.DataFrame()\n",
    "for country in countries.iso3:\n",
    "    try:\n",
    "        r = requests.get('http://api.eia.gov/series/?api_key=d640095c7a4e827101a6e192666d094b&series_id=INTL.26-2-%s-BCF.A'%country)\n",
    "        x = r.json()\n",
    "        df = pd.DataFrame(x['series'][0]['data'])\n",
    "        df.columns = ['Year','Value']\n",
    "        df['Country Code'] = country\n",
    "        full_df = full_df.append(df)\n",
    "    except:\n",
    "        pass\n",
    "\n",
    "full_df = full_df.set_index('Country Code')\n",
    "full_df['Country Name'] = iso_to_wb['country']\n",
    "full_df = full_df.reset_index()\n",
    "\n",
    "full_df = full_df[full_df.Value!='--']\n",
    "\n",
    "pop = wb.download(indicator='SP.POP.TOTL',country='all',start=1980,end=2020)\n",
    "pop = pop.reset_index().dropna()\n",
    "pop.columns = ['Country Name','Year','Population']\n",
    "pop = pop[~pop['Country Name'].isin(regions)]\n",
    "pop = pop.set_index(['Country Name','Year'])\n",
    "\n",
    "full_df = full_df.set_index(['Country Name','Year'])\n",
    "full_df['Value_per_cap'] = full_df['Value'] / pop['Population']\n",
    "\n",
    "full_df.reset_index().to_excel('Data/Fuel shift and efficiency in use sectors/Gas_Consumption.xlsx')"
   ]
  },
  {
   "cell_type": "markdown",
   "metadata": {},
   "source": [
    "## World Bank Data - API"
   ]
  },
  {
   "cell_type": "markdown",
   "metadata": {},
   "source": [
    "#### CCKP"
   ]
  },
  {
   "cell_type": "code",
   "execution_count": 249,
   "metadata": {},
   "outputs": [],
   "source": [
    "import time"
   ]
  },
  {
   "cell_type": "code",
   "execution_count": 250,
   "metadata": {},
   "outputs": [],
   "source": [
    "df_out = pd.DataFrame()\n",
    "\n",
    "for country in iso_to_wb.index:\n",
    "    try:\n",
    "        r = requests.get('http://climatedataapi.worldbank.org/climateweb/rest/v2/cru/country/pr/1991-2020/%s'%country)\n",
    "        x = r.json()\n",
    "        prec = pd.DataFrame(x)\n",
    "\n",
    "        r = requests.get('http://climatedataapi.worldbank.org/climateweb/rest/v2/cru/country/tas/1991-2020/%s'%country)\n",
    "        x = r.json()\n",
    "        temp = pd.DataFrame(x)\n",
    "        df_out = df_out.append(prec).append(temp)\n",
    "    except:\n",
    "        try:\n",
    "            time.sleep(5)\n",
    "            r = requests.get('http://climatedataapi.worldbank.org/climateweb/rest/v2/cru/country/pr/1991-2020/%s'%country)\n",
    "            x = r.json()\n",
    "            prec = pd.DataFrame(x)\n",
    "\n",
    "            r = requests.get('http://climatedataapi.worldbank.org/climateweb/rest/v2/cru/country/tas/1991-2020/%s'%country)\n",
    "            x = r.json()\n",
    "            temp = pd.DataFrame(x)\n",
    "            df_out = df_out.append(prec).append(temp)\n",
    "        except:\n",
    "            print(country)\n",
    "\n",
    "df_out = df_out.set_index('Code')\n",
    "df_out['Country Name'] = iso_to_wb['country']\n",
    "df_out = df_out.reset_index()\n",
    "df_out[df_out.variable=='pr'].to_excel('Data/CCKP_hist_precipitation.xlsx')\n",
    "df_out[df_out.variable=='tas'].to_excel('Data/CCKP_hist_temperature.xlsx')"
   ]
  },
  {
   "cell_type": "markdown",
   "metadata": {},
   "source": [
    "#### Time Series Temperature"
   ]
  },
  {
   "cell_type": "code",
   "execution_count": 33,
   "metadata": {
    "collapsed": true,
    "jupyter": {
     "outputs_hidden": true
    }
   },
   "outputs": [
    {
     "name": "stderr",
     "output_type": "stream",
     "text": [
      "<ipython-input-33-b9b37297a445>:26: SettingWithCopyWarning: \n",
      "A value is trying to be set on a copy of a slice from a DataFrame.\n",
      "Try using .loc[row_indexer,col_indexer] = value instead\n",
      "\n",
      "See the caveats in the documentation: https://pandas.pydata.org/pandas-docs/stable/user_guide/indexing.html#returning-a-view-versus-a-copy\n",
      "  temp_proj_full_1['Model'] = 'RCP26'\n",
      "<ipython-input-33-b9b37297a445>:29: SettingWithCopyWarning: \n",
      "A value is trying to be set on a copy of a slice from a DataFrame.\n",
      "Try using .loc[row_indexer,col_indexer] = value instead\n",
      "\n",
      "See the caveats in the documentation: https://pandas.pydata.org/pandas-docs/stable/user_guide/indexing.html#returning-a-view-versus-a-copy\n",
      "  temp_proj_full_2['Model'] = 'RCP85'\n"
     ]
    }
   ],
   "source": [
    "temp_proj_full = pd.DataFrame()\n",
    "for country in iso_to_wb.index:\n",
    "    \n",
    "    url = 'http://climatedataapi.worldbank.org/datamanager/getTimeSeriesData'\n",
    "    body = {\"variable\":\"tas\",\"model\":\"all\",\"rcp\":None,\"statistics\":[\"stddevlow\",\"median\",\"stddevhigh\"],\"period\":\"1986-2099\",\n",
    "            \"spatialId\":\"country\",\"spaceId\":country}\n",
    "\n",
    "    r = requests.post(url,json=body)\n",
    "    k = r.json()\n",
    "    k = pd.DataFrame(k['timeSeries'])\n",
    "    \n",
    "    for i in range(len(k)):\n",
    "        temp_proj = pd.DataFrame()\n",
    "        temp_proj['Year'] = range(1986,2100)\n",
    "        temp_proj['temp'] = k.loc[i,'data']\n",
    "        temp_proj['Model'] = k.loc[i,'model'].split('-')[2]\n",
    "        temp_proj['Statistic'] = k.loc[i,'statistic']\n",
    "        temp_proj['Country Code'] = country\n",
    "        temp_proj_full = temp_proj_full.append(temp_proj)\n",
    "\n",
    "temp_proj_full = temp_proj_full.dropna(subset=['temp'])\n",
    "temp_proj_full = temp_proj_full.set_index('Country Code')\n",
    "temp_proj_full['Country Name'] = iso_to_wb['country']\n",
    "\n",
    "temp_proj_full_1 = temp_proj_full[temp_proj_full.Model.isin(['historical','rcp26'])]\n",
    "temp_proj_full_1['Model'] = 'RCP26'\n",
    "\n",
    "temp_proj_full_2 = temp_proj_full[temp_proj_full.Model.isin(['historical','rcp85'])]\n",
    "temp_proj_full_2['Model'] = 'RCP85'\n",
    "\n",
    "temp_proj_full_fin = temp_proj_full_1.append(temp_proj_full_2)\n",
    "temp_proj_full_fin = temp_proj_full_fin.reset_index()\n",
    "\n",
    "temp_proj_full_fin_med = temp_proj_full_fin[temp_proj_full_fin.Statistic=='median']\n",
    "temp_proj_full_fin_stdH = temp_proj_full_fin[temp_proj_full_fin.Statistic=='stddevhigh']\n",
    "temp_proj_full_fin_stdL = temp_proj_full_fin[temp_proj_full_fin.Statistic=='stddevlow']\n",
    "\n",
    "temp_proj_full_fin_med = temp_proj_full_fin_med.set_index(['Country Name','Country Code','Year','Model'])\n",
    "temp_proj_full_fin_stdH = temp_proj_full_fin_stdH.set_index(['Country Name','Country Code','Year','Model'])\n",
    "temp_proj_full_fin_stdL = temp_proj_full_fin_stdL.set_index(['Country Name','Country Code','Year','Model'])\n",
    "\n",
    "temp_proj_full_fin_med['Temp_High'] = temp_proj_full_fin_stdH['temp']\n",
    "temp_proj_full_fin_med['Temp_Low'] = temp_proj_full_fin_stdL['temp']\n",
    "\n",
    "temp_proj_full_fin_med.reset_index().to_excel('Data/Temperature_Projections.xlsx')"
   ]
  },
  {
   "cell_type": "markdown",
   "metadata": {},
   "source": [
    "#### GDP"
   ]
  },
  {
   "cell_type": "code",
   "execution_count": 202,
   "metadata": {},
   "outputs": [],
   "source": [
    "gdp = wb.download(indicator='NY.GDP.MKTP.CD',country='all',start=1990,end=2020)\n",
    "gdp = gdp.reset_index().dropna()\n",
    "gdp.columns = ['Country Name','Year','GDP']\n",
    "gdp = gdp[~gdp['Country Name'].isin(regions)]\n",
    "\n",
    "gdp.to_excel('Data/Social Profile/GDP.xlsx')"
   ]
  },
  {
   "cell_type": "markdown",
   "metadata": {},
   "source": [
    "#### GDP Growth and [GHG Growth](https://www.climatewatchdata.org/ghg-emissions?calculation=PERCENTAGE_CHANGE&end_year=2018&source=CAIT&start_year=1990)"
   ]
  },
  {
   "cell_type": "code",
   "execution_count": 422,
   "metadata": {},
   "outputs": [],
   "source": [
    "gdp_gr = wb.download(indicator='NY.GDP.MKTP.KD.ZG',country='all',start=1990,end=2020)\n",
    "gdp_gr = gdp_gr.reset_index().dropna()\n",
    "gdp_gr.columns = ['Country Name','Year','GDP_Growth']\n",
    "gdp_gr = gdp_gr[~gdp_gr['Country Name'].isin(regions)]\n",
    "\n",
    "gdp_gr.columns = ['Country Name','Year','Value']\n",
    "gdp_gr['Indicator'] = 'GDP'\n",
    "\n",
    "ghg_growth = pd.read_csv('Data/Emissions/ghg-emissions-growth-CAIT.csv')\n",
    "ghg_growth = ghg_growth[:-2].drop(['unit','1990'],axis=1)\n",
    "ghg_growth['Country Code'] = ghg_growth['Country/Region'].apply(lambda x : dict_map[x])\n",
    "ghg_growth = ghg_growth.set_index('Country Code')\n",
    "ghg_growth['Country Name'] = iso_to_wb['country']\n",
    "ghg_growth = ghg_growth.reset_index()\n",
    "ghg_growth = ghg_growth.drop(['Country/Region'],axis=1)\n",
    "ghg_growth = pd.DataFrame(ghg_growth.set_index(['Country Name','Country Code']).stack()).reset_index()\n",
    "\n",
    "ghg_growth.columns = ['Country Name','Country Code','Year','Value']\n",
    "ghg_growth['Indicator'] = 'GHG'\n",
    "\n",
    "ghg_growth.append(gdp_gr).drop(['Country Code'],axis=1).to_excel('Data/Emissions/GHG_GDP_decoupling.xlsx')"
   ]
  },
  {
   "cell_type": "markdown",
   "metadata": {},
   "source": [
    "#### GDP per capita"
   ]
  },
  {
   "cell_type": "code",
   "execution_count": 203,
   "metadata": {},
   "outputs": [],
   "source": [
    "gdp = wb.download(indicator='NY.GDP.PCAP.CD',country='all',start=1990,end=2020)\n",
    "gdp = gdp.reset_index().dropna()\n",
    "gdp.columns = ['Country Name','Year','GDP']\n",
    "gdp = gdp[~gdp['Country Name'].isin(regions)]\n",
    "\n",
    "gdp.to_excel('Data/Social Profile/GDP_per_capita.xlsx')"
   ]
  },
  {
   "cell_type": "markdown",
   "metadata": {},
   "source": [
    "#### Population"
   ]
  },
  {
   "cell_type": "code",
   "execution_count": 7,
   "metadata": {},
   "outputs": [],
   "source": [
    "pop = wb.download(indicator='SP.POP.TOTL',country='all',start=1990,end=2020)\n",
    "pop = pop.reset_index().dropna()\n",
    "pop.columns = ['Country Name','Year','Population']\n",
    "pop = pop[~pop['Country Name'].isin(regions)]\n",
    "\n",
    "pop.to_excel('Data/Social Profile/population.xlsx')"
   ]
  },
  {
   "cell_type": "markdown",
   "metadata": {},
   "source": [
    "#### Share urban population "
   ]
  },
  {
   "cell_type": "code",
   "execution_count": 157,
   "metadata": {},
   "outputs": [],
   "source": [
    "share_urban = wb.download(indicator='SP.URB.TOTL.IN.ZS',country='all',start=1980,end=2020)\n",
    "share_urban = share_urban.reset_index().dropna()\n",
    "share_urban.columns = ['Country Name','Year','Share urban population (%)']\n",
    "# share_urban = get_latest_year(share_urban)\n",
    "share_urban.to_excel('Data/Social Profile/Share_urban_population.xlsx')"
   ]
  },
  {
   "cell_type": "markdown",
   "metadata": {},
   "source": [
    "#### Urbanization growth"
   ]
  },
  {
   "cell_type": "code",
   "execution_count": 9,
   "metadata": {},
   "outputs": [],
   "source": [
    "urb_growth = wb.download(indicator='SP.URB.GROW',country='all',start=1980,end=2020)\n",
    "urb_growth = urb_growth.reset_index().dropna()\n",
    "urb_growth.columns = ['Country Name','Year','Urbanization growth (%)']\n",
    "urb_growth = get_latest_year(urb_growth)\n",
    "urb_growth.to_excel('Data/Social Profile/Urbanization_growth.xlsx')"
   ]
  },
  {
   "cell_type": "markdown",
   "metadata": {},
   "source": [
    "#### Renewable internal freshwater resources per capita"
   ]
  },
  {
   "cell_type": "code",
   "execution_count": null,
   "metadata": {},
   "outputs": [],
   "source": [
    "water = wb.download(indicator='ER.H2O.INTR.PC',country='all',start=1980,end=2020)\n",
    "water = water.reset_index().dropna()\n",
    "water.columns = ['Country Name','Year','Ren water resources cap']\n",
    "water = get_latest_year(water)\n",
    "water.to_excel('Data/Social Profile/Renewable_Water_Resources_cap.xlsx')"
   ]
  },
  {
   "cell_type": "markdown",
   "metadata": {},
   "source": [
    "#### Gini"
   ]
  },
  {
   "cell_type": "code",
   "execution_count": 87,
   "metadata": {},
   "outputs": [],
   "source": [
    "gini = wb.download(indicator='SI.POV.GINI',country='all',start=1980,end=2020)\n",
    "gini = gini.reset_index().dropna()\n",
    "gini.columns = ['Country Name','Year','Gini']\n",
    "gini = get_latest_year(gini)\n",
    "gini.to_excel('Data/Social Profile/Gini.xlsx')"
   ]
  },
  {
   "cell_type": "markdown",
   "metadata": {},
   "source": [
    "#### Poverty headcount ratio at $5.50 a day (2011 PPP) (% of population)"
   ]
  },
  {
   "cell_type": "code",
   "execution_count": 88,
   "metadata": {},
   "outputs": [],
   "source": [
    "pov = wb.download(indicator='SI.POV.UMIC',country='all',start=1980,end=2020)\n",
    "pov = pov.reset_index().dropna()\n",
    "pov.columns = ['Country Name','Year','Poverty Headcount Ratio 5.5 (2011 PPP)']\n",
    "pov = get_latest_year(pov)\n",
    "pov.to_excel('Data/Social Profile/Poverty_Headcount_Ratio_55.xlsx')"
   ]
  },
  {
   "cell_type": "markdown",
   "metadata": {},
   "source": [
    "#### [Education attainment by level](https://datacatalog.worldbank.org/dataset/global-jobs-indicators-database?deliveryName=DM95330)"
   ]
  },
  {
   "cell_type": "code",
   "execution_count": 129,
   "metadata": {},
   "outputs": [],
   "source": [
    "edu_attainment = pd.read_excel('Data/Social Profile/join_database.xlsx',skiprows=3)\n",
    "\n",
    "edu_attainment = edu_attainment[['Countryname', 'Country code', 'Region', 'Subsample',\n",
    "       'Income Level Name', 'Income Level Code', 'Year of survey',' No Education', ' Primary Education', ' Secondary Education',\n",
    "       ' Post Secondary Education','Mean number of years of education completed, aged 17 and older']]\n",
    "edu_attainment = edu_attainment.rename({'Countryname':'Country Name'},axis=1)\n",
    "edu_attainment = edu_attainment.rename({'Year of survey':'Year'},axis=1)\n",
    "edu_attainment = get_latest_year(edu_attainment)\n",
    "\n",
    "edu_attainment = pd.DataFrame(edu_attainment.set_index(['Country Name','Country code','Region', 'Subsample',\n",
    "       'Income Level Name', 'Income Level Code', 'Year']).stack()).reset_index()\n",
    "edu_attainment.columns = ['Country Name','Country code','Region', 'Subsample',\n",
    "       'Income Level Name', 'Income Level Code', 'Year','Indicator','Value']\n",
    "\n",
    "edu_attainment = edu_attainment.set_index('Country code')\n",
    "edu_attainment['Country Name'] = iso_to_wb['country']\n",
    "\n",
    "edu_attainment.reset_index().to_excel('Data/Social Profile/Education_attainment.xlsx')"
   ]
  },
  {
   "cell_type": "markdown",
   "metadata": {},
   "source": [
    "#### Employment by sector"
   ]
  },
  {
   "cell_type": "code",
   "execution_count": 128,
   "metadata": {},
   "outputs": [],
   "source": [
    "emp_sec = pd.read_excel('Data/Social Profile/join_database.xlsx',skiprows=3)\n",
    "emp_sec = emp_sec[['Countryname', 'Country code', 'Region', 'Subsample',\n",
    "       'Income Level Name', 'Income Level Code', 'Year of survey','Public sector employment, aged 15-64',\n",
    "       ' Agriculture, aged 15-64', ' Industry, aged 15-64',' Services, aged 15-64', 'Mining, aged 15-64',\n",
    "       'Manufacturing, aged 15-64','Electricity and utilities, aged 15-64','Construction, aged 15-64', 'Commerce, aged 15-64',\n",
    "       'Transport & Communication, aged 15-64','Financial and Business Services, aged 15-64',\n",
    "       'Public Administration, aged 15-64', 'Other services, aged 15-64']]\n",
    "\n",
    "emp_sec = emp_sec.rename({'Countryname':'Country Name'},axis=1)\n",
    "emp_sec = emp_sec.rename({'Year of survey':'Year'},axis=1)\n",
    "emp_sec = pd.DataFrame(emp_sec.set_index(['Country Name', 'Country code', 'Region', 'Subsample',\n",
    "       'Income Level Name', 'Income Level Code', 'Year']).stack()).reset_index()\n",
    "emp_sec.columns = ['Country Name', 'Country code', 'Region', 'Subsample',\n",
    "       'Income Level Name', 'Income Level Code', 'Year','Indicator','Value']\n",
    "\n",
    "emp_sec = get_latest_year(emp_sec)\n",
    "emp_sec = emp_sec.set_index('Country code')\n",
    "emp_sec['Country Name'] = iso_to_wb['country']\n",
    "\n",
    "emp_sec.reset_index().to_excel('Data/Social Profile/Employment_sector.xlsx')"
   ]
  },
  {
   "cell_type": "markdown",
   "metadata": {},
   "source": [
    "#### Literacy rate"
   ]
  },
  {
   "cell_type": "code",
   "execution_count": 39,
   "metadata": {},
   "outputs": [],
   "source": [
    "literacy_rate = wb.download(indicator='SE.ADT.LITR.ZS',country='all',start=1990,end=2020)\n",
    "literacy_rate = literacy_rate.reset_index().dropna()\n",
    "literacy_rate.columns = ['Country Name','Year','Literacy Rate (% of population)']\n",
    "literacy_rate = get_latest_year(literacy_rate)\n",
    "literacy_rate = literacy_rate[~literacy_rate['Country Name'].isin(regions)]\n",
    "\n",
    "literacy_rate.to_excel('Data/Social Profile/literacy_rate.xlsx')"
   ]
  },
  {
   "cell_type": "markdown",
   "metadata": {},
   "source": [
    "#### Access to electricity"
   ]
  },
  {
   "cell_type": "code",
   "execution_count": 650,
   "metadata": {},
   "outputs": [],
   "source": [
    "elec = wb.download(indicator='EG.ELC.ACCS.ZS',country='all',start=1990,end=2020)\n",
    "elec = elec.reset_index().dropna()\n",
    "elec.columns = ['Country Name','Year','Access to electricity(% tot pop)']\n",
    "elec = get_latest_year(elec)\n",
    "elec = elec[~elec['Country Name'].isin(regions)]\n",
    "\n",
    "elec.to_excel('Data/Decarbonization of the power sector/access_elec.xlsx')"
   ]
  },
  {
   "cell_type": "markdown",
   "metadata": {},
   "source": [
    "#### Share of firms experiencing eletrical outages"
   ]
  },
  {
   "cell_type": "code",
   "execution_count": 664,
   "metadata": {},
   "outputs": [],
   "source": [
    "firms_pow = wb.download(indicator='IC.ELC.OUTG.ZS',country='all',start=2000,end=2020)\n",
    "firms_pow = firms_pow.reset_index().dropna()\n",
    "firms_pow.columns = ['Country Name','Year','% Share of firms experiencing power outages']\n",
    "firms_pow = get_latest_year(firms_pow)\n",
    "firms_pow = firms_pow.sort_values('% Share of firms experiencing power outages')\n",
    "firms_pow = firms_pow[~firms_pow['Country Name'].isin(regions)]\n",
    "\n",
    "firms_pow['Ranking'] = range(1,len(firms_pow)+1)\n",
    "firms_pow.to_excel('Data/Decarbonization of the power sector/%firms_elec_outages.xlsx')"
   ]
  },
  {
   "cell_type": "markdown",
   "metadata": {},
   "source": [
    "#### Share of sales lost for firms subject to power outages"
   ]
  },
  {
   "cell_type": "code",
   "execution_count": 665,
   "metadata": {},
   "outputs": [],
   "source": [
    "pow_lost = wb.download(indicator='IC.FRM.OUTG.ZS',country='all',start=2000,end=2020)\n",
    "pow_lost = pow_lost.reset_index().dropna()\n",
    "pow_lost.columns = ['Country Name','Year','% Sales lost to power outages']\n",
    "pow_lost = get_latest_year(pow_lost)\n",
    "pow_lost = pow_lost.sort_values('% Sales lost to power outages')\n",
    "pow_lost = pow_lost[~pow_lost['Country Name'].isin(regions)]\n",
    "pow_lost['Ranking'] = range(1,len(pow_lost)+1)\n",
    "\n",
    "pow_lost.to_excel('Data/Decarbonization of the power sector/%sales_lost_power.xlsx')"
   ]
  },
  {
   "cell_type": "markdown",
   "metadata": {},
   "source": [
    "#### Power outages (Power outages in firms in a typical month)"
   ]
  },
  {
   "cell_type": "code",
   "execution_count": 666,
   "metadata": {},
   "outputs": [],
   "source": [
    "nb_pow_month = wb.download(indicator='IC.ELC.OUTG',country='all',start=2000,end=2020)\n",
    "nb_pow_month = nb_pow_month.reset_index().dropna()\n",
    "nb_pow_month.columns = ['Country Name','Year','Number power outages typical month']\n",
    "nb_pow_month = get_latest_year(nb_pow_month)\n",
    "\n",
    "nb_pow_month = nb_pow_month.sort_values('Number power outages typical month')\n",
    "nb_pow_month = nb_pow_month[~nb_pow_month['Country Name'].isin(regions)]\n",
    "nb_pow_month['Ranking'] = range(1,len(nb_pow_month)+1)\n",
    "\n",
    "nb_pow_month.to_excel('Data/Decarbonization of the power sector/nb_power_out.xlsx')"
   ]
  },
  {
   "cell_type": "markdown",
   "metadata": {},
   "source": [
    "#### Mileage per ton of freight transport, air transport"
   ]
  },
  {
   "cell_type": "code",
   "execution_count": 425,
   "metadata": {},
   "outputs": [],
   "source": [
    "air_transp_freight = wb.download(indicator='IS.AIR.GOOD.MT.K1',country='all',start=2000,end=2020)\n",
    "air_transp_freight = air_transp_freight.reset_index().dropna()\n",
    "air_transp_freight.columns = ['Country Name','Year','Freight - Air Transport ton-km']\n",
    "air_transp_freight = get_latest_year(air_transp_freight)\n",
    "air_transp_freight.to_excel('Data/Fuel shift and efficiency in use sectors/freight_air_transport.xlsx')"
   ]
  },
  {
   "cell_type": "markdown",
   "metadata": {},
   "source": [
    "#### People using at least basic sanitation services"
   ]
  },
  {
   "cell_type": "code",
   "execution_count": 801,
   "metadata": {},
   "outputs": [],
   "source": [
    "sani_services = wb.download(indicator='SH.STA.BASS.ZS',country='all',start=2000,end=2020)\n",
    "sani_services = sani_services.reset_index().dropna()\n",
    "sani_services.columns = ['Country Name','Year','People using sanit services (%)']\n",
    "sani_services = sani_services[~sani_services['Country Name'].isin(regions)]\n",
    "sani_services = get_latest_year(sani_services)\n",
    "sani_services = sani_services.sort_values('People using sanit services (%)',ascending=False)\n",
    "\n",
    "i = 1\n",
    "sani_services.loc[sani_services['People using sanit services (%)']>=100,'People using sanit services (%)'] = 100\n",
    "for val in sani_services['People using sanit services (%)'].unique():\n",
    "    sani_services.loc[sani_services['People using sanit services (%)']==val,'Ranking'] = i\n",
    "    i = i + 1\n",
    "\n",
    "sani_services.to_excel('Data/Fuel shift and efficiency in use sectors/people_using_basic_sanitation.xlsx')"
   ]
  },
  {
   "cell_type": "markdown",
   "metadata": {},
   "source": [
    "#### People using at least basic drinking water services (%of population)"
   ]
  },
  {
   "cell_type": "code",
   "execution_count": 808,
   "metadata": {},
   "outputs": [],
   "source": [
    "drink_water = wb.download(indicator='SH.H2O.BASW.ZS',country='all',start=2000,end=2020)\n",
    "drink_water = drink_water.reset_index().dropna()\n",
    "drink_water.columns = ['Country Name','Year','People using basic drinking water services (%)']\n",
    "drink_water = drink_water[~drink_water['Country Name'].isin(regions)]\n",
    "drink_water = get_latest_year(drink_water)\n",
    "\n",
    "drink_water = drink_water.sort_values('People using basic drinking water services (%)',ascending=False)\n",
    "\n",
    "i = 1\n",
    "drink_water.loc[drink_water['People using basic drinking water services (%)']>=100,'People using basic drinking water services (%)'] = 100\n",
    "for val in drink_water['People using basic drinking water services (%)'].unique():\n",
    "    drink_water.loc[drink_water['People using basic drinking water services (%)']==val,'Ranking'] = i\n",
    "    i = i + 1\n",
    "\n",
    "\n",
    "drink_water.to_excel('Data/Fuel shift and efficiency in use sectors/people_using_basic_drinking.xlsx')"
   ]
  },
  {
   "cell_type": "markdown",
   "metadata": {},
   "source": [
    "#### People with basic handwashing facilities including soap and water"
   ]
  },
  {
   "cell_type": "code",
   "execution_count": 812,
   "metadata": {},
   "outputs": [],
   "source": [
    "handwash_fac = wb.download(indicator='SH.STA.HYGN.ZS',country='all',start=2000,end=2020)\n",
    "handwash_fac = handwash_fac.reset_index().dropna()\n",
    "handwash_fac.columns = ['Country Name','Year','People using basic handwashing (%)']\n",
    "handwash_fac = handwash_fac[~handwash_fac['Country Name'].isin(regions)]\n",
    "handwash_fac = get_latest_year(handwash_fac)\n",
    "\n",
    "handwash_fac = handwash_fac.sort_values('People using basic handwashing (%)',ascending=False)\n",
    "\n",
    "i = 1\n",
    "handwash_fac.loc[handwash_fac['People using basic handwashing (%)']>=100,'People using basic handwashing (%)'] = 100\n",
    "for val in handwash_fac['People using basic handwashing (%)'].unique():\n",
    "    handwash_fac.loc[handwash_fac['People using basic handwashing (%)']==val,'Ranking'] = i\n",
    "    i = i + 1\n",
    "\n",
    "handwash_fac.to_excel('Data/Fuel shift and efficiency in use sectors/people_using_basic_handwashing.xlsx')"
   ]
  },
  {
   "cell_type": "markdown",
   "metadata": {},
   "source": [
    "#### Natural gas rents"
   ]
  },
  {
   "cell_type": "code",
   "execution_count": 873,
   "metadata": {},
   "outputs": [],
   "source": [
    "nat_gas_rents = wb.download(indicator='NY.GDP.NGAS.RT.ZS',country='all',start=2000,end=2020)\n",
    "nat_gas_rents = nat_gas_rents.reset_index().dropna()\n",
    "nat_gas_rents.columns = ['Country Name','Year','Value']\n",
    "nat_gas_rents['Indicator'] = 'Natural gas rents (% of GDP)'\n",
    "nat_gas_rents = get_latest_year(nat_gas_rents)\n",
    "# nat_gas_rents.to_excel('Data/Fuel shift and efficiency in use sectors/gas_rents.xlsx')"
   ]
  },
  {
   "cell_type": "markdown",
   "metadata": {},
   "source": [
    "#### Oil rents"
   ]
  },
  {
   "cell_type": "code",
   "execution_count": 874,
   "metadata": {},
   "outputs": [],
   "source": [
    "oil_rents = wb.download(indicator='NY.GDP.PETR.RT.ZS',country='all',start=2000,end=2020)\n",
    "oil_rents = oil_rents.reset_index().dropna()\n",
    "oil_rents.columns = ['Country Name','Year','Value']\n",
    "oil_rents = get_latest_year(oil_rents)\n",
    "oil_rents['Indicator'] = 'Oil rents (% of GDP)'\n",
    "# oil_rents.to_excel('Data/Fuel shift and efficiency in use sectors/oil_rents.xlsx')"
   ]
  },
  {
   "cell_type": "markdown",
   "metadata": {},
   "source": [
    "#### Coal rents"
   ]
  },
  {
   "cell_type": "code",
   "execution_count": 875,
   "metadata": {},
   "outputs": [],
   "source": [
    "coal_rents = wb.download(indicator='NY.GDP.COAL.RT.ZS',country='all',start=2000,end=2020)\n",
    "coal_rents = coal_rents.reset_index().dropna()\n",
    "coal_rents.columns = ['Country Name','Year','Value']\n",
    "coal_rents = get_latest_year(coal_rents)\n",
    "coal_rents['Indicator'] = 'Coal rents (% of GDP)'\n",
    "# coal_rents.to_excel('Data/Fuel shift and efficiency in use sectors/coal_rents.xlsx')"
   ]
  },
  {
   "cell_type": "markdown",
   "metadata": {},
   "source": [
    "#### Mineral rents"
   ]
  },
  {
   "cell_type": "code",
   "execution_count": 876,
   "metadata": {},
   "outputs": [],
   "source": [
    "min_rents = wb.download(indicator='NY.GDP.MINR.RT.ZS',country='all',start=2000,end=2020)\n",
    "min_rents = min_rents.reset_index().dropna()\n",
    "min_rents.columns = ['Country Name','Year','Value']\n",
    "min_rents = get_latest_year(min_rents)\n",
    "min_rents['Indicator'] = 'Mineral rents (% of GDP)'\n",
    "# min_rents.to_excel('Data/Fuel shift and efficiency in use sectors/mineral_rents.xlsx')"
   ]
  },
  {
   "cell_type": "markdown",
   "metadata": {},
   "source": [
    "#### Total natural resources rents"
   ]
  },
  {
   "cell_type": "code",
   "execution_count": 877,
   "metadata": {},
   "outputs": [],
   "source": [
    "tot_nat_rents = wb.download(indicator='NY.GDP.TOTL.RT.ZS',country='all',start=2000,end=2020)\n",
    "tot_nat_rents = tot_nat_rents.reset_index().dropna()\n",
    "tot_nat_rents.columns = ['Country Name','Year','Value']\n",
    "tot_nat_rents['Indicator'] = 'Total natural resources rents (% of GDP)'\n",
    "tot_nat_rents = get_latest_year(tot_nat_rents)\n",
    "\n",
    "tot_rents = tot_nat_rents.append(min_rents).append(coal_rents).append(oil_rents).append(nat_gas_rents)\n",
    "tot_rents = tot_rents[~tot_rents['Country Name'].isin(regions)]\n",
    "tot_rents.to_excel('Data/Fuel shift and efficiency in use sectors/multiple_rents.xlsx')\n",
    "\n",
    "# tot_nat_rents.to_excel('Data/Fuel shift and efficiency in use sectors/total_natural_res_rents.xlsx')"
   ]
  },
  {
   "cell_type": "markdown",
   "metadata": {},
   "source": [
    "#### Share Arable land"
   ]
  },
  {
   "cell_type": "code",
   "execution_count": 396,
   "metadata": {},
   "outputs": [],
   "source": [
    "share_ar_land = wb.download(indicator='AG.LND.ARBL.ZS',country='all',start=2000,end=2020)\n",
    "share_ar_land = share_ar_land.reset_index().dropna()\n",
    "share_ar_land.columns = ['Country Name','Year','Share of arable land (%)']\n",
    "share_ar_land = get_latest_year(share_ar_land)\n",
    "share_ar_land.to_excel('Data/Food, land-use and natural sink/share_arable_land.xlsx')"
   ]
  },
  {
   "cell_type": "markdown",
   "metadata": {},
   "source": [
    "#### Share Ag land"
   ]
  },
  {
   "cell_type": "code",
   "execution_count": 458,
   "metadata": {},
   "outputs": [],
   "source": [
    "share_ag_land = wb.download(indicator='AG.LND.AGRI.ZS',country='all',start=2000,end=2020)\n",
    "share_ag_land = share_ag_land.reset_index().dropna()\n",
    "share_ag_land.columns = ['Country Name','Year','Share of ag land (%)']\n",
    "share_ag_land = get_latest_year(share_ag_land)\n",
    "share_ag_land.to_excel('Data/Food, land-use and natural sink/share_agricultural_land.xlsx')"
   ]
  },
  {
   "cell_type": "markdown",
   "metadata": {},
   "source": [
    "#### Labor force participation rate"
   ]
  },
  {
   "cell_type": "code",
   "execution_count": 491,
   "metadata": {},
   "outputs": [],
   "source": [
    "labor_force_particip_rate = wb.download(indicator='SL.TLF.ACTI.ZS',country='all',start=2000,end=2020)\n",
    "labor_force_particip_rate = labor_force_particip_rate.reset_index().dropna()\n",
    "labor_force_particip_rate.columns = ['Country Name','Year','Labor force participation rate (%)']\n",
    "labor_force_particip_rate = get_latest_year(labor_force_particip_rate)\n",
    "labor_force_particip_rate.to_excel('Data/Managing the transition/Labor_force_participation_rate.xlsx')"
   ]
  },
  {
   "cell_type": "markdown",
   "metadata": {},
   "source": [
    "#### Female labor force participation rate"
   ]
  },
  {
   "cell_type": "code",
   "execution_count": 492,
   "metadata": {},
   "outputs": [],
   "source": [
    "fem_labor_force_particip_rate = wb.download(indicator='SL.TLF.CACT.FE.ZS',country='all',start=2000,end=2020)\n",
    "fem_labor_force_particip_rate = fem_labor_force_particip_rate.reset_index().dropna()\n",
    "fem_labor_force_particip_rate.columns = ['Country Name','Year','Female labor force participation rate (%)']\n",
    "fem_labor_force_particip_rate = get_latest_year(fem_labor_force_particip_rate)\n",
    "fem_labor_force_particip_rate.to_excel('Data/Managing the transition/Femal_labor_part_rate.xlsx')"
   ]
  },
  {
   "cell_type": "markdown",
   "metadata": {},
   "source": [
    "#### Debt level"
   ]
  },
  {
   "cell_type": "code",
   "execution_count": 505,
   "metadata": {},
   "outputs": [],
   "source": [
    "debt_level = wb.download(indicator='GC.DOD.TOTL.GD.ZS',country='all',start=2000,end=2020)\n",
    "debt_level = debt_level.reset_index().dropna()\n",
    "debt_level.columns = ['Country Name','Year','Debt level (% of GDP)']\n",
    "debt_level = get_latest_year(debt_level)\n",
    "debt_level.to_excel('Data/Managing the transition/Debt_level.xlsx')"
   ]
  },
  {
   "cell_type": "markdown",
   "metadata": {},
   "source": [
    "#### Total tax revenue"
   ]
  },
  {
   "cell_type": "code",
   "execution_count": 508,
   "metadata": {},
   "outputs": [],
   "source": [
    "total_tax_rev = wb.download(indicator='GC.TAX.TOTL.GD.ZS',country='all',start=2000,end=2020)\n",
    "total_tax_rev = total_tax_rev.reset_index().dropna()\n",
    "total_tax_rev.columns = ['Country Name','Year','Total tax revenue (%)']\n",
    "total_tax_rev = get_latest_year(total_tax_rev)\n",
    "total_tax_rev.to_excel('Data/Managing the transition/total_tax_revenue.xlsx')"
   ]
  },
  {
   "cell_type": "markdown",
   "metadata": {},
   "source": [
    "#### Coverage of social protection (all social assistance)"
   ]
  },
  {
   "cell_type": "code",
   "execution_count": 489,
   "metadata": {},
   "outputs": [],
   "source": [
    "cov = wb.download(indicator='per_sa_allsa.cov_pop_tot',country='all',start=2000,end=2020)\n",
    "cov = cov.reset_index().dropna()\n",
    "cov.columns = ['Country Name','Year','Coverage social assistance (% of pop)']\n",
    "cov = get_latest_year(cov)\n",
    "cov.to_excel('Data/Managing the transition/coverage_social_protection.xlsx')"
   ]
  },
  {
   "cell_type": "markdown",
   "metadata": {},
   "source": [
    "#### Unemployment"
   ]
  },
  {
   "cell_type": "code",
   "execution_count": 490,
   "metadata": {},
   "outputs": [],
   "source": [
    "unemp = wb.download(indicator='SL.UEM.TOTL.ZS',country='all',start=2000,end=2020)\n",
    "unemp = unemp.reset_index().dropna()\n",
    "unemp.columns = ['Country Name','Year','Unemployment (% of population)']\n",
    "unemp = get_latest_year(unemp)\n",
    "unemp.to_excel('Data/Managing the transition/unemployment.xlsx')"
   ]
  },
  {
   "cell_type": "markdown",
   "metadata": {},
   "source": [
    "#### School Enrollment Primary Male"
   ]
  },
  {
   "cell_type": "code",
   "execution_count": 494,
   "metadata": {},
   "outputs": [],
   "source": [
    "primary_male = wb.download(indicator='SE.PRM.ENRR.MA',country='all',start=2000,end=2020)\n",
    "primary_male = primary_male.reset_index().dropna()\n",
    "primary_male.columns = ['Country Name','Year','School enrollment, primary, male (% gross)']\n",
    "primary_male = get_latest_year(primary_male)"
   ]
  },
  {
   "cell_type": "markdown",
   "metadata": {},
   "source": [
    "#### School Enrollment Primary Female"
   ]
  },
  {
   "cell_type": "code",
   "execution_count": 495,
   "metadata": {},
   "outputs": [],
   "source": [
    "primary_female = wb.download(indicator='SE.PRM.ENRR.FE',country='all',start=2000,end=2020)\n",
    "primary_female = primary_female.reset_index().dropna()\n",
    "primary_female.columns = ['Country Name','Year','School enrollment, primary, female (% gross)']\n",
    "primary_female = get_latest_year(primary_female)"
   ]
  },
  {
   "cell_type": "markdown",
   "metadata": {},
   "source": [
    "#### School Enrollment Secondary Female"
   ]
  },
  {
   "cell_type": "code",
   "execution_count": 496,
   "metadata": {},
   "outputs": [],
   "source": [
    "sec_female = wb.download(indicator='SE.SEC.ENRR.FE',country='all',start=2000,end=2020)\n",
    "sec_female = sec_female.reset_index().dropna()\n",
    "sec_female.columns = ['Country Name','Year','School enrollment, secondary, female (% gross)']\n",
    "sec_female = get_latest_year(sec_female)"
   ]
  },
  {
   "cell_type": "markdown",
   "metadata": {},
   "source": [
    "#### School Enrollment Secondary Male"
   ]
  },
  {
   "cell_type": "code",
   "execution_count": 497,
   "metadata": {},
   "outputs": [],
   "source": [
    "sec_male = wb.download(indicator='SE.SEC.ENRR.MA',country='all',start=2000,end=2020)\n",
    "sec_male = sec_male.reset_index().dropna()\n",
    "sec_male.columns = ['Country Name','Year','School enrollment, secondary, male (% gross)']\n",
    "sec_male = get_latest_year(sec_male)"
   ]
  },
  {
   "cell_type": "markdown",
   "metadata": {},
   "source": [
    "#### School Enrollment Tertiary Female"
   ]
  },
  {
   "cell_type": "code",
   "execution_count": 498,
   "metadata": {},
   "outputs": [],
   "source": [
    "ter_female = wb.download(indicator='SE.TER.ENRR.FE',country='all',start=2000,end=2020)\n",
    "ter_female = ter_female.reset_index().dropna()\n",
    "ter_female.columns = ['Country Name','Year','School enrollment, tertiary, female (% gross)']\n",
    "ter_female = get_latest_year(ter_female)"
   ]
  },
  {
   "cell_type": "markdown",
   "metadata": {},
   "source": [
    "#### School Enrollment Tertiary Male"
   ]
  },
  {
   "cell_type": "code",
   "execution_count": 499,
   "metadata": {},
   "outputs": [],
   "source": [
    "ter_male = wb.download(indicator='SE.TER.ENRR.MA',country='all',start=2000,end=2020)\n",
    "ter_male = ter_male.reset_index().dropna()\n",
    "ter_male.columns = ['Country Name','Year','School enrollment, tertiary, male (% gross)']\n",
    "ter_male = get_latest_year(ter_male)\n",
    "\n",
    "primary_male['Type'] = 'Primary Male'\n",
    "primary_male.columns = ['Country Name','Year','Value','Type']\n",
    "\n",
    "primary_female['Type'] = 'Primary Female'\n",
    "primary_female.columns = ['Country Name','Year','Value','Type']\n",
    "\n",
    "sec_male['Type'] = 'Secondary Male'\n",
    "sec_male.columns = ['Country Name','Year','Value','Type']\n",
    "\n",
    "sec_female['Type'] = 'Secondary Female'\n",
    "sec_female.columns = ['Country Name','Year','Value','Type']\n",
    "\n",
    "ter_female['Type'] = 'Tertiary female'\n",
    "ter_female.columns = ['Country Name','Year','Value','Type']\n",
    "\n",
    "ter_male['Type'] = 'Tertiary Male'\n",
    "ter_male.columns = ['Country Name','Year','Value','Type']\n",
    "\n",
    "school_enroll = primary_male.append(primary_female).append(sec_male).append(sec_female).append(ter_female).append(ter_male)\n",
    "school_enroll.to_excel('Data/Managing the transition/School_enrollement.xlsx')"
   ]
  },
  {
   "cell_type": "markdown",
   "metadata": {},
   "source": [
    "#### Fixed broadband subscriptions (per 100 people)"
   ]
  },
  {
   "cell_type": "code",
   "execution_count": 493,
   "metadata": {},
   "outputs": [],
   "source": [
    "internet = wb.download(indicator='IT.NET.BBND.P2',country='all',start=2000,end=2020)\n",
    "internet = internet.reset_index().dropna()\n",
    "internet.columns = ['Country Name','Year','Fixed broadband subscriptions (per 100 people)']\n",
    "internet = get_latest_year(internet)\n",
    "internet.to_excel('Data/Managing the transition/Fixed broadband subscriptions.xlsx')"
   ]
  },
  {
   "cell_type": "markdown",
   "metadata": {},
   "source": [
    "#### Social Protection and Labor - Poverty Headcount Reduction"
   ]
  },
  {
   "cell_type": "code",
   "execution_count": 39,
   "metadata": {},
   "outputs": [],
   "source": [
    "pov_red = wb.download(indicator='per_allsp_p0_preT_tot',country='all',start=2000,end=2020)\n",
    "pov_red = pov_red.reset_index().dropna()\n",
    "pov_red.columns = ['Country Name','Year','Poverty Headcount Reduction (%)']\n",
    "pov_red = get_latest_year(pov_red)\n",
    "pov_red = pov_red[~pov_red['Country Name'].isin(regions)]\n",
    "\n",
    "pov_red.to_excel('Data/Residual Risk Management/ASP_Poverty_Red.xlsx')"
   ]
  },
  {
   "cell_type": "markdown",
   "metadata": {},
   "source": [
    "#### Social Protection and Labor - Average Transfert Amount"
   ]
  },
  {
   "cell_type": "code",
   "execution_count": 41,
   "metadata": {},
   "outputs": [],
   "source": [
    "av_tran = wb.download(indicator='per_allsp.avt_pop_preT_tot',country='all',start=2000,end=2020)\n",
    "av_tran = av_tran.reset_index().dropna()\n",
    "av_tran.columns = ['Country Name','Year','Average per capita transfer ($ PPP/day)']\n",
    "av_tran = get_latest_year(av_tran)\n",
    "av_tran = av_tran[~av_tran['Country Name'].isin(regions)]\n",
    "\n",
    "av_tran.to_excel('Data/Residual Risk Management/ASP_Average_per_capita_transfer.xlsx')"
   ]
  },
  {
   "cell_type": "markdown",
   "metadata": {},
   "source": [
    "#### Social Protection and Labor - Gini Reduction"
   ]
  },
  {
   "cell_type": "code",
   "execution_count": 43,
   "metadata": {},
   "outputs": [],
   "source": [
    "gini_red = wb.download(indicator='per_allsp_gini_preT_tot',country='all',start=2000,end=2020)\n",
    "gini_red = gini_red.reset_index().dropna()\n",
    "gini_red.columns = ['Country Name','Year','Gini Reduction (%)']\n",
    "gini_red = get_latest_year(gini_red)\n",
    "gini_red = gini_red[~gini_red['Country Name'].isin(regions)]\n",
    "\n",
    "gini_red.to_excel('Data/Residual Risk Management/ASP_Gini_Red.xlsx')"
   ]
  },
  {
   "cell_type": "markdown",
   "metadata": {},
   "source": [
    "#### Social Protection and Labor - Coverage 1st quintile"
   ]
  },
  {
   "cell_type": "code",
   "execution_count": 44,
   "metadata": {},
   "outputs": [],
   "source": [
    "coverage_1st = wb.download(indicator='per_allsp.cov_q1_tot',country='all',start=2000,end=2020)\n",
    "coverage_1st = coverage_1st.reset_index().dropna()\n",
    "coverage_1st.columns = ['Country Name','Year','Coverage (1st quintile)']\n",
    "coverage_1st = get_latest_year(coverage_1st)\n",
    "coverage_1st = coverage_1st[~coverage_1st['Country Name'].isin(regions)]\n",
    "\n",
    "coverage_1st.to_excel('Data/Residual Risk Management/ASP_Coverage_1st.xlsx')"
   ]
  },
  {
   "cell_type": "markdown",
   "metadata": {},
   "source": [
    "#### Social Protection and Labor"
   ]
  },
  {
   "cell_type": "code",
   "execution_count": 167,
   "metadata": {},
   "outputs": [],
   "source": [
    "coverage_tot = wb.download(indicator='per_allsp.cov_pop_tot',country='all',start=2000,end=2020)\n",
    "coverage_tot = coverage_tot.reset_index().dropna()\n",
    "coverage_tot.columns = ['Country Name','Year','Coverage']\n",
    "coverage_tot = get_latest_year(coverage_tot)\n",
    "coverage_tot = coverage_tot[~coverage_tot['Country Name'].isin(regions)]\n",
    "\n",
    "coverage_tot.to_excel('Data/Residual Risk Management/ASP_Coverage_tot.xlsx')"
   ]
  },
  {
   "cell_type": "markdown",
   "metadata": {},
   "source": [
    "#### Financial Inclusion - Account"
   ]
  },
  {
   "cell_type": "code",
   "execution_count": 51,
   "metadata": {},
   "outputs": [],
   "source": [
    "account = wb.download(indicator='account.t.d',country='all',start=2000,end=2020)\n",
    "account = account.reset_index().dropna()\n",
    "account.columns = ['Country Name','Year','Account']\n",
    "account = get_latest_year(account)\n",
    "account = account[~account['Country Name'].isin(regions)]\n",
    "\n",
    "account.to_excel('Data/Residual Risk Management/Findex_Account.xlsx')"
   ]
  },
  {
   "cell_type": "markdown",
   "metadata": {},
   "source": [
    "#### Financial Inclusion - Account, Income 40%"
   ]
  },
  {
   "cell_type": "code",
   "execution_count": 53,
   "metadata": {},
   "outputs": [],
   "source": [
    "account = wb.download(indicator='account.t.d.7',country='all',start=2000,end=2020)\n",
    "account = account.reset_index().dropna()\n",
    "account.columns = ['Country Name','Year','Account,income, poorest 40%']\n",
    "account = get_latest_year(account)\n",
    "account = account[~account['Country Name'].isin(regions)]\n",
    "\n",
    "account.to_excel('Data/Residual Risk Management/Findex_Account_40%.xlsx')"
   ]
  },
  {
   "cell_type": "markdown",
   "metadata": {},
   "source": [
    "#### Financial Inclusion - Digital Payments"
   ]
  },
  {
   "cell_type": "code",
   "execution_count": 50,
   "metadata": {},
   "outputs": [],
   "source": [
    "dig_pay = wb.download(indicator='g20.t.made',country='all',start=2000,end=2020)\n",
    "dig_pay = dig_pay.reset_index().dropna()\n",
    "dig_pay.columns = ['Country Name','Year','Digital payments last year(%)']\n",
    "dig_pay = get_latest_year(dig_pay)\n",
    "dig_pay = dig_pay[~dig_pay['Country Name'].isin(regions)]\n",
    "\n",
    "dig_pay.to_excel('Data/Residual Risk Management/Findex_Digital_Payments.xlsx')"
   ]
  },
  {
   "cell_type": "markdown",
   "metadata": {},
   "source": [
    "#### Financial Inclusion - Saving money "
   ]
  },
  {
   "cell_type": "code",
   "execution_count": 55,
   "metadata": {},
   "outputs": [],
   "source": [
    "savings = wb.download(indicator='fin18.t.d',country='all',start=2000,end=2020)\n",
    "savings = savings.reset_index().dropna()\n",
    "savings.columns = ['Country Name','Year','Saving money in the past year']\n",
    "savings = get_latest_year(savings)\n",
    "savings = savings[~savings['Country Name'].isin(regions)]\n",
    "\n",
    "savings.to_excel('Data/Residual Risk Management/Findex_Saving_Money.xlsx')"
   ]
  },
  {
   "cell_type": "markdown",
   "metadata": {},
   "source": [
    "#### Governance Effectiveness"
   ]
  },
  {
   "cell_type": "code",
   "execution_count": 22,
   "metadata": {},
   "outputs": [],
   "source": [
    "gov_eff = wb.download(indicator='GE.EST',country='all',start=2000,end=2020)\n",
    "gov_eff = gov_eff.reset_index().dropna()\n",
    "gov_eff.columns = ['Country Name','Year','Governance Effectiveness']\n",
    "gov_eff = get_latest_year(gov_eff)\n",
    "gov_eff = gov_eff[~gov_eff['Country Name'].isin(regions)]\n",
    "gov_eff = gov_eff.sort_values('Governance Effectiveness',ascending=False)\n",
    "gov_eff['Ranking'] = range(1,len(gov_eff)+1)\n",
    "gov_eff.to_excel('Data/Managing the transition/Gov_Effec.xlsx')"
   ]
  },
  {
   "cell_type": "markdown",
   "metadata": {},
   "source": [
    "#### Political stability and absence of violence/terrorism"
   ]
  },
  {
   "cell_type": "code",
   "execution_count": 23,
   "metadata": {},
   "outputs": [],
   "source": [
    "poli_sta = wb.download(indicator='PV.EST',country='all',start=2000,end=2020)\n",
    "poli_sta = poli_sta.reset_index().dropna()\n",
    "poli_sta.columns = ['Country Name','Year','Political stability and absence of violence']\n",
    "poli_sta = get_latest_year(poli_sta)\n",
    "poli_sta = poli_sta[~poli_sta['Country Name'].isin(regions)]\n",
    "poli_sta = poli_sta.sort_values('Political stability and absence of violence',ascending=False)\n",
    "poli_sta['Ranking'] = range(1,len(poli_sta)+1)\n",
    "poli_sta.to_excel('Data/Managing the transition/Political_Stability.xlsx')"
   ]
  },
  {
   "cell_type": "markdown",
   "metadata": {},
   "source": [
    "#### Regulatory quality"
   ]
  },
  {
   "cell_type": "code",
   "execution_count": 24,
   "metadata": {},
   "outputs": [],
   "source": [
    "regu_qua = wb.download(indicator='RQ.EST',country='all',start=2000,end=2020)\n",
    "regu_qua = regu_qua.reset_index().dropna()\n",
    "regu_qua.columns = ['Country Name','Year','Regulatory Quality']\n",
    "regu_qua = get_latest_year(regu_qua)\n",
    "regu_qua = regu_qua[~regu_qua['Country Name'].isin(regions)]\n",
    "regu_qua = regu_qua.sort_values('Regulatory Quality',ascending=False)\n",
    "regu_qua['Ranking'] = range(1,len(regu_qua)+1)\n",
    "regu_qua.to_excel('Data/Managing the transition/Regulatory_Quality.xlsx')"
   ]
  },
  {
   "cell_type": "markdown",
   "metadata": {},
   "source": [
    "#### Rule of law"
   ]
  },
  {
   "cell_type": "code",
   "execution_count": 29,
   "metadata": {},
   "outputs": [],
   "source": [
    "rule_law = wb.download(indicator='RL.EST',country='all',start=2000,end=2020)\n",
    "rule_law = rule_law.reset_index().dropna()\n",
    "rule_law.columns = ['Country Name','Year','Rule of law']\n",
    "rule_law = get_latest_year(rule_law)\n",
    "rule_law = rule_law[~rule_law['Country Name'].isin(regions)]\n",
    "rule_law = rule_law.sort_values('Rule of law',ascending=False)\n",
    "rule_law['Ranking'] = range(1,len(rule_law)+1)\n",
    "rule_law.to_excel('Data/Managing the transition/Rule_of_law.xlsx')"
   ]
  },
  {
   "cell_type": "markdown",
   "metadata": {},
   "source": [
    "#### Voice and accountability"
   ]
  },
  {
   "cell_type": "code",
   "execution_count": 33,
   "metadata": {},
   "outputs": [],
   "source": [
    "voice = wb.download(indicator='VA.EST',country='all',start=2000,end=2020)\n",
    "voice = voice.reset_index().dropna()\n",
    "voice.columns = ['Country Name','Year','Voice and accountability']\n",
    "voice = get_latest_year(voice)\n",
    "voice = voice[~voice['Country Name'].isin(regions)]\n",
    "voice = voice.sort_values('Voice and accountability',ascending=False)\n",
    "voice['Ranking'] = range(1,len(voice)+1)\n",
    "voice.to_excel('Data/Managing the transition/Voice_accountability.xlsx')"
   ]
  },
  {
   "cell_type": "markdown",
   "metadata": {},
   "source": [
    "## Non-API"
   ]
  },
  {
   "cell_type": "markdown",
   "metadata": {},
   "source": [
    "#### Financial Inclusion - Account, Income 40%"
   ]
  },
  {
   "cell_type": "code",
   "execution_count": 47,
   "metadata": {},
   "outputs": [],
   "source": [
    "account = wb.download(indicator='per_allsp_p0_preT_tot',country='all',start=2000,end=2020)\n",
    "account = account.reset_index().dropna()\n",
    "account.columns = ['Country Name','Year','Account,income, poorest 40%']\n",
    "account = get_latest_year(account)\n",
    "account = account[~account['Country Name'].isin(regions)]\n",
    "\n",
    "account.to_excel('Data/Residual Risk Management/Findex_Account_40%.xlsx')"
   ]
  },
  {
   "cell_type": "markdown",
   "metadata": {},
   "source": [
    "#### [GHG per GDP](https://www.climatewatchdata.org/ghg-emissions?calculation=PER_GDP&end_year=2018&start_year=1990) CAIT"
   ]
  },
  {
   "cell_type": "code",
   "execution_count": 439,
   "metadata": {},
   "outputs": [],
   "source": [
    "ghg_per_GDP = pd.read_csv('Data/Emissions/ghg-emissions-GDP-CAIT.csv')\n",
    "ghg_per_GDP = ghg_per_GDP[:-2]\n",
    "ghg_per_GDP['Country Code'] = ghg_per_GDP['Country/Region'].apply(lambda x : dict_map[x])\n",
    "ghg_per_GDP = ghg_per_GDP.set_index('Country Code')\n",
    "ghg_per_GDP['Country Name'] = iso_to_wb['country']\n",
    "ghg_per_GDP = ghg_per_GDP.reset_index()\n",
    "ghg_per_GDP = ghg_per_GDP.drop(['Country/Region'],axis=1)\n",
    "ghg_per_GDP = pd.DataFrame(ghg_per_GDP.set_index(['Country Name','Country Code','unit']).stack()).reset_index()\n",
    "ghg_per_GDP.columns = ['Country Name','Country Code','unit','Year','Value']\n",
    "ghg_per_GDP = ghg_per_GDP[ghg_per_GDP.Value!='false']\n",
    "ghg_per_GDP.to_excel('Data/Emissions/GHG_per_GDP.xlsx')\n"
   ]
  },
  {
   "cell_type": "markdown",
   "metadata": {},
   "source": [
    "#### [GHG per capita](https://www.climatewatchdata.org/ghg-emissions?calculation=PER_CAPITA&end_year=2018&start_year=1990) CAIT"
   ]
  },
  {
   "cell_type": "code",
   "execution_count": 445,
   "metadata": {},
   "outputs": [],
   "source": [
    "ghg_per_capita = pd.read_csv('Data/Emissions/ghg-emissions-capita-CAIT.csv')\n",
    "ghg_per_capita = ghg_per_capita[:-2]\n",
    "ghg_per_capita['Country Code'] = ghg_per_capita['Country/Region'].apply(lambda x : dict_map[x])\n",
    "ghg_per_capita = ghg_per_capita.set_index('Country Code')\n",
    "ghg_per_capita['Country Name'] = iso_to_wb['country']\n",
    "ghg_per_capita = ghg_per_capita.reset_index()\n",
    "ghg_per_capita = ghg_per_capita.drop(['Country/Region'],axis=1)\n",
    "ghg_per_capita = pd.DataFrame(ghg_per_capita.set_index(['Country Name','Country Code','unit']).stack()).reset_index()\n",
    "ghg_per_capita.columns = ['Country Name','Country Code','unit','Year','Value']\n",
    "ghg_per_capita = ghg_per_capita[ghg_per_capita.Value!='false']\n",
    "ghg_per_capita.to_excel('Data/Emissions/GHG_per_capita.xlsx')\n"
   ]
  },
  {
   "cell_type": "markdown",
   "metadata": {},
   "source": [
    "#### [Youth and adults able to write a computer program using a specialized programming language](https://unstats-undesa.opendata.arcgis.com/datasets/c86e872cc853477180d39477bcde9f88) via https://country-profiles.unstatshub.org/pak#goal-4"
   ]
  },
  {
   "cell_type": "code",
   "execution_count": 139,
   "metadata": {
    "scrolled": true
   },
   "outputs": [],
   "source": [
    "r = requests.get(\"https://services7.arcgis.com/gp50Ao2knMlOM89z/arcgis/rest/services/SE_ADT_ACTS_4_4_1_2020Q2G03/FeatureServer/0/query?where=typeOfSkill_desc%20%3D%20'WRITING%20A%20COMPUTER%20PROGRAM%20USING%20A%20SPECIALIZED%20PROGRAMMING%20LANGUAGE'&outFields=*&returnGeometry=false&outSR=4326&f=json\")\n",
    "x = r.json()\n",
    "programming = pd.DataFrame.from_dict([x['features'][i]['attributes'] for i in range(len(x['features']))])\n",
    "programming['ISO'] = programming['geoAreaName'].apply(lambda x : dict_map[x])\n",
    "\n",
    "programming = programming.set_index('ISO')\n",
    "programming['geoAreaName'] = iso_to_wb['country']\n",
    "programming = programming.reset_index()\n",
    "programming = programming[programming.sex_desc=='Both sexes']\n",
    "programming.to_excel('Data/Social Profile/Population_programming_languages.xlsx')"
   ]
  },
  {
   "cell_type": "markdown",
   "metadata": {},
   "source": [
    "####  [CO2 emissions per dollar of manufacturing value-ad](https://unstats-undesa.opendata.arcgis.com/datasets/8a0ffe54d84546cda026f03d4ed7b59e/data?geometry=156.851%2C-39.570%2C-88.891%2C62.146) via https://country-profiles.unstatshub.org/pak#goal-8"
   ]
  },
  {
   "cell_type": "code",
   "execution_count": 148,
   "metadata": {},
   "outputs": [],
   "source": [
    "r = requests.get(\"https://services7.arcgis.com/gp50Ao2knMlOM89z/arcgis/rest/services/EN_ATM_CO2MVA_9_4_1_2020Q2G03/FeatureServer/0/query?where=1%3D1&outFields=*&outSR=4326&f=json\")\n",
    "x = r.json()\n",
    "co2_doll = pd.DataFrame.from_dict([x['features'][i]['attributes'] for i in range(len(x['features']))])\n",
    "val = ['value_%s'%year for year in range(2000,2018)]\n",
    "co2_doll = co2_doll[['geoAreaName','parentName',*val]]\n",
    "\n",
    "co2_doll['ISO'] = co2_doll['geoAreaName'].apply(lambda x : dict_map[x])\n",
    "\n",
    "co2_doll = co2_doll.set_index('ISO')\n",
    "co2_doll['geoAreaName'] = iso_to_wb['country']\n",
    "co2_doll = co2_doll.reset_index()\n",
    "co2_doll_st = pd.DataFrame(co2_doll.set_index(['geoAreaName','ISO','parentName']).stack()).reset_index()\n",
    "\n",
    "co2_doll_st.columns = ['Country Name','Country Code','Region','Year','Value']\n",
    "co2_doll_st['Year'] = co2_doll_st['Year'].apply(lambda x :x[-4:]).astype(int)\n",
    "co2_doll_st.to_excel('Data/Decarbonization of the power sector/CO2 emissions per dollar of manufacturing value-ad.xlsx')"
   ]
  },
  {
   "cell_type": "markdown",
   "metadata": {},
   "source": [
    "#### CO2 emissions from intensive sectors - GTAP"
   ]
  },
  {
   "cell_type": "code",
   "execution_count": 55,
   "metadata": {},
   "outputs": [],
   "source": [
    "gtap_emi = pd.read_excel('Data/GTAP_Emissions and Production Data_2014.xlsx',sheet_name='MDF',skiprows=2)\n",
    "gtap_emi = gtap_emi.set_index('Country')\n",
    "gtap_emi['Country Name'] = iso_to_wb['country']\n",
    "gtap_emi = gtap_emi.dropna(subset=['Country Name'])\n",
    "gtap_emi = gtap_emi.reset_index()\n",
    "\n",
    "gtap_emi = gtap_emi.groupby(['Country','Country Name','Commodity']).sum().reset_index()\n",
    "gtap_emi = gtap_emi.set_index(['Country','Commodity'])\n",
    "\n",
    "gtap_val = pd.read_excel('Data/GTAP_Emissions and Production Data_2014.xlsx',sheet_name='Production (VOSB)')\n",
    "gtap_val = gtap_val.set_index(['Country ','Commodity'])\n",
    "\n",
    "gtap_emi['Production value (M USD)'] = gtap_val['Production value']\n",
    "gtap_emi = gtap_emi.reset_index()\n",
    "\n",
    "gtap_emi.to_excel('Data/GTAP_Emission_Intesity_per_sec.xlsx')"
   ]
  },
  {
   "cell_type": "markdown",
   "metadata": {},
   "source": [
    "#### CO2 emissions from fuel combustion - CPAT"
   ]
  },
  {
   "cell_type": "markdown",
   "metadata": {},
   "source": [
    "Instructions to update\n",
    "1. Go to: http://www.oecd-ilibrary.org/energy/data/iea-world-energy-statistics-and-balances_enestats-data-en\t\n",
    "2. Then the data tab next to \"Extended world energy balances\"\t\n",
    "3. \"Customize\" -> \"Layout\" -> switch \"Product\" to a row category and \"Flow\" to a column category, take \"Time\" out of the column categories\t\n",
    "4. Select relevant years, countries and flows\t\n",
    "5. Change the names for China, Russia, Democratic Republic of the Congo, Republic of the Congo, Macedonia, Iran, Kyrgyz Republic, Montenegro, Syria and Vietnam\t\n",
    "6. Use .do file to aggregate into CPAT-format flows and products\t\n"
   ]
  },
  {
   "cell_type": "code",
   "execution_count": 592,
   "metadata": {},
   "outputs": [],
   "source": [
    "co2_em = pd.read_excel('Data/Decarbonization of the power sector/CO2 emissions from fuel combustion.xlsx',sheet_name='CO2_emissions')"
   ]
  },
  {
   "cell_type": "code",
   "execution_count": 594,
   "metadata": {},
   "outputs": [],
   "source": [
    "co2_em = co2_em.dropna()\n",
    "co2_em = co2_em[~co2_em['CPAT country name'].isin(['World','OECD Americas','OECD Asia Oceania','Non-OECD Americas',\n",
    "        'Europe & Central Asia (excluding high income)','Africa','Middle East','Non-OECD Europe and Eurasia','Kosovo',\n",
    "        'Non-OECD Asia (excluding China)','World marine bunkers','World aviation bunkers','Curaçao','Hong Kong SAR',\n",
    "        'Other Africa','Other non-OECD Americas','Other non-OECD Asia','OECD members','Memo: IEA Total','Memo: European Union-28',\n",
    "                                                  'Memo: FSU 15','Memo: G7','Memo: G8'])]\n",
    "co2_em['ISO'] = co2_em['CPAT country name'].apply(lambda x : dict_map[x])"
   ]
  },
  {
   "cell_type": "code",
   "execution_count": 595,
   "metadata": {},
   "outputs": [],
   "source": [
    "co2_em_st = pd.DataFrame(co2_em.set_index(['CPAT country name','ISO','Product']).stack()).reset_index()\n",
    "co2_em_st.columns = ['Country Name','Country Code','Product','Year','Value']\n",
    "co2_em_st = co2_em_st.set_index('Country Code')\n",
    "co2_em_st['Country Name'] = iso_to_wb['country']\n",
    "\n",
    "co2_em_st['Value'] = co2_em_st['Value'] / 1000\n",
    "co2_em_st['Unit'] = 'Mt CO2eq'"
   ]
  },
  {
   "cell_type": "code",
   "execution_count": 598,
   "metadata": {},
   "outputs": [],
   "source": [
    "co2_em_st.reset_index().to_excel('Data/Decarbonization of the power sector/CO2_emissions_fuel_st.xlsx')"
   ]
  },
  {
   "cell_type": "markdown",
   "metadata": {},
   "source": [
    "#### <font color='green'>Power generation carbon intensity (Draft Power Sector Sustainability ) </font>, <font color='green'>Share of RE (Draft Power Sector Sustainability ) </font>, <font color='green'>Share of variable renewables(Draft Power Sector Sustainability ) </font>\n",
    "(Need to know how data was produced - CPAT sent by Stephen)"
   ]
  },
  {
   "cell_type": "code",
   "execution_count": 43,
   "metadata": {},
   "outputs": [],
   "source": [
    "CPAT_IEA_data = pd.read_excel('Data/Decarbonization of the power sector/DraftPowerSectorSustainabilityIndicators.xlsx'\n",
    "                              ,sheet_name='UnderlyingData')\n",
    "CPAT_IEA_data = CPAT_IEA_data[~CPAT_IEA_data.Country.isin(['West Bank and Gaza'])]\n",
    "CPAT_IEA_data['Country Code'] = CPAT_IEA_data.Country.apply(lambda x:dict_map[x])\n",
    "CPAT_IEA_data = CPAT_IEA_data.set_index('Country Code')\n",
    "CPAT_IEA_data['Country Name'] = iso_to_wb['country']\n",
    "CPAT_IEA_data = CPAT_IEA_data.reset_index().drop('Country',axis=1)\n",
    "CPAT_IEA_data = CPAT_IEA_data[CPAT_IEA_data['CPAT indicator'].isin(['CO2 intensity of power generation','Proportion of renewables in total generation, base year',\n",
    "                                     'Proportion of variable renewables in total'])]"
   ]
  },
  {
   "cell_type": "code",
   "execution_count": 49,
   "metadata": {},
   "outputs": [],
   "source": [
    "out = pd.DataFrame()\n",
    "\n",
    "temp = CPAT_IEA_data[CPAT_IEA_data['CPAT indicator']=='CO2 intensity of power generation']\n",
    "temp = temp.sort_values('Value2018')\n",
    "\n",
    "i=1\n",
    "for val in temp['Value2018'].unique():\n",
    "    temp.loc[temp['Value2018']==val,'Ranking'] = i\n",
    "    i = i + 1\n",
    "out = out.append(temp)\n",
    "\n",
    "temp = CPAT_IEA_data[CPAT_IEA_data['CPAT indicator']=='Proportion of renewables in total generation, base year']\n",
    "temp = temp.sort_values('Value2018',ascending=False)\n",
    "\n",
    "i=1\n",
    "for val in temp['Value2018'].unique():\n",
    "    temp.loc[temp['Value2018']==val,'Ranking'] = i\n",
    "    i = i + 1\n",
    "out = out.append(temp)\n",
    "\n",
    "temp = CPAT_IEA_data[CPAT_IEA_data['CPAT indicator']=='Proportion of variable renewables in total']\n",
    "temp = temp.sort_values('Value2018',ascending=False)\n",
    "\n",
    "i=1\n",
    "for val in temp['Value2018'].unique():\n",
    "    temp.loc[temp['Value2018']==val,'Ranking'] = i\n",
    "    i = i + 1\n",
    "out = out.append(temp)\n",
    "out.to_excel('Data/Decarbonization of the power sector/CO2Em_Intensity_Share_Renewables.xlsx')"
   ]
  },
  {
   "cell_type": "markdown",
   "metadata": {},
   "source": [
    "#### <font color='red'>Storage Capacity (no country coverage) </font> [Link to IEA Data](https://www.iea.org/reports/energy-storage)"
   ]
  },
  {
   "cell_type": "markdown",
   "metadata": {},
   "source": [
    "#### [Energy mix](https://www.iea.org/data-and-statistics?country=WORLD&fuel=Energy%20supply&indicator=TPESbySource) (World Energy Balances - IEA)"
   ]
  },
  {
   "cell_type": "code",
   "execution_count": 856,
   "metadata": {},
   "outputs": [],
   "source": [
    "ener = pd.read_csv('Data/Decarbonization of the power sector/Energy_supply_consumption_IEA.csv')\n",
    "ener = ener[ener.columns[:-2]]\n",
    "ener = ener.set_index('COUNTRY')\n",
    "ener['Country'] = iso_to_wb['country']\n",
    "\n",
    "ener = ener.dropna().reset_index()\n",
    "\n",
    "ener_temp = ener[ener.Product.isin(['Geothermal','Solar/wind/other'])]\n",
    "ener = ener[~ener.Product.isin(['Geothermal','Solar/wind/other'])]\n",
    "\n",
    "ener_temp = ener_temp.groupby(['COUNTRY','Country','FLOW','Flow','TIME','Time']).sum().reset_index()\n",
    "ener_temp['Product'] = 'Geothermal/Wind/Solar'\n",
    "ener = ener.append(ener_temp)\n",
    "ener.to_excel('Data/Decarbonization of the power sector/Energy_supply_consumption_IEA_ren.xlsx')"
   ]
  },
  {
   "cell_type": "markdown",
   "metadata": {},
   "source": [
    "#### [Electricity mix](https://www.iea.org/data-and-statistics/data-browser?country=WORLD&fuel=Energy%20supply&indicator=ElecGenByFuel) (World Energy Statistics - IEA)"
   ]
  },
  {
   "cell_type": "code",
   "execution_count": 43,
   "metadata": {},
   "outputs": [],
   "source": [
    "elec = pd.read_csv('Data/Decarbonization of the power sector/Electricity_mix_IEA.csv')\n",
    "elec = elec[elec.columns[:-2]]\n",
    "elec = elec.set_index('COUNTRY')\n",
    "elec['Country'] = iso_to_wb['country']\n",
    "\n",
    "elec = elec.dropna().reset_index()\n",
    "elec = elec[elec['Value']>0]\n",
    "\n",
    "coal = elec[elec.Product.isin(['Anthracite (kt)','BKB (kt)','Blast furnace gas (TJ-gross)','Coal tar (kt)',\n",
    "                              'Coke oven coke (kt)','Coke oven gas (TJ-gross)','Coking coal (kt)','Gas works gas (TJ-gross)',\n",
    "                              'Lignite (kt)','Oil shale and oil sands (kt)','Other bituminous coal (kt)',\n",
    "                              'Other recovered gases (TJ-gross)','Peat (kt)','Peat products (kt)','Sub-bituminous coal (kt)'])]\n",
    "coal = coal.groupby(['COUNTRY','Country','Flow','Time']).sum()\n",
    "coal['Product'] = 'Coal'\n",
    "coal = coal.reset_index().drop(['TIME'],axis=1)\n",
    "\n",
    "biofuels = elec[elec.Product.isin(['Biodiesels (kt)', 'Other liquid biofuels (kt)','Primary solid biofuels (TJ-net)'])]\n",
    "biofuels = biofuels.groupby(['COUNTRY','Country','Flow','Time']).sum()\n",
    "biofuels['Product'] = 'Biofuels'\n",
    "biofuels = biofuels.reset_index().drop(['TIME'],axis=1)\n",
    "\n",
    "oil = elec[elec.Product.isin(['Bitumen (kt)', 'Crude oil (kt)','Fuel oil (kt)','Gas/diesel oil excl. biofuels (kt)',\n",
    "                             'Kerosene type jet fuel excl. biofuels (kt)','Liquefied petroleum gases (LPG) (kt)',\n",
    "                             'Motor gasoline excl. biofuels (kt)','Naphtha (kt)','Natural gas liquids (kt)',\n",
    "                              'Other kerosene (kt)','Other oil products (kt)','Petroleum coke (kt)','Refinery gas (kt)'])]\n",
    "oil = oil.groupby(['COUNTRY','Country','Flow','Time']).sum()\n",
    "oil['Product'] = 'Oil'\n",
    "oil = oil.reset_index().drop(['TIME'],axis=1)\n",
    "\n",
    "other_sources = elec[elec.Product.isin(['Heat from chemical sources','Other sources'])]\n",
    "other_sources = other_sources.groupby(['COUNTRY','Country','Flow','Time']).sum()\n",
    "other_sources['Product'] = 'Other Sources'\n",
    "other_sources = other_sources.reset_index().drop(['TIME'],axis=1)\n",
    "\n",
    "remaining_sources = elec[elec.Product.isin(['Hydro','Natural gas (TJ-gross)','Nuclear','Solar photovoltaics',\n",
    "                                            'Solar thermal (direct use in TJ-net)','Wind','\"Tide, wave and ocean\"'])]\n",
    "\n",
    "elec_full = remaining_sources.append(other_sources).append(oil).append(biofuels).append(coal)\n",
    "elec_full = elec_full.drop(['PRODUCT','FLOW','TIME'],axis=1)\n",
    "\n",
    "elec_full.columns = ['Country Code','Country Name','Product','Flow','Year','Value']\n",
    "\n",
    "elec_full.to_excel('Data/Decarbonization of the power sector/Electricity_mix_IEA_v3.xlsx')"
   ]
  },
  {
   "cell_type": "markdown",
   "metadata": {},
   "source": [
    "#### Share of Renewables"
   ]
  },
  {
   "cell_type": "code",
   "execution_count": 52,
   "metadata": {},
   "outputs": [],
   "source": [
    "elec = pd.read_excel('Data/Decarbonization of the power sector/Electricity_mix_IEA_v3.xlsx')\n",
    "elec_last = elec[elec.Year==2018]\n",
    "\n",
    "elec_last_group = elec_last.groupby(['Country Code','Country Name']).sum().reset_index()\n",
    "elec_last_group = elec_last_group[['Country Code','Country Name','Value']]\n",
    "\n",
    "elec_ren = elec_last[elec_last.Product.isin(['Hydro', 'Solar photovoltaics','Wind','Solar thermal (direct use in TJ-net)',\n",
    "                                            '\"Tide, wave and ocean\"', 'Other Sources','Biofuels'])]\n",
    "elec_ren = elec_ren.groupby(['Country Code','Country Name']).sum().reset_index()\n",
    "elec_ren = elec_ren[['Country Code','Country Name','Value']]\n",
    "\n",
    "elec_var_ren = elec_last[elec_last.Product.isin(['Solar photovoltaics','Wind','Solar thermal (direct use in TJ-net)',\n",
    "                                            '\"Tide, wave and ocean\"', 'Other Sources',])]\n",
    "elec_var_ren = elec_var_ren.groupby(['Country Code','Country Name']).sum().reset_index()\n",
    "elec_var_ren = elec_var_ren[['Country Code','Country Name','Value']]\n",
    "\n",
    "elec_last_group = elec_last_group.set_index('Country Code')\n",
    "elec_ren = elec_ren.set_index('Country Code')\n",
    "elec_var_ren = elec_var_ren.set_index('Country Code')\n",
    "\n",
    "elec_ren['Share Renewables'] = elec_ren['Value'] / elec_last_group['Value']\n",
    "elec_var_ren['Share Var Renewables'] = elec_var_ren['Value'] / elec_last_group['Value']\n",
    "\n",
    "elec_ren = elec_ren.sort_values('Share Renewables',ascending=False)\n",
    "i=1\n",
    "for val in elec_ren['Share Renewables'].unique():\n",
    "    elec_ren.loc[elec_ren['Share Renewables']==val,'Ranking'] = i\n",
    "    i = i + 1\n",
    "\n",
    "elec_var_ren = elec_var_ren.sort_values('Share Var Renewables',ascending=False)\n",
    "i=1\n",
    "for val in elec_var_ren['Share Var Renewables'].unique():\n",
    "    elec_var_ren.loc[elec_var_ren['Share Var Renewables']==val,'Ranking'] = i\n",
    "    i = i + 1\n",
    "\n",
    "elec_ren.to_excel('Data/Decarbonization of the power sector/Share_Renewables.xlsx')\n",
    "elec_var_ren.to_excel('Data/Decarbonization of the power sector/Share_Var_Renewables.xlsx')"
   ]
  },
  {
   "cell_type": "markdown",
   "metadata": {},
   "source": [
    "#### IEA objectives Renewables - World Energy Outlook 2020 "
   ]
  },
  {
   "cell_type": "code",
   "execution_count": 328,
   "metadata": {},
   "outputs": [],
   "source": [
    "ren_IEA = pd.read_excel('Data/Decarbonization of the power sector/IEA_Projection_Electricity.xlsx')\n",
    "\n",
    "name_regions = pd.read_excel('Country_Regions.xlsx')\n",
    "name_regions  = name_regions.dropna(subset=['Region'])"
   ]
  },
  {
   "cell_type": "code",
   "execution_count": 329,
   "metadata": {},
   "outputs": [],
   "source": [
    "NA_countries = ['Canada']\n",
    "LCR_countries = [a for a in name_regions.loc[name_regions.Region=='Latin America & Caribbean','TableName'].values if a not in ['Brazil']]\n",
    "europe_countries = [a for a in name_regions.loc[name_regions.Region=='Europe & Central Asia','TableName'].values if a not in ['Armenia','Uzbekistan',\\\n",
    "    'Kazakhstan', 'Kyrgyz Republic','Tajikistan', 'Turkmenistan','Azerbaijan','Georgia','Russian Federation']]\n",
    "africa_countries = ['Morocco', 'Algeria', 'Tunisia', 'Lybia','Egypt, Arab Rep.',*name_regions.loc[name_regions.Region=='Sub-Saharan Africa','TableName'].values]\n",
    "ME_countries = ['United Arab Emirates', 'Bahrain', 'Djibouti','Iran, Islamic Rep.', 'Iraq', 'Israel','Jordan', 'Kuwait', 'Lebanon', 'Malta', 'Oman',\n",
    "       'West Bank and Gaza', 'Qatar', 'Saudi Arabia','Syrian Arab Republic', 'Yemen, Rep.']\n",
    "eurasia_countries = ['Azerbaijan','Georgia','Kazakhstan', 'Kyrgyz Republic','Tajikistan', 'Turkmenistan','Armenia','Uzbekistan']\n",
    "asia_pacific_countries = ['Afghanistan','Australia', 'Bangladesh','Korea, Rep.',\"Korea, Dem. People's Rep.\", 'Mongolia', 'Nepal', 'New Zealand','Pakistan', 'Sri Lanka']\n",
    "SEA_countries = ['Brunei Darussalam', 'Cambodia', 'Indonesia', 'Lao PDR', 'Malaysia', 'Myanmar', 'Philippines', 'Singapore', 'Thailand', 'Vietnam']"
   ]
  },
  {
   "cell_type": "code",
   "execution_count": 331,
   "metadata": {},
   "outputs": [
    {
     "name": "stderr",
     "output_type": "stream",
     "text": [
      "<ipython-input-331-ef4d2e463e9c>:38: SettingWithCopyWarning: \n",
      "A value is trying to be set on a copy of a slice from a DataFrame.\n",
      "Try using .loc[row_indexer,col_indexer] = value instead\n",
      "\n",
      "See the caveats in the documentation: https://pandas.pydata.org/pandas-docs/stable/user_guide/indexing.html#returning-a-view-versus-a-copy\n",
      "  df_c['Country Name'] = country\n"
     ]
    }
   ],
   "source": [
    "df_out = pd.DataFrame()\n",
    "small_islands = []\n",
    "for country in name_regions.TableName.unique():\n",
    "    if country=='United States':\n",
    "        region = 'United States'\n",
    "    if country=='Russian Federation':\n",
    "        region = 'Russia'\n",
    "    elif country=='China':\n",
    "        region = 'China'\n",
    "    elif country=='Japan':\n",
    "        region = 'Japan'\n",
    "    elif country=='India':\n",
    "        region = 'India'\n",
    "    elif country=='Brazil':\n",
    "        region = 'Brazil'\n",
    "    elif country=='South Africa':\n",
    "        region = 'South Africa'\n",
    "    elif country=='Canada':\n",
    "        region = 'North America'\n",
    "    elif country in LCR_countries:\n",
    "        region = 'Central and South America'\n",
    "    elif country in africa_countries:\n",
    "        region = 'Africa'\n",
    "    elif country in ME_countries:\n",
    "        region = 'Middle East'\n",
    "    elif country in eurasia_countries:\n",
    "        region = 'Eurasia'\n",
    "    elif country in asia_pacific_countries:\n",
    "        region = 'Asia Pacific'\n",
    "    elif country in SEA_countries:\n",
    "        region = 'Southeast Asia'\n",
    "    elif country in europe_countries:\n",
    "        region = 'Europe'\n",
    "    else:\n",
    "        small_islands.append(country)\n",
    "    \n",
    "    df_c = ren_IEA[ren_IEA.Region==region]\n",
    "    df_c['Country Name'] = country \n",
    "    df_out = df_out.append(df_c)\n",
    "\n",
    "df_out = df_out[~df_out['Country Name'].isin(small_islands)]\n",
    "df_out = df_out.drop(['2019.1','2030.1','2040.1','CAGR 2019-30','CAGR 2019-40'],axis=1)\n",
    "df_out = pd.DataFrame(df_out.set_index(['Region','Country Name','Type']).stack()).reset_index()\n",
    "df_out.columns = ['Region_IEA','Country Name','Type','Year','Value']\n",
    "df_out.to_excel('Data/Decarbonization of the power sector/IEA_Projection_Electricity_stack.xlsx')"
   ]
  },
  {
   "cell_type": "markdown",
   "metadata": {},
   "source": [
    "#### [Potential impact of climate change on hydropower](https://climateknowledgeportal.worldbank.org/download-data) <font color='red'> Need to define which indicator to use Annual Severe Drought Likelihood ? Period ? RCP? </font>"
   ]
  },
  {
   "cell_type": "markdown",
   "metadata": {},
   "source": [
    "#### [Energy intensity (OWID)](https://ourworldindata.org/grapher/energy-intensity?tab=chart&country=IND~IDN) can't download it from IEA"
   ]
  },
  {
   "cell_type": "code",
   "execution_count": 688,
   "metadata": {},
   "outputs": [],
   "source": [
    "ene_int = pd.read_csv('Data/Fuel shift and efficiency in use sectors/energy-intensity.csv')\n",
    "ene_int = ene_int.set_index('Code')\n",
    "ene_int['Entity'] = iso_to_wb['country']\n",
    "ene_int = ene_int.reset_index()\n",
    "ene_int.columns = ['Country Code','Country Name','Year','Energy consumption per GDP (kWh per $)']\n",
    "ene_int.to_excel('Data/Fuel shift and efficiency in use sectors/energy_intesity.xlsx')\n",
    "\n",
    "ene_int = ene_int[ene_int.Year==2016]\n",
    "ene_int = ene_int.sort_values('Energy consumption per GDP (kWh per $)')\n",
    "ene_int = ene_int.dropna()\n",
    "ene_int['Ranking'] = range(1,len(ene_int)+1)\n",
    "ene_int.to_excel('Data/Fuel shift and efficiency in use sectors/energy_intensity_2016.xlsx')\n"
   ]
  },
  {
   "cell_type": "markdown",
   "metadata": {},
   "source": [
    "### [Fossil fuel subsidies - IEA](https://www.iea.org/topics/energy-subsidies)\n",
    "\n",
    "#### Fossil fuel subsidies (consumption and production) % of GDP,  Fossil fuel subsidies, Fossil fuel subsidies (Average subsidisation rate (%)), Fossil fuel subsidies (Subsidy per capita ($/person)), Fossil fuel subsidies (Total subsidy as share of GDP (%))\n",
    "\n"
   ]
  },
  {
   "cell_type": "code",
   "execution_count": 717,
   "metadata": {},
   "outputs": [],
   "source": [
    "foss_sub = pd.read_excel('Data/Fuel shift and efficiency in use sectors/IEA-Fossil-Fuel-Subsidies-2010-2019.xlsx'\n",
    "                         ,sheet_name='Indicators by country',skiprows=3)\n",
    "\n",
    "foss_sub['Country Code'] = foss_sub['Country'].apply(lambda x: dict_map[x])\n",
    "foss_sub = foss_sub.set_index('Country Code')\n",
    "foss_sub['Country Name'] = iso_to_wb['country']\n",
    "foss_sub = foss_sub.reset_index().drop('Country',axis=1)\n",
    "\n",
    "foss_sub_av = foss_sub[['Country Code','Country Name','Average subsidisation rate (%)']]\n",
    "foss_sub_av = foss_sub_av.sort_values('Average subsidisation rate (%)')\n",
    "foss_sub_av['Ranking'] = range(1,len(foss_sub_av)+1)\n",
    "foss_sub_av['Indicator'] = 'Average subsidisation rate (%)'\n",
    "foss_sub_av.columns = ['Country Code','Country Name','Value','Ranking','Indicator']\n",
    "\n",
    "foss_sub_cap = foss_sub[['Country Code','Country Name','Subsidy per capita ($/person)']]\n",
    "foss_sub_cap = foss_sub_cap.sort_values('Subsidy per capita ($/person)')\n",
    "foss_sub_cap['Ranking'] = range(1,len(foss_sub_cap)+1)\n",
    "foss_sub_cap['Indicator'] = 'Subsidy per capita ($/person)'\n",
    "foss_sub_cap.columns = ['Country Code','Country Name','Value','Ranking','Indicator']\n",
    "\n",
    "foss_sub_GDP = foss_sub[['Country Code','Country Name','Total subsidy as share of GDP (%)']]\n",
    "foss_sub_GDP = foss_sub_GDP.sort_values('Total subsidy as share of GDP (%)')\n",
    "foss_sub_GDP['Ranking'] = range(1,len(foss_sub_GDP)+1)\n",
    "foss_sub_GDP['Indicator'] = 'Total subsidy as share of GDP (%)'\n",
    "foss_sub_GDP.columns = ['Country Code','Country Name','Value','Ranking','Indicator']\n",
    "\n",
    "foss_sub_av.append(foss_sub_GDP).append(foss_sub_cap).to_excel('Data/Fuel shift and efficiency in use sectors/IEA_Foss_Subsidies_2019.xlsx')"
   ]
  },
  {
   "cell_type": "markdown",
   "metadata": {},
   "source": [
    "#### [Fossil-fuel pre-tax subsidies (consumption and production) USD per capita - SDG DATABASE](https://country-profiles.unstatshub.org/pak#goal-8) via https://unstats-undesa.opendata.arcgis.com/datasets/28fbb152ddc74ef4ae6e20e2998f408a?geometry=156.367%2C-37.609%2C-119.610%2C63.296"
   ]
  },
  {
   "cell_type": "code",
   "execution_count": 105,
   "metadata": {},
   "outputs": [],
   "source": [
    "r = requests.get(\"https://services7.arcgis.com/gp50Ao2knMlOM89z/arcgis/rest/services/ER_FFS_PRTSPC_12_c_1_2020Q2G03/FeatureServer/0/query?where=1%3D1&outFields=*&outSR=4326&f=json\")\n",
    "x = r.json()\n",
    "foss_sub = pd.DataFrame.from_dict([x['features'][i]['attributes'] for i in range(len(x['features']))])\n",
    "foss_sub = foss_sub[['ISO3','latest_value','max_year']]\n",
    "foss_sub = foss_sub.sort_values('latest_value')\n",
    "foss_sub['Ranking'] = range(1,len(foss_sub)+1)\n",
    "foss_sub = foss_sub.set_index('ISO3')\n",
    "foss_sub['Country Name'] = iso_to_wb['country']\n",
    "foss_sub = foss_sub.reset_index()\n",
    "foss_sub.columns = ['Country Code','Value','Year','Ranking','Country Name']\n",
    "foss_sub.to_excel('Data/Fuel shift and efficiency in use sectors/Fossil_fuels_pre_tax_sub_cap.xlsx')"
   ]
  },
  {
   "cell_type": "markdown",
   "metadata": {},
   "source": [
    "### Trade - [WITS](https://wits.worldbank.org/)"
   ]
  },
  {
   "cell_type": "markdown",
   "metadata": {},
   "source": [
    "Instructions to update : \n",
    "1. Go to wits.worldbank.org\n",
    "2. Login\n",
    "3. Select Advanced Query and click on Trade Data (UN Comtrade)\n",
    "4. New query ==> Give query name and description\n",
    "5. Reporters: Select all countries\n",
    "6. Products : Nomenclature HS 1988/92,Standard Product Groups Select groups from 01-05_Animal to 90_99_Miscellaneous\n",
    "7. Partners : Select All\n",
    "8. Select most recent year\n",
    "9. Trade Flow : Gross imports & Gross exports\n",
    "10. Submit"
   ]
  },
  {
   "cell_type": "code",
   "execution_count": null,
   "metadata": {},
   "outputs": [],
   "source": [
    "df = pd.read_csv('Data/Fuel shift and efficiency in use sectors/UN_COMTRADE/DataJobID-2138343_2138343_UNComtrade.csv',engine='python')\n",
    "countries_reg = pd.read_excel('Country_Regions.xlsx')\n",
    "countries_reg = countries_reg.set_index('Country Code')\n",
    "df = df.set_index('PartnerISO3')\n",
    "df['Region'] = countries_reg['Region']\n",
    "df['Region_bis'] = df['Region'].copy()\n",
    "UE = ['Austria','Germany','Belgium','Bulgaria','Cyprus','Croatia','Denmark','Spain','Estonia','Finland',\n",
    "     'France','Greece','Hungary','Ireland','Italy','Latvia','Lithuania','Luxembourg','Malta','Netherlands',\n",
    "     'Poland','Portugal','Romania','Slovakia','Slovenia','Spain','Sweden']\n",
    "df = df.reset_index()\n",
    "df.loc[df[df.PartnerName.isin(UE)].index,'Region_bis'] = 'European Union'\n",
    "df_group = df.groupby(['ReporterISO3','ReporterName','ProductCode','Year','Region_bis','TradeFlowName']).sum()"
   ]
  },
  {
   "cell_type": "code",
   "execution_count": null,
   "metadata": {},
   "outputs": [],
   "source": [
    "df_group.reset_index().to_excel('Données/Trade_Data/Trade_data_all.xlsx')"
   ]
  },
  {
   "cell_type": "markdown",
   "metadata": {},
   "source": [
    "#### Share of national income (GDP) spent on fuel imports - WITS x WB"
   ]
  },
  {
   "cell_type": "code",
   "execution_count": 738,
   "metadata": {
    "collapsed": true,
    "jupyter": {
     "outputs_hidden": true
    }
   },
   "outputs": [
    {
     "name": "stderr",
     "output_type": "stream",
     "text": [
      "C:\\Users\\Mehdi\\anaconda3\\lib\\site-packages\\pandas\\core\\indexing.py:966: SettingWithCopyWarning: \n",
      "A value is trying to be set on a copy of a slice from a DataFrame.\n",
      "Try using .loc[row_indexer,col_indexer] = value instead\n",
      "\n",
      "See the caveats in the documentation: https://pandas.pydata.org/pandas-docs/stable/user_guide/indexing.html#returning-a-view-versus-a-copy\n",
      "  self.obj[item] = s\n"
     ]
    }
   ],
   "source": [
    "df = pd.read_csv('Data/Fuel shift and efficiency in use sectors/UN_COMTRADE/DataJobID-2138343_2138343_UNComtrade.csv',engine='python')\n",
    "df = df[df['TradeFlowName']=='Gross Imp.']\n",
    "df = df[df.ProductCode=='27-27_Fuels']\n",
    "df = 1000 * df.groupby(['ReporterISO3','ReporterName','Year']).sum()\n",
    "df = df.reset_index()\n",
    "df.columns = ['Country Code','Country Name','Year','Temp','TradeValue in USD']\n",
    "df = df.drop('Temp',axis=1)\n",
    "\n",
    "temp = df[df.Year==2018]\n",
    "temp = temp.set_index(['Country Name'])\n",
    "\n",
    "gdp = wb.download(indicator='NY.GDP.MKTP.CD',country='all',start=1990,end=2020)\n",
    "gdp = gdp.reset_index().dropna()\n",
    "gdp.columns = ['Country Name','Year','GDP']\n",
    "gdp = gdp.set_index(['Country Name'])\n",
    "gdp = gdp[gdp.Year=='2018']\n",
    "\n",
    "temp = df[df.Year==2018]\n",
    "temp.loc[temp['Country Code']=='ZAR','Country Code'] = 'COD'\n",
    "temp = temp.set_index('Country Code')\n",
    "temp['Country Name'] = iso_to_wb['country']\n",
    "temp = temp.reset_index().set_index('Country Name')\n",
    "temp['GDP'] = gdp['GDP']\n",
    "temp = temp.dropna()\n",
    "temp['Share_fuel_imports_GDP'] = temp['TradeValue in USD'] / temp['GDP']\n",
    "\n",
    "temp = temp.reset_index()\n",
    "\n",
    "temp_abs = temp[['Country Name','Country Code','TradeValue in USD']]\n",
    "temp_abs = temp_abs.sort_values('TradeValue in USD')\n",
    "temp_abs['Ranking'] = range(1,len(temp_abs)+1)\n",
    "temp_abs['Indicator'] = 'Fuel Imports ($)'\n",
    "temp_abs.columns = ['Country Name','Country Code','Value','Ranking','Indicator']\n",
    "\n",
    "temp_GDP = temp[['Country Name','Country Code','Share_fuel_imports_GDP']]\n",
    "temp_GDP = temp_GDP.sort_values('Share_fuel_imports_GDP')\n",
    "temp_GDP['Ranking'] = range(1,len(temp_GDP)+1)\n",
    "temp_GDP['Indicator'] = 'Fuel Imports as share of GDP (%)'\n",
    "temp_GDP.columns = ['Country Name','Country Code','Value','Ranking','Indicator']\n",
    "\n",
    "temp_GDP.append(temp_abs).to_excel('Data/Fuel shift and efficiency in use sectors/Share_Fuels_Imports_GDP.xlsx')\n",
    "# temp.reset_index().to_excel('Data/Fuel shift and efficiency in use sectors/Share_Imports_GDP.xlsx')"
   ]
  },
  {
   "cell_type": "markdown",
   "metadata": {},
   "source": [
    "#### Global Coal Power Capacity - [Download link](https://globalenergymonitor.org/projects/global-coal-plant-tracker/dashboard/)\n",
    "**Download Dashboard and then Data**"
   ]
  },
  {
   "cell_type": "markdown",
   "metadata": {},
   "source": [
    "#### Total Operating capacity"
   ]
  },
  {
   "cell_type": "code",
   "execution_count": 84,
   "metadata": {},
   "outputs": [],
   "source": [
    "cap = pd.read_csv('Data/Decarbonization of the power sector/Total_Capacity.csv')\n",
    "cap = cap[cap.Country!='Kosovo']\n",
    "cap['Country Code'] = cap['Country'].apply(lambda x: dict_map[x])\n",
    "\n",
    "cap = cap.set_index('Country Code')\n",
    "cap['Country Name'] = iso_to_wb['country']\n",
    "cap = cap.reset_index().drop('Country',axis=1)\n",
    "\n",
    "cap.to_excel('Data/Decarbonization of the power sector/Total_Capacity.xlsx')"
   ]
  },
  {
   "cell_type": "markdown",
   "metadata": {},
   "source": [
    "#### Operating Coal Power by Plant Age and Type\n"
   ]
  },
  {
   "cell_type": "code",
   "execution_count": 155,
   "metadata": {},
   "outputs": [],
   "source": [
    "coal_age_op = pd.read_csv('Data/Decarbonization of the power sector/Coal_Plant_type_Plant_type_and_age_data.csv')\n",
    "coal_age_op = coal_age_op[coal_age_op['Country (Plant type and age)']!='Kosovo']\n",
    "coal_age_op['Country Code'] = coal_age_op['Country (Plant type and age)'].apply(lambda x:dict_map[x])\n",
    "coal_age_op = coal_age_op.set_index('Country Code')\n",
    "coal_age_op['Country Name'] = iso_to_wb['country']\n",
    "coal_age_op = coal_age_op.reset_index()\n",
    "coal_age_op.to_excel('Data/Decarbonization of the power sector/Coal_Plant_type_Plant_type_and_age_data.xlsx')"
   ]
  },
  {
   "cell_type": "markdown",
   "metadata": {},
   "source": [
    "#### Capacity by plant status"
   ]
  },
  {
   "cell_type": "code",
   "execution_count": 104,
   "metadata": {},
   "outputs": [],
   "source": [
    "cap_stat = pd.read_csv('Data/Decarbonization of the power sector/Capacity_Plant_Status.csv')"
   ]
  },
  {
   "cell_type": "code",
   "execution_count": 105,
   "metadata": {},
   "outputs": [],
   "source": [
    "cap_stat = cap_stat[cap_stat['Country (2014-2020)']!='Kosovo']\n",
    "cap_stat['Country Code'] = cap_stat['Country (2014-2020)'].apply(lambda x: dict_map[x])\n",
    "\n",
    "cap_stat = cap_stat.set_index('Country Code')\n",
    "cap_stat['Country Name'] = iso_to_wb['country']\n",
    "cap_stat = cap_stat.reset_index().drop('Country (2014-2020)',axis=1)\n",
    "\n",
    "cap_stat.to_excel('Data/Decarbonization of the power sector/Capacity_Plant_Status.xlsx')"
   ]
  },
  {
   "cell_type": "markdown",
   "metadata": {},
   "source": [
    "#### Net Change Coal Capacity"
   ]
  },
  {
   "cell_type": "code",
   "execution_count": 110,
   "metadata": {},
   "outputs": [],
   "source": [
    "net_change = pd.read_csv('Data/Decarbonization of the power sector/Net_Change_Coal_Capacity.csv')\n",
    "net_change = net_change[net_change['Country (2000-2020)']!='Kosovo']\n",
    "net_change['Country Code'] = net_change['Country (2000-2020)'].apply(lambda x: dict_map[x])\n",
    "\n",
    "net_change = net_change.set_index('Country Code')\n",
    "net_change['Country Name'] = iso_to_wb['country']\n",
    "net_change = net_change.reset_index().drop('Country (2000-2020)',axis=1)\n",
    "\n",
    "net_change.to_excel('Data/Decarbonization of the power sector/Net_Change_Coal_Capacity.xlsx')"
   ]
  },
  {
   "cell_type": "markdown",
   "metadata": {},
   "source": [
    "#### [Coal Lifetime Emissions](https://globalenergymonitor.org/projects/global-coal-plant-tracker/summary-data/)"
   ]
  },
  {
   "cell_type": "code",
   "execution_count": 122,
   "metadata": {},
   "outputs": [],
   "source": [
    "coal_em = pd.read_excel('Data/Decarbonization of the power sector/Coal_Lifetime_Emissions.xlsx')\n",
    "\n",
    "coal_em = coal_em[~coal_em.Country.isin(['Kosovo','Total'])]\n",
    "coal_em['Country Code'] = coal_em['Country'].apply(lambda x: dict_map[x])\n",
    "\n",
    "coal_em = coal_em.set_index('Country Code')\n",
    "coal_em['Country Name'] = iso_to_wb['country']\n",
    "coal_em = coal_em.reset_index().drop('Country',axis=1)\n",
    "coal_em = pd.DataFrame(coal_em.set_index(['Country Code','Country Name']).stack()).reset_index()\n",
    "coal_em.columns = ['Country Code', 'Country Name', 'Type', 'Value']\n",
    "\n",
    "coal_em.to_excel('Data/Decarbonization of the power sector/Coal_Lifetime_Emissions_stack.xlsx')"
   ]
  },
  {
   "cell_type": "markdown",
   "metadata": {},
   "source": [
    "#### [Coal Production per country](https://globalenergymonitor.org/projects/global-coal-mine-tracker/summary-data/)"
   ]
  },
  {
   "cell_type": "code",
   "execution_count": 134,
   "metadata": {},
   "outputs": [],
   "source": [
    "coal_prod = pd.read_excel('Data/Decarbonization of the power sector/Coal_production_country.xlsx')\n",
    "coal_prod = coal_prod[~coal_prod.Country.isin(['Kosovo','Total'])]\n",
    "\n",
    "coal_prod['Country Code'] = coal_prod['Country'].apply(lambda x: dict_map[x])\n",
    "\n",
    "coal_prod = coal_prod.set_index('Country Code')\n",
    "coal_prod['Country Name'] = iso_to_wb['country']\n",
    "coal_prod = coal_prod.reset_index().drop('Country',axis=1)\n",
    "coal_prod = pd.DataFrame(coal_prod.set_index(['Country Code','Country Name']).stack()).reset_index()\n",
    "coal_prod.columns = ['Country Code', 'Country Name', 'Type', 'Value']\n",
    "\n",
    "coal_prod.to_excel('Data/Decarbonization of the power sector/Coal_production_country_stack.xlsx')"
   ]
  },
  {
   "cell_type": "markdown",
   "metadata": {},
   "source": [
    "#### [Proposed Coal Mines GHG emissions](https://globalenergymonitor.org/projects/global-coal-mine-tracker/summary-data/)"
   ]
  },
  {
   "cell_type": "code",
   "execution_count": 148,
   "metadata": {},
   "outputs": [],
   "source": [
    "ghg_mines_pro = pd.read_excel('Data/Decarbonization of the power sector/GHG_emissions_Proposed_mines.xlsx')"
   ]
  },
  {
   "cell_type": "code",
   "execution_count": 149,
   "metadata": {},
   "outputs": [],
   "source": [
    "ghg_mines_pro = ghg_mines_pro[~ghg_mines_pro.Country.isin(['Kosovo','Total'])]\n",
    "\n",
    "ghg_mines_pro['Country Code'] = ghg_mines_pro['Country'].apply(lambda x: dict_map[x])\n",
    "\n",
    "ghg_mines_pro = ghg_mines_pro.set_index('Country Code')\n",
    "ghg_mines_pro['Country Name'] = iso_to_wb['country']\n",
    "ghg_mines_pro = ghg_mines_pro.reset_index().drop('Country',axis=1)\n",
    "ghg_mines_pro = pd.DataFrame(ghg_mines_pro.set_index(['Country Code','Country Name']).stack()).reset_index()\n",
    "ghg_mines_pro.columns = ['Country Code', 'Country Name', 'Type', 'Value']\n",
    "\n",
    "ghg_mines_pro.to_excel('Data/Decarbonization of the power sector/GHG_emissions_Proposed_mines_stack.xlsx')"
   ]
  },
  {
   "cell_type": "markdown",
   "metadata": {},
   "source": [
    "#### [Operating Coal Mines GHG emissions](https://globalenergymonitor.org/projects/global-coal-mine-tracker/summary-data/)"
   ]
  },
  {
   "cell_type": "code",
   "execution_count": 150,
   "metadata": {},
   "outputs": [],
   "source": [
    "ghg_mines_op = pd.read_excel('Data/Decarbonization of the power sector/GHG_emissions_Operating_mines.xlsx')"
   ]
  },
  {
   "cell_type": "code",
   "execution_count": 151,
   "metadata": {},
   "outputs": [],
   "source": [
    "ghg_mines_op = ghg_mines_op[~ghg_mines_op.Country.isin(['Kosovo','Total'])]\n",
    "\n",
    "ghg_mines_op['Country Code'] = ghg_mines_op['Country'].apply(lambda x: dict_map[x])\n",
    "\n",
    "ghg_mines_op = ghg_mines_op.set_index('Country Code')\n",
    "ghg_mines_op['Country Name'] = iso_to_wb['country']\n",
    "ghg_mines_op = ghg_mines_op.reset_index().drop('Country',axis=1)\n",
    "ghg_mines_op = pd.DataFrame(ghg_mines_op.set_index(['Country Code','Country Name']).stack()).reset_index()\n",
    "ghg_mines_op.columns = ['Country Code', 'Country Name', 'Type', 'Value']\n",
    "\n",
    "ghg_mines_op.to_excel('Data/Decarbonization of the power sector/GHG_emissions_Operating_mines_stack.xlsx')"
   ]
  },
  {
   "cell_type": "markdown",
   "metadata": {},
   "source": [
    "#### [Gas Pipeline Capacity](https://globalenergymonitor.org/projects/global-fossil-infrastructure-tracker/summary-data/)"
   ]
  },
  {
   "cell_type": "code",
   "execution_count": 180,
   "metadata": {},
   "outputs": [],
   "source": [
    "gas_pipe = pd.read_excel('Data/Decarbonization of the power sector/Gas_Pipeline_Capacity.xlsx')"
   ]
  },
  {
   "cell_type": "code",
   "execution_count": 181,
   "metadata": {},
   "outputs": [],
   "source": [
    "gas_pipe = gas_pipe[~gas_pipe.Country.isin(['Scotland','Saint Marino','Kosovo','Total','England','FYROM','Joint Petroleum Development Area'])]\n",
    "\n",
    "gas_pipe['Country Code'] = gas_pipe['Country'].apply(lambda x: dict_map[x])\n",
    "\n",
    "gas_pipe = gas_pipe.set_index('Country Code')\n",
    "gas_pipe['Country Name'] = iso_to_wb['country']\n",
    "gas_pipe = gas_pipe.reset_index().drop('Country',axis=1)\n",
    "gas_pipe = pd.DataFrame(gas_pipe.set_index(['Country Code','Country Name']).stack()).reset_index()\n",
    "gas_pipe.columns = ['Country Code', 'Country Name', 'Type', 'Value']\n",
    "gas_pipe.to_excel('Data/Decarbonization of the power sector/Gas_Pipeline_Capacity_stack.xlsx')"
   ]
  },
  {
   "cell_type": "markdown",
   "metadata": {},
   "source": [
    "#### [Oil Pipeline Capacity](https://globalenergymonitor.org/projects/global-fossil-infrastructure-tracker/summary-data/)"
   ]
  },
  {
   "cell_type": "code",
   "execution_count": 187,
   "metadata": {},
   "outputs": [],
   "source": [
    "oil_pipe = pd.read_excel('Data/Decarbonization of the power sector/Oil_Pipeline_Capacity.xlsx')\n",
    "\n",
    "oil_pipe = oil_pipe[~oil_pipe.Country.isin(['Disputed Western Sahara/Mauritania','Joint development area Australia/East Timor',\n",
    "    'Scotland','Saint Marino','Kosovo','Total','England','FYROM','Joint Petroleum Development Area'])]\n",
    "\n",
    "oil_pipe['Country Code'] = oil_pipe['Country'].apply(lambda x: dict_map[x])\n",
    "\n",
    "oil_pipe = oil_pipe.set_index('Country Code')\n",
    "oil_pipe['Country Name'] = iso_to_wb['country']\n",
    "oil_pipe = oil_pipe.reset_index().drop('Country',axis=1)\n",
    "oil_pipe = pd.DataFrame(oil_pipe.set_index(['Country Code','Country Name']).stack()).reset_index()\n",
    "oil_pipe.columns = ['Country Code', 'Country Name', 'Type', 'Value']\n",
    "oil_pipe.to_excel('Data/Decarbonization of the power sector/Oil_Pipeline_Capacity_stack.xlsx')"
   ]
  },
  {
   "cell_type": "markdown",
   "metadata": {},
   "source": [
    "#### [LNG Exports Capacity](https://globalenergymonitor.org/projects/global-fossil-infrastructure-tracker/summary-data/)"
   ]
  },
  {
   "cell_type": "code",
   "execution_count": 194,
   "metadata": {},
   "outputs": [],
   "source": [
    "lng_exp = pd.read_excel('Data/Decarbonization of the power sector/Capacity_LNG_Export.xlsx')"
   ]
  },
  {
   "cell_type": "code",
   "execution_count": 195,
   "metadata": {},
   "outputs": [],
   "source": [
    "lng_exp = lng_exp[~lng_exp.Country.isin(['Disputed Western Sahara/Mauritania','Joint development area Australia/East Timor',\n",
    "    'Scotland','Saint Marino','Kosovo','Total','England','FYROM','Joint Petroleum Development Area'])]\n",
    "\n",
    "lng_exp['Country Code'] = lng_exp['Country'].apply(lambda x: dict_map[x])\n",
    "\n",
    "lng_exp = lng_exp.set_index('Country Code')\n",
    "lng_exp['Country Name'] = iso_to_wb['country']\n",
    "lng_exp = lng_exp.reset_index().drop('Country',axis=1)\n",
    "lng_exp = pd.DataFrame(lng_exp.set_index(['Country Code','Country Name']).stack()).reset_index()\n",
    "lng_exp.columns = ['Country Code', 'Country Name', 'Type', 'Value']\n",
    "lng_exp.to_excel('Data/Decarbonization of the power sector/Capacity_LNG_Export_stack.xlsx')"
   ]
  },
  {
   "cell_type": "markdown",
   "metadata": {},
   "source": [
    "#### [LNG Imports Capacity](https://globalenergymonitor.org/projects/global-fossil-infrastructure-tracker/summary-data/)"
   ]
  },
  {
   "cell_type": "code",
   "execution_count": 197,
   "metadata": {},
   "outputs": [],
   "source": [
    "lng_imp = pd.read_excel('Data/Decarbonization of the power sector/Capacity_LNG_Imports.xlsx')"
   ]
  },
  {
   "cell_type": "code",
   "execution_count": 198,
   "metadata": {},
   "outputs": [],
   "source": [
    "lng_imp = lng_imp[~lng_imp.Country.isin(['Disputed Western Sahara/Mauritania','Joint development area Australia/East Timor',\n",
    "    'Scotland','Saint Marino','Kosovo','Total','England','FYROM','Joint Petroleum Development Area'])]\n",
    "\n",
    "lng_imp['Country Code'] = lng_imp['Country'].apply(lambda x: dict_map[x])\n",
    "\n",
    "lng_imp = lng_imp.set_index('Country Code')\n",
    "lng_imp['Country Name'] = iso_to_wb['country']\n",
    "lng_imp = lng_imp.reset_index().drop('Country',axis=1)\n",
    "lng_imp = pd.DataFrame(lng_imp.set_index(['Country Code','Country Name']).stack()).reset_index()\n",
    "lng_imp.columns = ['Country Code', 'Country Name', 'Type', 'Value']\n",
    "lng_imp.to_excel('Data/Decarbonization of the power sector/Capacity_LNG_Imports_stack.xlsx')"
   ]
  },
  {
   "cell_type": "markdown",
   "metadata": {},
   "source": [
    "#### [Steelmaking Capacity](https://globalenergymonitor.org/projects/global-steel-plant-tracker/dashboard/)"
   ]
  },
  {
   "cell_type": "code",
   "execution_count": 109,
   "metadata": {},
   "outputs": [],
   "source": [
    "steel = pd.read_excel('Data/Decarbonization of the power sector/Steelmaking Capacity.xlsx')\n",
    "\n",
    "steel['ISO'] = steel['Country'].apply(lambda x:dict_map[x])\n",
    "steel = steel.set_index('ISO')\n",
    "steel['Country Name'] = iso_to_wb['country']\n",
    "steel.to_excel('Data/Decarbonization of the power sector/Steelmaking Capacity 2.xlsx')"
   ]
  },
  {
   "cell_type": "markdown",
   "metadata": {},
   "source": [
    "####  <font color='red'>Fuel consumption in transport </font> Missing"
   ]
  },
  {
   "cell_type": "markdown",
   "metadata": {},
   "source": [
    "####  <font color='red'>Fraction of biofuel in liquid fuel</font> Missing \n"
   ]
  },
  {
   "cell_type": "markdown",
   "metadata": {},
   "source": [
    "####  <font color='red'>Amount of freight transported</font>  [Access](https://data.oecd.org/transport/freight-transport.htm) Only OECD Countries\n"
   ]
  },
  {
   "cell_type": "markdown",
   "metadata": {},
   "source": [
    "#### [Freight volume by road transport](https://unstats-undesa.opendata.arcgis.com/datasets/4a5d7189e27148c48f045729ef9e40c8) via https://country-profiles.unstatshub.org/pak#goal-8\n"
   ]
  },
  {
   "cell_type": "code",
   "execution_count": 175,
   "metadata": {},
   "outputs": [],
   "source": [
    "r = requests.get(\"https://services7.arcgis.com/gp50Ao2knMlOM89z/arcgis/rest/services/IS_RDP_FRGVOL_9_1_2_2020Q2G03/FeatureServer/0/query?where=1%3D1&outFields=*&outSR=4326&f=json\")\n",
    "x = r.json()\n",
    "freight = pd.DataFrame.from_dict([x['features'][i]['attributes'] for i in range(len(x['features']))])\n",
    "freight = freight[['ISO3','modeOfTransportation_desc','latest_value','max_year']]\n",
    "freight = freight.set_index('ISO3')\n",
    "freight['Country Name'] = iso_to_wb['country']\n",
    "\n",
    "freight.reset_index().to_excel('Data/Fuel shift and efficiency in use sectors/Freight_volume_mode.xlsx')"
   ]
  },
  {
   "cell_type": "markdown",
   "metadata": {},
   "source": [
    "#### <font color='red'>Mileage per ton of freight transports</font>   Missing global coverage data"
   ]
  },
  {
   "cell_type": "markdown",
   "metadata": {},
   "source": [
    "#### [Passenger volume by air transport ](https://unstats-undesa.opendata.arcgis.com/datasets/3ed49ad9c9c14694a4b294d01f34d786) via https://country-profiles.unstatshub.org/pak#goal-8\n"
   ]
  },
  {
   "cell_type": "code",
   "execution_count": 176,
   "metadata": {},
   "outputs": [],
   "source": [
    "r = requests.get(\"https://services7.arcgis.com/gp50Ao2knMlOM89z/arcgis/rest/services/IS_RDP_PFVOL_9_1_2_2020Q2G03/FeatureServer/0/query?where=1%3D1&outFields=*&outSR=4326&f=json\")\n",
    "x = r.json()\n",
    "\n",
    "passenger = pd.DataFrame.from_dict([x['features'][i]['attributes'] for i in range(len(x['features']))])\n",
    "passenger = passenger[['ISO3','modeOfTransportation_desc','latest_value','max_year']]\n",
    "\n",
    "passenger = passenger.set_index('ISO3')\n",
    "passenger['Country Name'] = iso_to_wb['country']\n",
    "\n",
    "passenger.reset_index().to_excel('Data/Fuel shift and efficiency in use sectors/Passenger_volume_mode.xlsx')"
   ]
  },
  {
   "cell_type": "markdown",
   "metadata": {},
   "source": [
    "#### <font color='red'>Carbon intensity of buildings</font>\n"
   ]
  },
  {
   "cell_type": "markdown",
   "metadata": {},
   "source": [
    "#### [Share of the population living in informal settlment](https://unstats-undesa.opendata.arcgis.com/datasets/a21a213e9b4744dd8b53b173ccffd886) via https://country-profiles.unstatshub.org/pak#goal-8 \n",
    "\n",
    "Warning : some countries have same value \n"
   ]
  },
  {
   "cell_type": "code",
   "execution_count": 158,
   "metadata": {},
   "outputs": [],
   "source": [
    "r = requests.get(\"https://services7.arcgis.com/gp50Ao2knMlOM89z/arcgis/rest/services/EN_LND_SLUM_11_1_1_2020Q2G03/FeatureServer/0/query?where=1%3D1&outFields=*&outSR=4326&f=json\")\n",
    "x = r.json()\n",
    "\n",
    "pop_set = pd.DataFrame.from_dict([x['features'][i]['attributes'] for i in range(len(x['features']))])"
   ]
  },
  {
   "cell_type": "code",
   "execution_count": 165,
   "metadata": {},
   "outputs": [],
   "source": [
    "r = requests.get(\"https://services7.arcgis.com/gp50Ao2knMlOM89z/arcgis/rest/services/EN_LND_SLUM_11_1_1_2020Q2G03/FeatureServer/0/query?where=1%3D1&outFields=*&outSR=4326&f=json\")\n",
    "x = r.json()\n",
    "\n",
    "pop_set = pd.DataFrame.from_dict([x['features'][i]['attributes'] for i in range(len(x['features']))])\n",
    "\n",
    "pop_set = pop_set[['ISO3','latest_value','max_year']]\n",
    "pop_set = pop_set.set_index('ISO3')\n",
    "pop_set['Country Name'] = iso_to_wb['country']\n",
    "pop_set = pop_set.sort_values('latest_value')\n",
    "pop_set = pop_set.dropna()\n",
    "i=1\n",
    "for val in pop_set['latest_value'].unique():\n",
    "    pop_set.loc[pop_set['latest_value']==val,'Ranking'] = i\n",
    "    i = i + 1\n",
    "\n",
    "pop_set = pop_set.reset_index()\n",
    "pop_set.columns = ['Country Code','Value','Year','Country Name','Ranking']\n",
    "pop_set.to_excel('Data/Social Profile/Population_living_informal_settlement.xlsx')"
   ]
  },
  {
   "cell_type": "markdown",
   "metadata": {},
   "source": [
    "#### [Energy, post-tax subsidies, Energy, post-tax subsidies, Energy, post-tax subsidies, per capita](https://www.imf.org/~/media/Files/Publications/WP/2019/WPIEA2019089.ashx) "
   ]
  },
  {
   "cell_type": "markdown",
   "metadata": {},
   "source": [
    "#### <font color='red'>Carbon intensity of cement</font> Can't find data [here](https://www.iea.org/data-and-statistics/charts/direct-co2-intensity-of-cement-in-the-sustainable-development-scenario-2014-2030)\n"
   ]
  },
  {
   "cell_type": "markdown",
   "metadata": {},
   "source": [
    "#### [Proportion of terrestrial key biodiversity areas (KBAs) covered by protected areas](https://unstats-undesa.opendata.arcgis.com/datasets/0e15b1f426814c88b656233c733ac456) via https://country-profiles.unstatshub.org/pak#goal-8"
   ]
  },
  {
   "cell_type": "code",
   "execution_count": 180,
   "metadata": {},
   "outputs": [],
   "source": [
    "r = requests.get(\"https://services7.arcgis.com/gp50Ao2knMlOM89z/arcgis/rest/services/ER_PTD_TERRS_15_1_2_2020Q2G03/FeatureServer/0/query?where=1%3D1&outFields=*&outSR=4326&f=json\")\n",
    "x = r.json()\n",
    "\n",
    "ter_KBA = pd.DataFrame.from_dict([x['features'][i]['attributes'] for i in range(len(x['features']))])\n",
    "\n",
    "ter_KBA = ter_KBA[['ISO3','latest_value','max_year']]\n",
    "ter_KBA = ter_KBA.set_index(['ISO3'])\n",
    "ter_KBA['Country Name'] = iso_to_wb['country']\n",
    "ter_KBA = ter_KBA.reset_index()\n",
    "ter_KBA = ter_KBA.dropna()\n",
    "ter_KBA = ter_KBA.sort_values('latest_value',ascending=False)\n",
    "i=1\n",
    "for val in ter_KBA['latest_value'].unique():\n",
    "    ter_KBA.loc[ter_KBA['latest_value']==val,'Ranking'] = i\n",
    "    i = i + 1\n",
    "\n",
    "ter_KBA.to_excel('Data/Food, land-use and natural sink/Ter_KBA_proportion.xlsx')"
   ]
  },
  {
   "cell_type": "markdown",
   "metadata": {},
   "source": [
    "#### [Proportion of freshwater key biodiversity areas (KBAs) covered by protected areas](https://unstats-undesa.opendata.arcgis.com/datasets/92dd1f2e6b87403cba549c858fa8a913) via https://country-profiles.unstatshub.org/pak#goal-8\n"
   ]
  },
  {
   "cell_type": "code",
   "execution_count": 181,
   "metadata": {},
   "outputs": [],
   "source": [
    "r = requests.get(\"https://services7.arcgis.com/gp50Ao2knMlOM89z/arcgis/rest/services/ER_PTD_FRWRT_15_1_2_2020Q2G03/FeatureServer/0/query?where=1%3D1&outFields=*&outSR=4326&f=json\")\n",
    "x = r.json()\n",
    "\n",
    "fre_KBA = pd.DataFrame.from_dict([x['features'][i]['attributes'] for i in range(len(x['features']))])\n",
    "fre_KBA = fre_KBA[['ISO3','latest_value','max_year']]\n",
    "fre_KBA = fre_KBA.set_index(['ISO3'])\n",
    "fre_KBA['Country Name'] = iso_to_wb['country']\n",
    "fre_KBA = fre_KBA.reset_index()\n",
    "fre_KBA = fre_KBA.dropna()\n",
    "fre_KBA = fre_KBA.sort_values('latest_value',ascending=False)\n",
    "i=1\n",
    "for val in fre_KBA['latest_value'].unique():\n",
    "    fre_KBA.loc[fre_KBA['latest_value']==val,'Ranking'] = i\n",
    "    i = i + 1\n",
    "\n",
    "fre_KBA.to_excel('Data/Food, land-use and natural sink/Fresh_KBA_proportion.xlsx')"
   ]
  },
  {
   "cell_type": "markdown",
   "metadata": {},
   "source": [
    "#### [Share of surface occupied by forest](https://unstats-undesa.opendata.arcgis.com/datasets/4787e933dac34421b4b11427a0b78fbe) via https://country-profiles.unstatshub.org/pak#goal-8 \n",
    "\n",
    "& Annual change in forest cover (Mean annual growth between 2000-2020)"
   ]
  },
  {
   "cell_type": "code",
   "execution_count": 168,
   "metadata": {},
   "outputs": [],
   "source": [
    "r = requests.get(\"https://services7.arcgis.com/gp50Ao2knMlOM89z/arcgis/rest/services/AG_LND_FRST_15_1_1_2020Q2G03/FeatureServer/0/query?where=1%3D1&outFields=*&outSR=4326&f=json\")\n",
    "x = r.json()\n",
    "\n",
    "forest = pd.DataFrame.from_dict([x['features'][i]['attributes'] for i in range(len(x['features']))])\n",
    "\n",
    "forest = pd.read_csv('Data/Food, land-use and natural sink/Forest_area_as_a_proportion_of_total_land_area_percent_.csv')\n",
    "forest = forest.set_index('ISO3')\n",
    "forest['Country Name'] = iso_to_wb['country']\n",
    "forest = forest.reset_index()\n",
    "evo_forest = forest[['ISO3','Country Name','value_2000', 'value_2010', 'value_2015',\n",
    "       'value_2016', 'value_2017', 'value_2018', 'value_2019', 'value_2020']]\n",
    "evo_forest = pd.DataFrame(evo_forest.set_index(['ISO3','Country Name']).stack()).reset_index()\n",
    "evo_forest.columns = ['ISO3','Country Name','Year','Value']\n",
    "evo_forest['Year'] = evo_forest['Year'].apply(lambda x :x[-4:]).astype(int)\n",
    "evo_forest.to_excel('Data/Food, land-use and natural sink/evo_forest.xlsx')\n",
    "\n",
    "forest = forest[['ISO3','value_2000','value_2020']]\n",
    "forest['Annual_Change'] = (forest['value_2020'] - forest['value_2000'])/20\n",
    "forest = forest.dropna()\n",
    "forest = forest.sort_values('Annual_Change',ascending=False)\n",
    "forest['Ranking'] = range(1,len(forest)+1)\n",
    "\n",
    "forest.reset_index().to_excel('Data/Food, land-use and natural sink/forest_cover_change.xlsx')"
   ]
  },
  {
   "cell_type": "markdown",
   "metadata": {},
   "source": [
    "#### Annual change in agricultural land"
   ]
  },
  {
   "cell_type": "code",
   "execution_count": 310,
   "metadata": {},
   "outputs": [],
   "source": [
    "share_ag_land = wb.download(indicator='AG.LND.AGRI.ZS',country='all',start=2000,end=2020)\n",
    "share_ag_land = share_ag_land.reset_index().dropna()\n",
    "share_ag_land.columns = ['Country Name','Year','Share of ag land (%)']\n"
   ]
  },
  {
   "cell_type": "markdown",
   "metadata": {},
   "source": [
    "#### [Yields](http://www.fao.org/faostat/en/#data/QC)\n",
    "Need to define :\n",
    "\n",
    "Rice : Rice,paddy or Rice, paddy (milled equivalent)\n",
    "\n",
    "Maize : Maize or Maize,green"
   ]
  },
  {
   "cell_type": "markdown",
   "metadata": {},
   "source": [
    "#### [N application](http://www.fao.org/faostat/en/#data/RFN) and [Area Harvested](http://www.fao.org/faostat/en/#data/QC)\n"
   ]
  },
  {
   "cell_type": "code",
   "execution_count": 139,
   "metadata": {},
   "outputs": [],
   "source": [
    "n_app = pd.read_csv('Data/Food, land-use and natural sink/N_application.csv')\n",
    "area_harv = pd.read_csv('Data/Food, land-use and natural sink/Area_harvested.csv')\n",
    "area_harv = area_harv.groupby(['Area','Unit','Year']).sum()[['Value']].reset_index().set_index('Area')\n",
    "\n",
    "n_app = n_app[n_app.Year==2018].set_index('Area')\n",
    "area_harv = area_harv[area_harv.Year==2018]\n",
    "area_harv['N_application (tons)'] = n_app['Value']\n",
    "\n",
    "area_harv['N Application per ha'] = 1000 * area_harv['N_application (tons)'] / area_harv['Value']\n",
    "area_harv['Unit'] = 'kg per ha'\n",
    "\n",
    "area_harv.columns = ['Unit','Year','Area(ha)','N_application (tons)','N Application per ha']\n",
    "area_harv = area_harv.reset_index()\n",
    "area_harv['ISO'] = area_harv['Area'].apply(lambda x: dict_map[x])\n",
    "\n",
    "area_harv = area_harv.set_index('ISO')\n",
    "area_harv['Country Name'] = iso_to_wb['country']\n",
    "\n",
    "area_harv.reset_index().to_excel('Data/Food, land-use and natural sink/N_application_per_ha.xlsx')"
   ]
  },
  {
   "cell_type": "markdown",
   "metadata": {},
   "source": [
    "#### [Offshore wind potential](https://esmap.org/offshore-wind) "
   ]
  },
  {
   "cell_type": "code",
   "execution_count": null,
   "metadata": {},
   "outputs": [],
   "source": [
    "wind = pd.read_excel('Data/Decarbonization of the power sector/technicalpotential_countrylevel_wbg_esmap.xlsx')\n",
    "wind = wind.loc[~pd.isna(wind['Sovereign']), :]\n",
    "wind['Sovereign'] = wind['Sovereign'].apply(lambda x : map_country(x,dict_map))\n",
    "wind = wind.set_index('Sovereign')\n",
    "\n",
    "countries = pd.read_excel('Country_Regions.xlsx')\n",
    "countries = countries.set_index('TableName')\n",
    "wind['Territory'] = iso_to_wb['country']\n",
    "wind = wind.fillna(0)\n",
    "wind['Total Potential GW'] = wind['Potential Fixed Foundations [GW]'] + wind['Potential Floating Foundations [GW]']\n",
    "wind = wind.reset_index().groupby(['Sovereign','Territory']).sum()\n",
    "wind = wind.reset_index().set_index('Sovereign')\n",
    "\n",
    "pop = pd.read_excel('Data/Social Profile/population.xlsx')\n",
    "pop = pop.drop(['Indicator Name','Indicator Code'],axis=1)\n",
    "pop = pd.DataFrame(pop.set_index(['Country Name','Country Code']).stack())\n",
    "pop = pop.reset_index()\n",
    "pop.columns = ['Country Name','Country Code','Year','Population']\n",
    "pop = pop[pop.Year=='2019']\n",
    "pop = pop.set_index('Country Code')\n",
    "\n",
    "wind['Population'] = pop['Population']\n",
    "wind['Potential per capita (kW/cap)'] = 10**6*wind['Total Potential GW'] / wind['Population']\n",
    "wind = wind.reset_index()\n",
    "\n",
    "wind_tot = wind[['Sovereign','Territory','Total Potential GW']].sort_values('Total Potential GW',ascending=False)\n",
    "wind_tot = wind_tot.dropna()\n",
    "wind_tot['Ranking'] = range(1,len(wind_tot)+1)\n",
    "wind_tot['Indicator'] = 'Total Potential GW'\n",
    "wind_tot.columns = ['Country Code','Country Name','Value','Ranking','Indicator']\n",
    "\n",
    "wind_cap = wind[['Sovereign','Territory','Potential per capita (kW/cap)']].sort_values('Potential per capita (kW/cap)',ascending=False)\n",
    "wind_cap = wind_cap.dropna()\n",
    "wind_cap['Ranking'] = range(1,len(wind_cap)+1)\n",
    "wind_cap['Indicator'] = 'Potential per capita (kW/cap)'\n",
    "wind_cap.columns = ['Country Code','Country Name','Value','Ranking','Indicator']\n",
    "wind_cap = wind_cap.append(wind_tot)\n",
    "\n",
    "wind_cap.to_excel('Data/Decarbonization of the power sector/Wind_Potential_ESMAP.xlsx')"
   ]
  },
  {
   "cell_type": "markdown",
   "metadata": {},
   "source": [
    "#### [Solar Potential](https://globalsolaratlas.info/map)"
   ]
  },
  {
   "cell_type": "code",
   "execution_count": 16,
   "metadata": {},
   "outputs": [],
   "source": [
    "solar = pd.read_excel('Data/Decarbonization of the power sector/Solar_Potential.xlsx',sheet_name='Country indicators'\n",
    "                      ,skiprows=1)\n",
    "solar = solar.set_index('ISO_A3')\n",
    "solar['Country Name'] = iso_to_wb['country']\n",
    "solar = solar.reset_index()\n",
    "solar = solar.sort_values('Average practical potential \\n(PVOUT Level 1, \\nkWh/kWp/day), long-term',ascending=False)\n",
    "\n",
    "i=1\n",
    "for val in solar['Average practical potential \\n(PVOUT Level 1, \\nkWh/kWp/day), long-term'].unique():\n",
    "    solar.loc[solar['Average practical potential \\n(PVOUT Level 1, \\nkWh/kWp/day), long-term']==val,'Ranking'] = i\n",
    "    i = i + 1\n",
    "\n",
    "solar.to_excel('Data/Decarbonization of the power sector/Solar_Potential_v2.xlsx')   "
   ]
  },
  {
   "cell_type": "markdown",
   "metadata": {},
   "source": [
    "#### [Food Supply Animal vs Vegetal](http://www.fao.org/faostat/en/#data/FBS) (Food Supply)"
   ]
  },
  {
   "cell_type": "code",
   "execution_count": 11,
   "metadata": {},
   "outputs": [],
   "source": [
    "calory = pd.read_csv(r'Data\\Food, land-use and natural sink\\Food_Supply_Ani_Vege.csv')\n",
    "calory['Country Code'] = calory['Area'].apply(lambda x : dict_map[x])\n",
    "calory = calory.set_index('Country Code')\n",
    "calory['Country Name'] = iso_to_wb['country']\n",
    "calory = calory.reset_index()\n",
    "\n",
    "calory.to_excel('Data/Food, land-use and natural sink/Food_Supply_Ani_Vege.xlsx')"
   ]
  },
  {
   "cell_type": "markdown",
   "metadata": {},
   "source": [
    "#### [Average supply of protein of animal origin](http://www.fao.org/faostat/en/#data/FS)"
   ]
  },
  {
   "cell_type": "code",
   "execution_count": 185,
   "metadata": {},
   "outputs": [],
   "source": [
    "prot_an = pd.read_excel('Data/Food, land-use and natural sink/Protein_Animal_Origin.xls')\n",
    "prot_an['Year'] = prot_an['Year'].apply(lambda x:x[0:4]).astype(int)\n",
    "prot_an['Country Code'] = prot_an['Area'].apply(lambda x : dict_map[x])\n",
    "prot_an = prot_an.set_index('Country Code')\n",
    "prot_an['Country Name'] = iso_to_wb['country']\n",
    "prot_an = prot_an.reset_index()\n",
    "prot_an = get_latest_year(prot_an)\n",
    "prot_an.to_excel('Data/Food, land-use and natural sink/Protein_Animal_Origin.xlsx')"
   ]
  },
  {
   "cell_type": "markdown",
   "metadata": {},
   "source": [
    "#### [Rice Consumption](http://www.fao.org/faostat/en/#data/SD) g/capita/day"
   ]
  },
  {
   "cell_type": "code",
   "execution_count": 197,
   "metadata": {},
   "outputs": [],
   "source": [
    "rice = pd.read_excel('Data/Food, land-use and natural sink/Rice_Milled_Quantity.xls')\n",
    "\n",
    "rice['Country Code'] = rice['Area'].apply(lambda x : dict_map[x])\n",
    "rice = rice.set_index('Country Code')\n",
    "rice['Country Name'] = iso_to_wb['country']\n",
    "rice = rice.reset_index()\n",
    "\n",
    "rice = get_latest_year(rice)\n",
    "\n",
    "rice.to_excel('Data/Food, land-use and natural sink/Rice_Milled_food_supply.xlsx')"
   ]
  },
  {
   "cell_type": "markdown",
   "metadata": {},
   "source": [
    "#### GHG emissions from food systems, by gas - EDGAR Food Dataset"
   ]
  },
  {
   "cell_type": "code",
   "execution_count": 134,
   "metadata": {},
   "outputs": [],
   "source": [
    "edg = pd.read_excel('Data/Food, land-use and natural sink/EDGAR-FOOD_data.xlsx',\n",
    "                    sheet_name='Table S7-FOOD emi by sector ',skiprows=2)\n",
    "edg = edg.set_index('Country_code_A3')\n",
    "edg['Country Name'] = iso_to_wb['country']\n",
    "edg = edg.reset_index()\n",
    "edg = pd.DataFrame(edg.set_index(['Country_code_A3','Name','C_group_IM24_sh','dev_country','Substance','FOOD_system_stage','Country Name']).stack()).reset_index()\n",
    "edg.columns = ['Country_code_A3','Name','C_group_IM24_sh','dev_country','Substance','FOOD_system_stage','Country Name','Year','Value']\n",
    "edg['Year'] = edg['Year'].apply(lambda x:x[2:])\n",
    "edg['Year'] = edg['Year'].astype(int)\n",
    "edg.reset_index().to_excel('Data/Food, land-use and natural sink/EDGAR_FOOD_data.xlsx')"
   ]
  },
  {
   "cell_type": "markdown",
   "metadata": {},
   "source": [
    "#### [Proportion of informal employment](https://unstats-undesa.opendata.arcgis.com/datasets/72beed0fca924d31988b49ba180227ba?geometry=-141.813%2C-22.457%2C95.315%2C35.867) via https://country-profiles.unstatshub.org/pak#goal-8"
   ]
  },
  {
   "cell_type": "code",
   "execution_count": 183,
   "metadata": {},
   "outputs": [],
   "source": [
    "r = requests.get(\"https://services7.arcgis.com/gp50Ao2knMlOM89z/arcgis/rest/services/SL_ISV_IFEM_8_3_1_2020Q2G03/FeatureServer/0/query?where=1%3D1&outFields=*&outSR=4326&f=json\")\n",
    "x = r.json()\n",
    "\n",
    "inf_emp = pd.DataFrame.from_dict([x['features'][i]['attributes'] for i in range(len(x['features']))])\n",
    "inf_emp['Country Code'] = inf_emp['geoAreaName'].apply(lambda x: dict_map[x])\n",
    "inf_emp = inf_emp.set_index('Country Code')\n",
    "inf_emp['Country Name'] = iso_to_wb['country']\n",
    "inf_emp = inf_emp.reset_index()\n",
    "inf_emp.to_excel('Data/Social Profile/Informal_employment.xlsx')"
   ]
  },
  {
   "cell_type": "markdown",
   "metadata": {},
   "source": [
    "#### [Food security index](https://foodsecurityindex.eiu.com/Downloads)\n"
   ]
  },
  {
   "cell_type": "code",
   "execution_count": 187,
   "metadata": {},
   "outputs": [],
   "source": [
    "food = pd.read_excel('Data/Food, land-use and natural sink/GFSI_2019_Dataset_Scores_260121162046.xlsx')\n",
    "food = pd.DataFrame(food.set_index('Series').stack()).reset_index()\n",
    "food.columns = ['Indicator','Country','Value']\n",
    "\n",
    "for a in food.Indicator.unique():\n",
    "    temp = food[food.Indicator==a]\n",
    "    temp = temp.sort_values('Value',ascending=False)\n",
    "    temp['Rank'] = range(1,len(temp)+1)\n",
    "    food.loc[temp.index,'Rank'] = temp['Rank']\n",
    "\n",
    "food['Country code'] = food.Country.apply(lambda x: dict_map[x])\n",
    "food = food.set_index('Country code')\n",
    "food['Country'] = iso_to_wb['country']\n",
    "food.reset_index().to_excel('Data/Food, land-use and natural sink/Food_Security_Index.xlsx')\n",
    "    "
   ]
  },
  {
   "cell_type": "markdown",
   "metadata": {},
   "source": [
    "#### [Ambient and indoor air pollution attributable death rate](https://unstats.un.org/sdgs/indicators/database/)"
   ]
  },
  {
   "cell_type": "code",
   "execution_count": 219,
   "metadata": {},
   "outputs": [],
   "source": [
    "r = requests.get(\"https://services7.arcgis.com/gp50Ao2knMlOM89z/arcgis/rest/services/SH_AAP_ASMORT_3_9_1_2020Q2G03/FeatureServer/0/query?where=1%3D1&outFields=*&outSR=4326&f=json\")\n",
    "x = r.json()\n",
    "\n",
    "ambient_air = pd.DataFrame.from_dict([x['features'][i]['attributes'] for i in range(len(x['features']))])\n",
    "ambient_air = ambient_air.sort_values('latest_value')\n",
    "i=1\n",
    "for val in ambient_air['latest_value'].unique():\n",
    "    ambient_air.loc[ambient_air['latest_value']==val,'Ranking'] = i\n",
    "    i = i + 1\n",
    "    \n",
    "r = requests.get(\"https://services7.arcgis.com/gp50Ao2knMlOM89z/arcgis/rest/services/SH_HAP_ASMORT_3_9_1_2020Q2G03/FeatureServer/0/query?where=1%3D1&outFields=*&outSR=4326&f=json\")\n",
    "x = r.json()\n",
    "\n",
    "household_air = pd.DataFrame.from_dict([x['features'][i]['attributes'] for i in range(len(x['features']))])\n",
    "household_air = household_air.sort_values('latest_value')\n",
    "i=1\n",
    "for val in household_air['latest_value'].unique():\n",
    "    household_air.loc[household_air['latest_value']==val,'Ranking'] = i\n",
    "    i = i + 1\n",
    "\n",
    "pollution = ambient_air.append(household_air)\n",
    "pollution['Country Code'] = pollution['geoAreaName'].apply(lambda x : dict_map[x])\n",
    "pollution = pollution.set_index('Country Code')\n",
    "pollution['Country Name'] = iso_to_wb['country']\n",
    "pollution = pollution.reset_index()\n",
    "pollution.to_excel('Data/Managing the transition/Ambient_Indoor_Air_Pollution_stack.xlsx')"
   ]
  },
  {
   "cell_type": "markdown",
   "metadata": {},
   "source": [
    "#### [Trade_in_environmental_goods](https://climatedata.imf.org/pages/bp-indicators)"
   ]
  },
  {
   "cell_type": "code",
   "execution_count": 476,
   "metadata": {},
   "outputs": [],
   "source": [
    "trade = pd.read_csv('Data/Efficiency of sectors/Trade_in_environmental_goods.csv')\n",
    "\n",
    "trade = trade.drop(['ISO2','Code','ObjectId'],axis=1)\n",
    "trade = trade.set_index('ISO3')\n",
    "trade['Country'] = iso_to_wb['country']\n",
    "trade = trade.reset_index()\n",
    "trade = pd.DataFrame(trade.set_index(['ISO3','Country','Indicator','Unit']).stack()).reset_index()\n",
    "trade.columns = ['ISO3','Country','Indicator','Unit','Year','Value']\n",
    "trade = trade[trade.Unit!='US Dollars']\n",
    "trade['Year'] = trade['Year'].apply(lambda x:x[1:]).astype(int)\n",
    "trade.to_excel('Data/Efficiency of sectors/Trade_in_environmental_goods_stack.xlsx')"
   ]
  },
  {
   "cell_type": "markdown",
   "metadata": {},
   "source": [
    "#### [Animal Food supply](http://www.fao.org/faostat/en/#data/CL) & [Crops Food supply](http://www.fao.org/faostat/en/#data/CC)\n",
    "Food supply(kcal/capita/day)"
   ]
  },
  {
   "cell_type": "code",
   "execution_count": 224,
   "metadata": {},
   "outputs": [],
   "source": [
    "animal = pd.read_excel('Data/Food, land-use and natural sink/FAOSTAT_Animal_Food_Supply.xls')\n",
    "animal = animal[~animal.Country.isin(['Netherlands Antilles (former)','Serbia and Montenegro','Sudan (former)'])]\n",
    "animal['Country Code'] = animal['Country'].apply(lambda x : dict_map[x])\n",
    "animal = animal.set_index('Country Code')\n",
    "animal['Country Name'] = iso_to_wb['country']\n",
    "\n",
    "animal = animal.reset_index()\n",
    "animal = animal[['Country Code','Country Name','Element','Item','Year','Value']]\n",
    "animal = animal.groupby(['Country Code','Country Name','Element','Year']).sum().reset_index()\n",
    "animal['Type'] = 'Livestock and Fish Primary Equivalent'\n",
    "\n",
    "crops = pd.read_csv('Data/Food, land-use and natural sink/FAOSTAT_Crops_Food_Supply.csv')\n",
    "crops = crops[~crops.Country.isin(['Netherlands Antilles (former)','Serbia and Montenegro','Sudan (former)'])]\n",
    "crops['Country Code'] = crops['Country'].apply(lambda x : dict_map[x])\n",
    "crops = crops.set_index('Country Code')\n",
    "crops['Country Name'] = iso_to_wb['country']\n",
    "\n",
    "crops = crops.reset_index()\n",
    "crops = crops[['Country Code','Country Name','Element','Item','Year','Value']]\n",
    "crops = crops.groupby(['Country Code','Country Name','Element','Year']).sum().reset_index()\n",
    "crops['Type'] = 'Crops Primary Equivalent'\n",
    "\n",
    "food_supply = animal.append(crops)\n",
    "food_supply.to_excel('Data/Food, land-use and natural sink/Food_supply_Ani_Crops.xlsx')"
   ]
  },
  {
   "cell_type": "markdown",
   "metadata": {},
   "source": [
    "#### [Undernutrition](http://www.fao.org/faostat/en/#data/FS)"
   ]
  },
  {
   "cell_type": "code",
   "execution_count": 179,
   "metadata": {},
   "outputs": [],
   "source": [
    "under = pd.read_csv('Data/Food, land-use and natural sink/Nutrition Children.csv')\n",
    "under = under.rename(columns={'Area':'Country Name'})\n",
    "under['Country Code'] = under['Country Name'].apply(lambda x:dict_map[x])\n",
    "under = under.set_index('Country Code')\n",
    "under['Country Name'] = iso_to_wb['country']\n",
    "under = under.reset_index()\n",
    "\n",
    "undernouri = under[under.Item=='Prevalence of undernourishment (percent) (3-year average)']\n",
    "stun = under[under.Item!='Prevalence of undernourishment (percent) (3-year average)']\n",
    "stun = get_latest_year(stun)\n",
    "stun['Value'] = stun['Value'].astype(float)\n",
    "stun = stun.sort_values('Value',ascending=True)\n",
    "\n",
    "i=1\n",
    "for val in stun['Value'].unique():\n",
    "    stun.loc[stun['Value']==val,'Ranking'] = i\n",
    "    i = i + 1\n",
    "\n",
    "undernouri = undernouri.dropna(subset=['Value'])\n",
    "undernouri = undernouri[undernouri.Value!='<2.5']\n",
    "undernouri['Year'] = undernouri['Year'].apply(lambda x:x[:4])\n",
    "undernouri = get_latest_year(undernouri)\n",
    "\n",
    "undernouri['Value'] = undernouri['Value'].astype(float)\n",
    "undernouri = undernouri.sort_values('Value',ascending=True)\n",
    "\n",
    "i=1\n",
    "for val in undernouri['Value'].unique():\n",
    "    undernouri.loc[undernouri['Value']==val,'Ranking'] = i\n",
    "    i = i + 1\n",
    "\n",
    "undernouri = undernouri.append(stun)\n",
    "undernouri.to_excel('Data/Food, land-use and natural sink/Nutrition_Children.xlsx')"
   ]
  },
  {
   "cell_type": "markdown",
   "metadata": {},
   "source": [
    "#### [PRINDEX](https://www.prindex.net/data/)"
   ]
  },
  {
   "cell_type": "code",
   "execution_count": 88,
   "metadata": {},
   "outputs": [],
   "source": [
    "prindex = pd.read_csv('Data/PRINDEX.csv')\n",
    "prindex = prindex[~prindex.Name.isin(['Kosovo','Northern Cyprus'])]\n",
    "prindex['Country Code'] = prindex.Name.apply(lambda x:dict_map[x])\n",
    "prindex = prindex.set_index('Country Code')\n",
    "prindex['Country Name'] = iso_to_wb['country']\n",
    "prindex = prindex.reset_index()\n",
    "prindex = prindex.drop(['Name','ISO Numeric Code'],axis=1)\n",
    "prindex = pd.DataFrame(prindex.set_index(['Country Code','Country Name']).stack()).reset_index()\n",
    "prindex.columns = ['Country Code','Country Name','Indicator','Value']\n",
    "prindex.to_excel('Data/PRINDEX_Stack.xlsx')"
   ]
  },
  {
   "cell_type": "markdown",
   "metadata": {},
   "source": [
    "#### CPAT Tool - Contact : Stephen John Stretton"
   ]
  },
  {
   "cell_type": "code",
   "execution_count": 156,
   "metadata": {
    "collapsed": true,
    "jupyter": {
     "outputs_hidden": true
    }
   },
   "outputs": [
    {
     "ename": "KeyError",
     "evalue": "\"['Direct economic benefits plus cobenefits (proportion of GDP)', 'Direct economic benefits plus cobenefits (US$bn 2018)', 'Proportional Change in CO2 Emissions Versus Baseline', 'Direct economic benefits (proportion of GDP)'] not in index\"",
     "output_type": "error",
     "traceback": [
      "\u001b[1;31m---------------------------------------------------------------------------\u001b[0m",
      "\u001b[1;31mKeyError\u001b[0m                                  Traceback (most recent call last)",
      "\u001b[1;32m<ipython-input-156-7dea6716e8b1>\u001b[0m in \u001b[0;36m<module>\u001b[1;34m\u001b[0m\n\u001b[0;32m      1\u001b[0m \u001b[0mCPAT_macro\u001b[0m \u001b[1;33m=\u001b[0m \u001b[0mpd\u001b[0m\u001b[1;33m.\u001b[0m\u001b[0mread_excel\u001b[0m\u001b[1;33m(\u001b[0m\u001b[1;34m'Data/CCDR-DataPoints-V0.5_Distribution.xlsx'\u001b[0m\u001b[1;33m,\u001b[0m\u001b[0msheet_name\u001b[0m\u001b[1;33m=\u001b[0m\u001b[1;34m'PresentedTable'\u001b[0m\u001b[1;33m)\u001b[0m\u001b[1;33m\u001b[0m\u001b[1;33m\u001b[0m\u001b[0m\n\u001b[1;32m----> 2\u001b[1;33m CPAT_macro_g = CPAT_macro[['Country','Scenario','Year','Carbon tax (US$2018/tonCO2)','Change In annual CO2 Emissions - (mtCO2)',\n\u001b[0m\u001b[0;32m      3\u001b[0m             \u001b[1;34m'Proportional Change in CO2 Emissions Versus Baseline'\u001b[0m\u001b[1;33m,\u001b[0m\u001b[1;34m'Net Revenues - (US$bn 2018)'\u001b[0m\u001b[1;33m,\u001b[0m\u001b[1;34m'Net Revenues (proportion of GDP)'\u001b[0m\u001b[1;33m,\u001b[0m\u001b[1;33m\u001b[0m\u001b[1;33m\u001b[0m\u001b[0m\n\u001b[0;32m      4\u001b[0m             \u001b[1;34m'Air pollution averted deaths'\u001b[0m\u001b[1;33m,\u001b[0m\u001b[1;34m'Reduction of air pollution deaths'\u001b[0m\u001b[1;33m,\u001b[0m\u001b[1;34m'Direct economic benefits (proportion of GDP)'\u001b[0m\u001b[1;33m,\u001b[0m\u001b[1;33m\u001b[0m\u001b[1;33m\u001b[0m\u001b[0m\n\u001b[0;32m      5\u001b[0m             'Direct economic benefits plus cobenefits (US$bn 2018)','Direct economic benefits plus cobenefits (proportion of GDP)']]\n",
      "\u001b[1;32m~\\Anaconda3\\lib\\site-packages\\pandas\\core\\frame.py\u001b[0m in \u001b[0;36m__getitem__\u001b[1;34m(self, key)\u001b[0m\n\u001b[0;32m   2906\u001b[0m             \u001b[1;32mif\u001b[0m \u001b[0mis_iterator\u001b[0m\u001b[1;33m(\u001b[0m\u001b[0mkey\u001b[0m\u001b[1;33m)\u001b[0m\u001b[1;33m:\u001b[0m\u001b[1;33m\u001b[0m\u001b[1;33m\u001b[0m\u001b[0m\n\u001b[0;32m   2907\u001b[0m                 \u001b[0mkey\u001b[0m \u001b[1;33m=\u001b[0m \u001b[0mlist\u001b[0m\u001b[1;33m(\u001b[0m\u001b[0mkey\u001b[0m\u001b[1;33m)\u001b[0m\u001b[1;33m\u001b[0m\u001b[1;33m\u001b[0m\u001b[0m\n\u001b[1;32m-> 2908\u001b[1;33m             \u001b[0mindexer\u001b[0m \u001b[1;33m=\u001b[0m \u001b[0mself\u001b[0m\u001b[1;33m.\u001b[0m\u001b[0mloc\u001b[0m\u001b[1;33m.\u001b[0m\u001b[0m_get_listlike_indexer\u001b[0m\u001b[1;33m(\u001b[0m\u001b[0mkey\u001b[0m\u001b[1;33m,\u001b[0m \u001b[0maxis\u001b[0m\u001b[1;33m=\u001b[0m\u001b[1;36m1\u001b[0m\u001b[1;33m,\u001b[0m \u001b[0mraise_missing\u001b[0m\u001b[1;33m=\u001b[0m\u001b[1;32mTrue\u001b[0m\u001b[1;33m)\u001b[0m\u001b[1;33m[\u001b[0m\u001b[1;36m1\u001b[0m\u001b[1;33m]\u001b[0m\u001b[1;33m\u001b[0m\u001b[1;33m\u001b[0m\u001b[0m\n\u001b[0m\u001b[0;32m   2909\u001b[0m \u001b[1;33m\u001b[0m\u001b[0m\n\u001b[0;32m   2910\u001b[0m         \u001b[1;31m# take() does not accept boolean indexers\u001b[0m\u001b[1;33m\u001b[0m\u001b[1;33m\u001b[0m\u001b[1;33m\u001b[0m\u001b[0m\n",
      "\u001b[1;32m~\\Anaconda3\\lib\\site-packages\\pandas\\core\\indexing.py\u001b[0m in \u001b[0;36m_get_listlike_indexer\u001b[1;34m(self, key, axis, raise_missing)\u001b[0m\n\u001b[0;32m   1252\u001b[0m             \u001b[0mkeyarr\u001b[0m\u001b[1;33m,\u001b[0m \u001b[0mindexer\u001b[0m\u001b[1;33m,\u001b[0m \u001b[0mnew_indexer\u001b[0m \u001b[1;33m=\u001b[0m \u001b[0max\u001b[0m\u001b[1;33m.\u001b[0m\u001b[0m_reindex_non_unique\u001b[0m\u001b[1;33m(\u001b[0m\u001b[0mkeyarr\u001b[0m\u001b[1;33m)\u001b[0m\u001b[1;33m\u001b[0m\u001b[1;33m\u001b[0m\u001b[0m\n\u001b[0;32m   1253\u001b[0m \u001b[1;33m\u001b[0m\u001b[0m\n\u001b[1;32m-> 1254\u001b[1;33m         \u001b[0mself\u001b[0m\u001b[1;33m.\u001b[0m\u001b[0m_validate_read_indexer\u001b[0m\u001b[1;33m(\u001b[0m\u001b[0mkeyarr\u001b[0m\u001b[1;33m,\u001b[0m \u001b[0mindexer\u001b[0m\u001b[1;33m,\u001b[0m \u001b[0maxis\u001b[0m\u001b[1;33m,\u001b[0m \u001b[0mraise_missing\u001b[0m\u001b[1;33m=\u001b[0m\u001b[0mraise_missing\u001b[0m\u001b[1;33m)\u001b[0m\u001b[1;33m\u001b[0m\u001b[1;33m\u001b[0m\u001b[0m\n\u001b[0m\u001b[0;32m   1255\u001b[0m         \u001b[1;32mreturn\u001b[0m \u001b[0mkeyarr\u001b[0m\u001b[1;33m,\u001b[0m \u001b[0mindexer\u001b[0m\u001b[1;33m\u001b[0m\u001b[1;33m\u001b[0m\u001b[0m\n\u001b[0;32m   1256\u001b[0m \u001b[1;33m\u001b[0m\u001b[0m\n",
      "\u001b[1;32m~\\Anaconda3\\lib\\site-packages\\pandas\\core\\indexing.py\u001b[0m in \u001b[0;36m_validate_read_indexer\u001b[1;34m(self, key, indexer, axis, raise_missing)\u001b[0m\n\u001b[0;32m   1302\u001b[0m             \u001b[1;32mif\u001b[0m \u001b[0mraise_missing\u001b[0m\u001b[1;33m:\u001b[0m\u001b[1;33m\u001b[0m\u001b[1;33m\u001b[0m\u001b[0m\n\u001b[0;32m   1303\u001b[0m                 \u001b[0mnot_found\u001b[0m \u001b[1;33m=\u001b[0m \u001b[0mlist\u001b[0m\u001b[1;33m(\u001b[0m\u001b[0mset\u001b[0m\u001b[1;33m(\u001b[0m\u001b[0mkey\u001b[0m\u001b[1;33m)\u001b[0m \u001b[1;33m-\u001b[0m \u001b[0mset\u001b[0m\u001b[1;33m(\u001b[0m\u001b[0max\u001b[0m\u001b[1;33m)\u001b[0m\u001b[1;33m)\u001b[0m\u001b[1;33m\u001b[0m\u001b[1;33m\u001b[0m\u001b[0m\n\u001b[1;32m-> 1304\u001b[1;33m                 \u001b[1;32mraise\u001b[0m \u001b[0mKeyError\u001b[0m\u001b[1;33m(\u001b[0m\u001b[1;34mf\"{not_found} not in index\"\u001b[0m\u001b[1;33m)\u001b[0m\u001b[1;33m\u001b[0m\u001b[1;33m\u001b[0m\u001b[0m\n\u001b[0m\u001b[0;32m   1305\u001b[0m \u001b[1;33m\u001b[0m\u001b[0m\n\u001b[0;32m   1306\u001b[0m             \u001b[1;31m# we skip the warning on Categorical\u001b[0m\u001b[1;33m\u001b[0m\u001b[1;33m\u001b[0m\u001b[1;33m\u001b[0m\u001b[0m\n",
      "\u001b[1;31mKeyError\u001b[0m: \"['Direct economic benefits plus cobenefits (proportion of GDP)', 'Direct economic benefits plus cobenefits (US$bn 2018)', 'Proportional Change in CO2 Emissions Versus Baseline', 'Direct economic benefits (proportion of GDP)'] not in index\""
     ]
    }
   ],
   "source": [
    "CPAT_macro = pd.read_excel('Data/CCDR-DataPoints-V0.6.xlsx',sheet_name='PresentedTable')\n",
    "CPAT_macro_g = CPAT_macro[['Country','Scenario','Year','Carbon tax (US$2018/tonCO2)','Change In annual CO2 Emissions - (mtCO2)',\n",
    "            'Proportional Change in CO2 Emissions Versus Baseline','Net Revenues - (US$bn 2018)','Net Revenues (proportion of GDP)',\n",
    "            'Air pollution averted deaths','Reduction of air pollution deaths','Direct economic benefits (proportion of GDP)',\n",
    "            'Direct economic benefits plus cobenefits (US$bn 2018)','Direct economic benefits plus cobenefits (proportion of GDP)']]\n",
    "CPAT_macro_g = CPAT_macro_g[~CPAT_macro_g.Country.isin(['West Bank and Gaza','Kosovo'])]\n",
    "\n",
    "CPAT_macro_g['Country Code'] = CPAT_macro_g.Country.apply(lambda x:dict_map[x])\n",
    "CPAT_macro_g = CPAT_macro_g.set_index('Country Code')\n",
    "CPAT_macro_g['Country Name'] = iso_to_wb['country']\n",
    "CPAT_macro_g = CPAT_macro_g.reset_index()\n",
    "CPAT_macro_g = CPAT_macro_g.drop('Country',axis=1)\n",
    "CPAT_macro_g.to_excel('Data/CPAT_macro_un.xlsx')"
   ]
  },
  {
   "cell_type": "code",
   "execution_count": 129,
   "metadata": {},
   "outputs": [],
   "source": [
    "CPAT_red = pd.read_excel('Data/CCDR-DataPoints-V0.5_Distribution.xlsx',sheet_name='DistributionalImpactByDecile')\n",
    "CPAT_red = CPAT_red[CPAT_red['CPAT indicator'].isin(['Relative price impacts on consumption deciles: cash transfer  (% consumption)',\n",
    "       'Relative price impacts on consumption deciles: direct effect  (% consumption)','Relative price impacts on consumption deciles: indirect effect  (% consumption)',\n",
    "       'Relative price impacts on consumption deciles: total effect  (% consumption)'])]\n",
    "CPAT_red = CPAT_red.dropna(subset=['Decile1'])\n",
    "CPAT_red = CPAT_red[['Country','Scenario','CPAT indicator','Decile1', 'Decile2', 'Decile3', 'Decile4', 'Decile5',\n",
    "       'Decile6', 'Decile7', 'Decile8', 'Decile9', 'Decile10']]\n",
    "CPAT_red['Country Code'] = CPAT_red.Country.apply(lambda x:dict_map[x]) \n",
    "CPAT_red = CPAT_red.set_index('Country Code')\n",
    "CPAT_red['Country Name'] = iso_to_wb['country']\n",
    "CPAT_red = CPAT_red.reset_index()\n",
    "CPAT_red = CPAT_red.drop('Country',axis=1)\n",
    "CPAT_red = pd.DataFrame(CPAT_red.set_index(['Country Code','Country Name','Scenario','CPAT indicator']).stack()).reset_index()\n",
    "CPAT_red.columns = ['Country Code','Country Name','Scenario','CPAT indicator','Decile','Value']\n",
    "CPAT_red.to_excel('Data/CPAT_decile_red.xlsx')"
   ]
  },
  {
   "cell_type": "markdown",
   "metadata": {},
   "source": [
    "### Green Finance"
   ]
  },
  {
   "cell_type": "markdown",
   "metadata": {},
   "source": [
    "#### [Green Bonds](https://climatedata.imf.org/pages/fi-indicators)"
   ]
  },
  {
   "cell_type": "code",
   "execution_count": 22,
   "metadata": {},
   "outputs": [],
   "source": [
    "green = pd.read_csv('Data/Green Finance/Green_Bonds_IMF.csv')\n",
    "green = green[green['Country']!='World']\n",
    "green = green.set_index('ISO3')\n",
    "green['Country Name'] = iso_to_wb['country']\n",
    "green = green.reset_index()\n",
    "\n",
    "green = green.drop(['ObjectId','Country','Code','ISO2'],axis=1)\n",
    "green = pd.DataFrame(green.set_index(['Country Name','ISO3','Indicator','Unit','Type_of_Issuer','Use_of_Proceed',\n",
    "                                     'Principal_Currency']).stack()).reset_index()\n",
    "green.columns = ['Country Name','ISO3','Indicator','Unit','Type_of_Issuer','Use_of_Proceed','Principal_Currency',\n",
    "                'Year','Value']\n",
    "green['Year'] = green['Year'].apply(lambda x:x[1:])\n",
    "green.to_excel('Data/Green Finance/Green_Bonds_IMF.xlsx')"
   ]
  },
  {
   "cell_type": "markdown",
   "metadata": {},
   "source": [
    "#### [TCFD](https://www.fsb-tcfd.org/supporters/) "
   ]
  },
  {
   "cell_type": "code",
   "execution_count": 31,
   "metadata": {},
   "outputs": [],
   "source": [
    "tcfd = pd.read_excel('Data/Green Finance/TCFD.xlsx')\n",
    "tcfd = tcfd[~tcfd.Location.isin(['Global','Scotland'])]\n",
    "tcfd['Country Code'] = tcfd.Location.apply(lambda x:dict_map[x])\n",
    "tcfd = tcfd.set_index('Country Code')\n",
    "tcfd['Country Name'] = iso_to_wb['country']\n",
    "tcfd = tcfd.reset_index()\n",
    "tcfd.to_excel('Data/Green Finance/TCFD_v2.xlsx')"
   ]
  },
  {
   "cell_type": "markdown",
   "metadata": {},
   "source": [
    "#### [PRI Signatories](https://www.unpri.org/signatories/signatory-resources/signatory-directory)"
   ]
  },
  {
   "cell_type": "code",
   "execution_count": 42,
   "metadata": {},
   "outputs": [],
   "source": [
    "pri_sign = pd.read_excel('Data/Green Finance/PRI_Signatory_Directory.xlsx')\n",
    "pri_sign['Country Code'] = pri_sign['HQ Country'].apply(lambda x:dict_map[x])\n",
    "pri_sign = pri_sign.set_index('Country Code')\n",
    "pri_sign['Country Name'] = iso_to_wb['country']\n",
    "pri_sign = pri_sign.reset_index()\n",
    "pri_sign.to_excel('Data/Green Finance/PRI_Signatory_Directory_v2.xlsx')"
   ]
  },
  {
   "cell_type": "markdown",
   "metadata": {},
   "source": [
    "#### [UNPRI Regulations](https://www.unpri.org/policy/regulation-database) - Contact within the bank: fstewart1@worldbank.org"
   ]
  },
  {
   "cell_type": "code",
   "execution_count": 26,
   "metadata": {},
   "outputs": [],
   "source": [
    "pri_reg = pd.read_excel('Data/Green Finance/Public Responsible Investment Database.xlsx',skiprows=1)\n",
    "pri_reg['Policy'] = ''\n",
    "for a in ['Corporate ESG disclosure', 'Investor ESG disclosure','Investor ESG Integration', 'Stewardship Code', 'Taxonomy',\n",
    "       'Sector specific policy','Financial products (green bonds, green labels etc.)', 'Other','National Sustainable Finance Strategy']:\n",
    "    pri_reg.loc[pri_reg[a]==1,a] = a + ','\n",
    "    pri_reg[a] = pri_reg[a].fillna('')\n",
    "    pri_reg['Policy'] = pri_reg['Policy'] + ' ' +  pri_reg[a]\n",
    "\n",
    "pri_reg = pri_reg.dropna(subset=['Country'])\n",
    "pri_reg['Country'] = pri_reg['Country'].apply(lambda x:x.rstrip())\n",
    "pri_reg = pri_reg[~pri_reg.Country.isin(['European Union','Global','ASEAN'])]\n",
    "pri_reg['Country Code'] = pri_reg.Country.apply(lambda x:dict_map[x])\n",
    "pri_reg = pri_reg.set_index('Country Code')\n",
    "pri_reg['Country Name'] = iso_to_wb['country']\n",
    "pri_reg = pri_reg.reset_index()\n",
    "pri_reg['Policy'] = pri_reg['Policy'].apply(lambda x:\" \".join(x.split()))\n",
    "pri_reg.loc[pri_reg.Policy=='Investor ESG disclosure, Investor ESG Integration,','Policy'] = 'Investor ESG Integration & Disclosure'\n",
    "pri_reg.loc[pri_reg.Policy=='Corporate ESG disclosure, Investor ESG disclosure, Investor ESG Integration,','Policy'] = 'Investor & Investor ESG Integration & Disclosure'\n",
    "pri_reg.loc[pri_reg.Policy=='Corporate ESG disclosure, Investor ESG disclosure,','Policy'] = 'Corporate & Investor ESG Disclosure'\n",
    "pri_reg.loc[pri_reg.Policy=='Investor ESG disclosure, Investor ESG Integration, National Sustainable Finance Strategy,','Policy'] = 'Investor ESG disclosure & Integration, National Sustainable Finance Strategy,'\n",
    "pri_reg.loc[pri_reg.Policy=='Investor ESG disclosure, Investor ESG Integration, Stewardship Code,','Policy'] = 'Investor ESG disclosure & Integration, Stewardship Code,'\n",
    "pri_reg.loc[pri_reg.Policy=='Corporate ESG disclosure, Investor ESG disclosure, Financial products (green bonds, green labels etc.), National Sustainable Finance Strategy,','Policy'] = 'Corporate & Investor ESG disclosure, Financial products (green bonds, green labels etc.), National Sustainable Finance Strategy,'\n",
    "pri_reg['Policy'] = pri_reg['Policy'].apply(lambda x:x.rstrip(','))\n",
    "pri_reg.to_excel('Data/Green Finance/PRI_Regulations_v2.xlsx')"
   ]
  },
  {
   "cell_type": "markdown",
   "metadata": {},
   "source": [
    "#### [ACLED](https://acleddata.com/data-export-tool/) Need to register and create Acess Key  2018 - 2021\n",
    "[Administrative Boundaries Level 1](http://worldmap.harvard.edu/data/geonode:g2008_1)"
   ]
  },
  {
   "cell_type": "code",
   "execution_count": 5,
   "metadata": {},
   "outputs": [],
   "source": [
    "import geopandas as gpd\n",
    "\n",
    "acled = pd.read_csv('Data/ACLED.csv',sep=';')\n",
    "acled_group = acled.groupby(['iso3','admin2','event_type','sub_event_type','location','latitude','longitude']).count()[['data_id']]\n",
    "acled_group.columns = ['Number of events']\n",
    "acled_group = acled_group.reset_index()\n",
    "gdf = gpd.GeoDataFrame(\n",
    "    acled_group, geometry=gpd.points_from_xy(acled_group.longitude, acled_group.latitude),crs=4326)\n",
    "gdf = gdf.set_index('iso3')\n",
    "gdf['Country Name'] = iso_to_wb['country']\n",
    "gdf = gdf.reset_index()\n",
    "gdf['line'] = ['A_%s'%ind for ind in gdf.index]\n",
    "gdf.to_file('Data/Geo/ACLED1.shp')"
   ]
  },
  {
   "cell_type": "markdown",
   "metadata": {},
   "source": [
    "#### Employment Multipliers - Source: PURDUE University Contact Person : nlozano@worldbank.org"
   ]
  },
  {
   "cell_type": "code",
   "execution_count": 45,
   "metadata": {},
   "outputs": [],
   "source": [
    "purdue_demand = pd.read_excel(\"Data/Social Profile/d_Multipliers.xlsx\",sheet_name='Employment_pertype')\n",
    "purdue_demand = purdue_demand.groupby(['REG','SHOCKED_COMM']).sum()\n",
    "purdue_demand = purdue_demand.reset_index()\n",
    "\n",
    "purdue_demand.columns = ['Country Code','Sector','Value']\n",
    "purdue_demand['Country Code'] = purdue_demand['Country Code'].str.upper()\n",
    "\n",
    "purdue_CO2 = pd.read_excel(\"Data/Social Profile/d_CO2emission_FT.xlsx\",sheet_name='co2e')\n",
    "purdue_CO2['Value'] = purdue_CO2['Value'] / 1000\n",
    "\n",
    "purdue_CO2.columns = ['Country Code','Sector','GHG','Value']\n",
    "purdue_CO2['Country Code'] = purdue_CO2['Country Code'].str.upper()\n",
    "\n",
    "purdue_CO2 = purdue_CO2.set_index(['Country Code','Sector'])\n",
    "purdue_demand = purdue_demand.set_index(['Country Code','Sector'])\n",
    "\n",
    "purdue_demand['GHG'] = purdue_CO2['Value']\n",
    "\n",
    "purdue_demand = purdue_demand.reset_index().dropna()\n",
    "purdue_demand.columns = ['Country Code','Sector','Total Employment','GHG']\n",
    "purdue_demand = purdue_demand.set_index('Country Code')\n",
    "purdue_demand['Country Name'] = iso_to_wb['country']\n",
    "purdue_demand.reset_index().to_excel('Data/Social Profile/Employment_GHG.xlsx')"
   ]
  },
  {
   "cell_type": "markdown",
   "metadata": {},
   "source": [
    "#### Employment Skills - [Skills Classification](https://ilostat.ilo.org/resources/concepts-and-definitions/classification-occupation/)"
   ]
  },
  {
   "cell_type": "code",
   "execution_count": 47,
   "metadata": {},
   "outputs": [
    {
     "name": "stderr",
     "output_type": "stream",
     "text": [
      "<ipython-input-47-1156467e9b15>:12: SettingWithCopyWarning: \n",
      "A value is trying to be set on a copy of a slice from a DataFrame.\n",
      "Try using .loc[row_indexer,col_indexer] = value instead\n",
      "\n",
      "See the caveats in the documentation: https://pandas.pydata.org/pandas-docs/stable/user_guide/indexing.html#returning-a-view-versus-a-copy\n",
      "  purdue_skills_low['LAB'] = 'Low Skilled'\n"
     ]
    }
   ],
   "source": [
    "purdue_skills = pd.read_excel(\"Data/Social Profile/d_Multipliers.xlsx\",sheet_name='Employment_perskills')\n",
    "\n",
    "purdue_skills_high = purdue_skills[purdue_skills['LAB'].isin(['tech_aspros','off_mgr_pros'])]\n",
    "purdue_skills_high = purdue_skills_high.groupby(['REG','SHOCKED_COMM']).sum().reset_index()\n",
    "purdue_skills_high['LAB'] = 'High Skilled'\n",
    "\n",
    "purdue_skills_med = purdue_skills[purdue_skills['LAB'].isin(['clerks','service_shop'])]\n",
    "purdue_skills_med = purdue_skills_med.groupby(['REG','SHOCKED_COMM']).sum().reset_index()\n",
    "purdue_skills_med['LAB'] = 'Medium Skilled'\n",
    "\n",
    "purdue_skills_low = purdue_skills[purdue_skills['LAB']=='ag_othlowsk']\n",
    "purdue_skills_low['LAB'] = 'Low Skilled'\n",
    "\n",
    "purdue_skills_full = purdue_skills_high.append(purdue_skills_med).append(purdue_skills_low)\n",
    "purdue_skills_full.columns = ['Country Code','Sector','Value','Skill Level']\n",
    "purdue_skills_full['Country Code'] = purdue_skills_full['Country Code'].str.upper()\n",
    "purdue_skills_full = purdue_skills_full.set_index('Country Code')\n",
    "purdue_skills_full['Country Name'] = iso_to_wb['country']\n",
    "purdue_skills_full.reset_index().to_excel('Data/Social Profile/Employment_skills.xlsx')"
   ]
  },
  {
   "cell_type": "markdown",
   "metadata": {},
   "source": [
    "#### [Total Government Gross Debt](https://data.imf.org/regular.aspx?key=60214266) <font color='red'>Not all countries available</font>\n"
   ]
  },
  {
   "cell_type": "markdown",
   "metadata": {},
   "source": [
    "#### [Credit rating](https://countryeconomy.com/ratings) <font color='red'>Painful to download the data\n",
    "</font>\n",
    " "
   ]
  }
 ],
 "metadata": {
  "kernelspec": {
   "display_name": "Python 3",
   "language": "python",
   "name": "python3"
  },
  "language_info": {
   "codemirror_mode": {
    "name": "ipython",
    "version": 3
   },
   "file_extension": ".py",
   "mimetype": "text/x-python",
   "name": "python",
   "nbconvert_exporter": "python",
   "pygments_lexer": "ipython3",
   "version": "3.8.8"
  }
 },
 "nbformat": 4,
 "nbformat_minor": 4
}
